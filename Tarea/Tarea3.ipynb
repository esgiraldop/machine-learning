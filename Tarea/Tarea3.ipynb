{
  "nbformat": 4,
  "nbformat_minor": 0,
  "metadata": {
    "colab": {
      "name": "Tarea3.ipynb",
      "provenance": [],
      "collapsed_sections": [],
      "include_colab_link": true
    },
    "kernelspec": {
      "name": "python3",
      "display_name": "Python 3"
    }
  },
  "cells": [
    {
      "cell_type": "markdown",
      "metadata": {
        "id": "view-in-github",
        "colab_type": "text"
      },
      "source": [
        "<a href=\"https://colab.research.google.com/github/esgiraldop/machine-learning/blob/master/Tarea/Tarea3.ipynb\" target=\"_parent\"><img src=\"https://colab.research.google.com/assets/colab-badge.svg\" alt=\"Open In Colab\"/></a>"
      ]
    },
    {
      "cell_type": "code",
      "metadata": {
        "id": "0MmiU32KPePh",
        "colab_type": "code",
        "outputId": "27949507-db5a-4ddd-bc0b-8b14a89d8a6e",
        "colab": {
          "base_uri": "https://localhost:8080/",
          "height": 34
        }
      },
      "source": [
        "#To mount drive for workspace. \n",
        "from google.colab import drive\n",
        "\n",
        "#This will prompt for authorization.\n",
        "drive.mount('/content/drive/')\n"
      ],
      "execution_count": 0,
      "outputs": [
        {
          "output_type": "stream",
          "text": [
            "Drive already mounted at /content/drive/; to attempt to forcibly remount, call drive.mount(\"/content/drive/\", force_remount=True).\n"
          ],
          "name": "stdout"
        }
      ]
    },
    {
      "cell_type": "code",
      "metadata": {
        "id": "IOPyctipPkAx",
        "colab_type": "code",
        "colab": {}
      },
      "source": [
        "import numpy as np\n",
        "import matplotlib.pyplot as plt\n",
        "import pandas as pd\n",
        "from sklearn.model_selection import train_test_split\n",
        "from sklearn.linear_model import LinearRegression\n",
        "from sklearn.metrics import mean_squared_error\n",
        "from sklearn.ensemble import RandomForestRegressor\n",
        "from sklearn.svm import SVR\n",
        "from mpl_toolkits.mplot3d import Axes3D  # importing the packege for 3D plots\n",
        "from sklearn import decomposition # importing the pca package"
      ],
      "execution_count": 0,
      "outputs": []
    },
    {
      "cell_type": "code",
      "metadata": {
        "id": "m4XbENIXQB2W",
        "colab_type": "code",
        "outputId": "6a12d025-7ae5-474f-9f9d-bb6115daa657",
        "colab": {
          "base_uri": "https://localhost:8080/",
          "height": 434
        }
      },
      "source": [
        "path_to_datos = '/content/drive/My Drive/CursoMLAvanzado/Estudiantes/Luis-Vesga-Erick-Giraldo/Tarea 2/machine.csv';\n",
        "\n",
        "cpuData = pd.read_csv(path_to_datos, header = None, sep = ',', \n",
        "                         names = ['vendorName','modelName','MYCT',\n",
        "                                  'MMIN','MMAX','CACH','CHMIN','CHMAX','PRP',\n",
        "                                  'ERP'])\n",
        "cpuData.info()\n",
        "cpuData.describe(include='O')"
      ],
      "execution_count": 0,
      "outputs": [
        {
          "output_type": "stream",
          "text": [
            "<class 'pandas.core.frame.DataFrame'>\n",
            "RangeIndex: 209 entries, 0 to 208\n",
            "Data columns (total 10 columns):\n",
            "vendorName    209 non-null object\n",
            "modelName     209 non-null object\n",
            "MYCT          209 non-null int64\n",
            "MMIN          209 non-null int64\n",
            "MMAX          209 non-null int64\n",
            "CACH          209 non-null int64\n",
            "CHMIN         209 non-null int64\n",
            "CHMAX         209 non-null int64\n",
            "PRP           209 non-null int64\n",
            "ERP           209 non-null int64\n",
            "dtypes: int64(8), object(2)\n",
            "memory usage: 16.5+ KB\n"
          ],
          "name": "stdout"
        },
        {
          "output_type": "execute_result",
          "data": {
            "text/html": [
              "<div>\n",
              "<style scoped>\n",
              "    .dataframe tbody tr th:only-of-type {\n",
              "        vertical-align: middle;\n",
              "    }\n",
              "\n",
              "    .dataframe tbody tr th {\n",
              "        vertical-align: top;\n",
              "    }\n",
              "\n",
              "    .dataframe thead th {\n",
              "        text-align: right;\n",
              "    }\n",
              "</style>\n",
              "<table border=\"1\" class=\"dataframe\">\n",
              "  <thead>\n",
              "    <tr style=\"text-align: right;\">\n",
              "      <th></th>\n",
              "      <th>vendorName</th>\n",
              "      <th>modelName</th>\n",
              "    </tr>\n",
              "  </thead>\n",
              "  <tbody>\n",
              "    <tr>\n",
              "      <th>count</th>\n",
              "      <td>209</td>\n",
              "      <td>209</td>\n",
              "    </tr>\n",
              "    <tr>\n",
              "      <th>unique</th>\n",
              "      <td>30</td>\n",
              "      <td>209</td>\n",
              "    </tr>\n",
              "    <tr>\n",
              "      <th>top</th>\n",
              "      <td>ibm</td>\n",
              "      <td>microvax-1</td>\n",
              "    </tr>\n",
              "    <tr>\n",
              "      <th>freq</th>\n",
              "      <td>32</td>\n",
              "      <td>1</td>\n",
              "    </tr>\n",
              "  </tbody>\n",
              "</table>\n",
              "</div>"
            ],
            "text/plain": [
              "       vendorName   modelName\n",
              "count         209         209\n",
              "unique         30         209\n",
              "top           ibm  microvax-1\n",
              "freq           32           1"
            ]
          },
          "metadata": {
            "tags": []
          },
          "execution_count": 3
        }
      ]
    },
    {
      "cell_type": "markdown",
      "metadata": {
        "id": "sbDqtS5nHsuJ",
        "colab_type": "text"
      },
      "source": [
        "#Preprocesamiento"
      ]
    },
    {
      "cell_type": "code",
      "metadata": {
        "id": "o807XyDUQNlr",
        "colab_type": "code",
        "colab": {}
      },
      "source": [
        "#Copying ERP colum into a seperate dataframe\n",
        "data_ERP =  cpuData[cpuData.columns[-1]]\n",
        "data_ERP.head()\n",
        "#Dropping ERP column\n",
        "cpuData = cpuData.drop(['ERP'], axis=1)"
      ],
      "execution_count": 0,
      "outputs": []
    },
    {
      "cell_type": "code",
      "metadata": {
        "id": "TjAMsdPdQqG8",
        "colab_type": "code",
        "colab": {}
      },
      "source": [
        "# Encoding of categorical data.\n",
        "cpuData[\"vendorName\"] = cpuData[\"vendorName\"].astype('category').cat.codes\n",
        "cpuData[\"modelName\"] = cpuData[\"modelName\"].astype('category').cat.codes"
      ],
      "execution_count": 0,
      "outputs": []
    },
    {
      "cell_type": "code",
      "metadata": {
        "id": "1jCSTXeRQqiA",
        "colab_type": "code",
        "colab": {}
      },
      "source": [
        "(cpuData[['MYCT','MMIN','MMAX','CACH','CHMIN','CHMAX','PRP']]).apply(lambda column: (column<= 0).sum())\n",
        "cpuData['CACH'] = cpuData['CACH']+1\n",
        "cpuData['CHMIN'] = cpuData['CHMIN']+1\n",
        "cpuData['CHMAX'] = cpuData['CHMAX'] +1\n",
        "(cpuData[['MYCT','MMIN','MMAX','CACH','CHMIN','CHMAX','PRP']]).apply(lambda column: (column<= 0).sum())\n",
        "cpuDataSt = np.log(cpuData[['MYCT','MMIN','MMAX','CACH','CHMIN','CHMAX','PRP']])\n",
        "cpuDataSt['vendorName'] = cpuData['vendorName']\n",
        "cpuDataSt['modelName'] = cpuData['modelName']"
      ],
      "execution_count": 0,
      "outputs": []
    },
    {
      "cell_type": "code",
      "metadata": {
        "id": "GzOASSkxQsnO",
        "colab_type": "code",
        "outputId": "217ef980-d226-4fda-e65a-c32bbd4e8697",
        "colab": {
          "base_uri": "https://localhost:8080/",
          "height": 347
        }
      },
      "source": [
        "cpuDataSt.head(10)"
      ],
      "execution_count": 0,
      "outputs": [
        {
          "output_type": "execute_result",
          "data": {
            "text/html": [
              "<div>\n",
              "<style scoped>\n",
              "    .dataframe tbody tr th:only-of-type {\n",
              "        vertical-align: middle;\n",
              "    }\n",
              "\n",
              "    .dataframe tbody tr th {\n",
              "        vertical-align: top;\n",
              "    }\n",
              "\n",
              "    .dataframe thead th {\n",
              "        text-align: right;\n",
              "    }\n",
              "</style>\n",
              "<table border=\"1\" class=\"dataframe\">\n",
              "  <thead>\n",
              "    <tr style=\"text-align: right;\">\n",
              "      <th></th>\n",
              "      <th>MYCT</th>\n",
              "      <th>MMIN</th>\n",
              "      <th>MMAX</th>\n",
              "      <th>CACH</th>\n",
              "      <th>CHMIN</th>\n",
              "      <th>CHMAX</th>\n",
              "      <th>PRP</th>\n",
              "      <th>vendorName</th>\n",
              "      <th>modelName</th>\n",
              "    </tr>\n",
              "  </thead>\n",
              "  <tbody>\n",
              "    <tr>\n",
              "      <th>0</th>\n",
              "      <td>4.828314</td>\n",
              "      <td>5.545177</td>\n",
              "      <td>8.699515</td>\n",
              "      <td>5.549076</td>\n",
              "      <td>2.833213</td>\n",
              "      <td>4.859812</td>\n",
              "      <td>5.288267</td>\n",
              "      <td>0</td>\n",
              "      <td>29</td>\n",
              "    </tr>\n",
              "    <tr>\n",
              "      <th>1</th>\n",
              "      <td>3.367296</td>\n",
              "      <td>8.987197</td>\n",
              "      <td>10.373491</td>\n",
              "      <td>3.496508</td>\n",
              "      <td>2.197225</td>\n",
              "      <td>3.496508</td>\n",
              "      <td>5.594711</td>\n",
              "      <td>1</td>\n",
              "      <td>62</td>\n",
              "    </tr>\n",
              "    <tr>\n",
              "      <th>2</th>\n",
              "      <td>3.367296</td>\n",
              "      <td>8.987197</td>\n",
              "      <td>10.373491</td>\n",
              "      <td>3.496508</td>\n",
              "      <td>2.197225</td>\n",
              "      <td>3.496508</td>\n",
              "      <td>5.393628</td>\n",
              "      <td>1</td>\n",
              "      <td>63</td>\n",
              "    </tr>\n",
              "    <tr>\n",
              "      <th>3</th>\n",
              "      <td>3.367296</td>\n",
              "      <td>8.987197</td>\n",
              "      <td>10.373491</td>\n",
              "      <td>3.496508</td>\n",
              "      <td>2.197225</td>\n",
              "      <td>3.496508</td>\n",
              "      <td>5.147494</td>\n",
              "      <td>1</td>\n",
              "      <td>64</td>\n",
              "    </tr>\n",
              "    <tr>\n",
              "      <th>4</th>\n",
              "      <td>3.367296</td>\n",
              "      <td>8.987197</td>\n",
              "      <td>9.680344</td>\n",
              "      <td>3.496508</td>\n",
              "      <td>2.197225</td>\n",
              "      <td>2.833213</td>\n",
              "      <td>4.882802</td>\n",
              "      <td>1</td>\n",
              "      <td>65</td>\n",
              "    </tr>\n",
              "    <tr>\n",
              "      <th>5</th>\n",
              "      <td>3.258097</td>\n",
              "      <td>8.987197</td>\n",
              "      <td>10.373491</td>\n",
              "      <td>4.174387</td>\n",
              "      <td>2.197225</td>\n",
              "      <td>3.496508</td>\n",
              "      <td>5.762051</td>\n",
              "      <td>1</td>\n",
              "      <td>66</td>\n",
              "    </tr>\n",
              "    <tr>\n",
              "      <th>6</th>\n",
              "      <td>3.135494</td>\n",
              "      <td>9.680344</td>\n",
              "      <td>10.373491</td>\n",
              "      <td>4.174387</td>\n",
              "      <td>2.833213</td>\n",
              "      <td>3.496508</td>\n",
              "      <td>5.905362</td>\n",
              "      <td>1</td>\n",
              "      <td>74</td>\n",
              "    </tr>\n",
              "    <tr>\n",
              "      <th>7</th>\n",
              "      <td>3.135494</td>\n",
              "      <td>9.680344</td>\n",
              "      <td>10.373491</td>\n",
              "      <td>4.174387</td>\n",
              "      <td>2.833213</td>\n",
              "      <td>3.496508</td>\n",
              "      <td>6.192362</td>\n",
              "      <td>1</td>\n",
              "      <td>75</td>\n",
              "    </tr>\n",
              "    <tr>\n",
              "      <th>8</th>\n",
              "      <td>3.135494</td>\n",
              "      <td>9.680344</td>\n",
              "      <td>11.066638</td>\n",
              "      <td>4.174387</td>\n",
              "      <td>2.833213</td>\n",
              "      <td>3.496508</td>\n",
              "      <td>6.455199</td>\n",
              "      <td>1</td>\n",
              "      <td>76</td>\n",
              "    </tr>\n",
              "    <tr>\n",
              "      <th>9</th>\n",
              "      <td>3.135494</td>\n",
              "      <td>10.373491</td>\n",
              "      <td>11.066638</td>\n",
              "      <td>4.859812</td>\n",
              "      <td>3.496508</td>\n",
              "      <td>4.174387</td>\n",
              "      <td>7.042286</td>\n",
              "      <td>1</td>\n",
              "      <td>77</td>\n",
              "    </tr>\n",
              "  </tbody>\n",
              "</table>\n",
              "</div>"
            ],
            "text/plain": [
              "       MYCT       MMIN       MMAX  ...       PRP  vendorName  modelName\n",
              "0  4.828314   5.545177   8.699515  ...  5.288267           0         29\n",
              "1  3.367296   8.987197  10.373491  ...  5.594711           1         62\n",
              "2  3.367296   8.987197  10.373491  ...  5.393628           1         63\n",
              "3  3.367296   8.987197  10.373491  ...  5.147494           1         64\n",
              "4  3.367296   8.987197   9.680344  ...  4.882802           1         65\n",
              "5  3.258097   8.987197  10.373491  ...  5.762051           1         66\n",
              "6  3.135494   9.680344  10.373491  ...  5.905362           1         74\n",
              "7  3.135494   9.680344  10.373491  ...  6.192362           1         75\n",
              "8  3.135494   9.680344  11.066638  ...  6.455199           1         76\n",
              "9  3.135494  10.373491  11.066638  ...  7.042286           1         77\n",
              "\n",
              "[10 rows x 9 columns]"
            ]
          },
          "metadata": {
            "tags": []
          },
          "execution_count": 7
        }
      ]
    },
    {
      "cell_type": "code",
      "metadata": {
        "id": "Bu4tHzcAffFa",
        "colab_type": "code",
        "colab": {}
      },
      "source": [
        "#  X and Y DataFrames.\n",
        "X = cpuDataSt.drop(['PRP','MMIN','CHMIN'], axis=1)\n",
        "Y = cpuDataSt['PRP']"
      ],
      "execution_count": 0,
      "outputs": []
    },
    {
      "cell_type": "markdown",
      "metadata": {
        "id": "fCLgobudHxL1",
        "colab_type": "text"
      },
      "source": [
        "# Modelo Base"
      ]
    },
    {
      "cell_type": "code",
      "metadata": {
        "id": "Lkkq-Ue_HR_J",
        "colab_type": "code",
        "colab": {}
      },
      "source": [
        "# Data split \n",
        "X_train, X_test, y_train, y_test = train_test_split(X, Y, test_size=0.33, random_state=42)"
      ],
      "execution_count": 0,
      "outputs": []
    },
    {
      "cell_type": "code",
      "metadata": {
        "id": "tefWAVj-HT7V",
        "colab_type": "code",
        "outputId": "1ee1b35a-7ac0-45f7-9a2d-5df61aea2857",
        "colab": {
          "base_uri": "https://localhost:8080/",
          "height": 34
        }
      },
      "source": [
        "# Modelo Base\n",
        "clf = LinearRegression()\n",
        "clf.fit(X_train, y_train)\n",
        "predictions = clf.predict(X_test)\n",
        "errors = mean_squared_error(y_test, predictions)\n",
        "# Print out the mean square error (mse)\n",
        "print('Mean square Error:', round(errors, 6))"
      ],
      "execution_count": 0,
      "outputs": [
        {
          "output_type": "stream",
          "text": [
            "Mean square Error: 0.309257\n"
          ],
          "name": "stdout"
        }
      ]
    },
    {
      "cell_type": "markdown",
      "metadata": {
        "id": "9EYtNMITIsfG",
        "colab_type": "text"
      },
      "source": [
        "# Modelos"
      ]
    },
    {
      "cell_type": "code",
      "metadata": {
        "id": "pq_F03l1OzMl",
        "colab_type": "code",
        "outputId": "c49b0c1f-82b0-4a8d-bb3d-6ad039310525",
        "colab": {
          "base_uri": "https://localhost:8080/",
          "height": 34
        }
      },
      "source": [
        "from sklearn import linear_model\n",
        "clf = clf = linear_model.Lasso(alpha=0.1)\n",
        "clf.fit(X_train, y_train);\n",
        "predictions = clf.predict(X_test)\n",
        "errors = mean_squared_error(y_test, predictions)\n",
        "# Print out the mean square error (mse)\n",
        "print('Mean square Error:', round(errors, 6))"
      ],
      "execution_count": 0,
      "outputs": [
        {
          "output_type": "stream",
          "text": [
            "Mean square Error: 0.370177\n"
          ],
          "name": "stdout"
        }
      ]
    },
    {
      "cell_type": "code",
      "metadata": {
        "id": "d2Z7CYZII1Gt",
        "colab_type": "code",
        "outputId": "2b0f2054-7966-4773-ff98-6ffdb5ef214a",
        "colab": {
          "base_uri": "https://localhost:8080/",
          "height": 34
        }
      },
      "source": [
        "clf = SVR(C=1.0, epsilon=0.2)\n",
        "clf.fit(X_train, y_train);\n",
        "predictions = clf.predict(X_test)\n",
        "errors = mean_squared_error(y_test, predictions)\n",
        "# Print out the mean square error (mse)\n",
        "print('Mean square Error:', round(errors, 6))"
      ],
      "execution_count": 0,
      "outputs": [
        {
          "output_type": "stream",
          "text": [
            "Mean square Error: 1.385336\n"
          ],
          "name": "stdout"
        }
      ]
    },
    {
      "cell_type": "markdown",
      "metadata": {
        "id": "U9uimp-3XcNg",
        "colab_type": "text"
      },
      "source": [
        "# Hiperparametos"
      ]
    },
    {
      "cell_type": "code",
      "metadata": {
        "id": "2qHV32VNIxKd",
        "colab_type": "code",
        "outputId": "e582c1f9-5d3c-4c75-efdc-35fb8710822f",
        "colab": {
          "base_uri": "https://localhost:8080/",
          "height": 282
        }
      },
      "source": [
        "A = []\n",
        "vect = [10,20,30,40,50,60,70,80,90,100, 110, 120, 140, 150, 160, 170, 180, 190,200, 210, \n",
        "                220, 240, 250, 260, 270, 280, 290,  300,310, 320, 330, 340, 350, 360, 370, 380, \n",
        "                390, 400, 410, 420, 430, 440, 450, 460, 470, 480, 490, 500, 510, 520, 530, 540, 550, \n",
        "                560, 570, 580, 590, 600, 610, 620, 630, 640, 650, 660, 670, 680, 690, 700,\n",
        "                710, 720, 730, 740, 750, 760, 770, 780, 790, 800,910, 920, 930, 940, 950, 960, 970, 980, 990, 1000,\n",
        "                1020,1040,1060,1080,1090]\n",
        "for i in vect:\n",
        "  rf = RandomForestRegressor(n_estimators = i, random_state = 43, min_samples_split = 2)\n",
        "  # Train the model on training data\n",
        "  rf.fit(X_train, y_train);\n",
        "  predictions = rf.predict(X_test)\n",
        "  errors = mean_squared_error(y_test, predictions)\n",
        "  A.append(errors)\n",
        "\n",
        "plt.plot(vect, A)\n"
      ],
      "execution_count": 0,
      "outputs": [
        {
          "output_type": "execute_result",
          "data": {
            "text/plain": [
              "[<matplotlib.lines.Line2D at 0x7f47cf41d828>]"
            ]
          },
          "metadata": {
            "tags": []
          },
          "execution_count": 13
        },
        {
          "output_type": "display_data",
          "data": {
            "image/png": "[encoded data removed]",
            "text/plain": [
              "<Figure size 432x288 with 1 Axes>"
            ]
          },
          "metadata": {
            "tags": []
          }
        }
      ]
    },
    {
      "cell_type": "code",
      "metadata": {
        "id": "oIbyT9r7Jp6z",
        "colab_type": "code",
        "outputId": "ba801e7d-bde4-4c0f-9685-a136ea7aebad",
        "colab": {
          "base_uri": "https://localhost:8080/",
          "height": 282
        }
      },
      "source": [
        "A = []\n",
        "vect =  [100,200,300,400,500,600,700,800,900,1000,1200, 1400,1600,1800,2000]\n",
        "\n",
        "for i in vect:\n",
        "  rf = RandomForestRegressor(n_estimators = i, random_state = 43, min_samples_split = 4)\n",
        "  # Train the model on training data\n",
        "  rf.fit(X_train, y_train);\n",
        "  predictions = rf.predict(X_test)\n",
        "  errors = mean_squared_error(y_test, predictions)\n",
        "  A.append(errors)\n",
        "\n",
        "plt.plot(vect, A)"
      ],
      "execution_count": 0,
      "outputs": [
        {
          "output_type": "execute_result",
          "data": {
            "text/plain": [
              "[<matplotlib.lines.Line2D at 0x7f47ceea1f28>]"
            ]
          },
          "metadata": {
            "tags": []
          },
          "execution_count": 14
        },
        {
          "output_type": "display_data",
          "data": {
            "image/png": "[encoded data removed]",
            "text/plain": [
              "<Figure size 432x288 with 1 Axes>"
            ]
          },
          "metadata": {
            "tags": []
          }
        }
      ]
    },
    {
      "cell_type": "code",
      "metadata": {
        "id": "-csWQ3OsOw_u",
        "colab_type": "code",
        "outputId": "ec4722d3-aaeb-4ca9-bbc8-886b30172b41",
        "colab": {
          "base_uri": "https://localhost:8080/",
          "height": 285
        }
      },
      "source": [
        "A = []\n",
        "vect = [100,200,300,400,500,600,700,800,900,1000,1200, 1400,1600,1800,2000]\n",
        "\n",
        "for i in vect:\n",
        "  rf = RandomForestRegressor(n_estimators = i, random_state = 43, min_samples_split = 6)\n",
        "  # Train the model on training data\n",
        "  rf.fit(X_train, y_train);\n",
        "  predictions = rf.predict(X_test)\n",
        "  errors = mean_squared_error(y_test, predictions)\n",
        "  A.append(errors)\n",
        "\n",
        "plt.plot(vect, A)"
      ],
      "execution_count": 0,
      "outputs": [
        {
          "output_type": "execute_result",
          "data": {
            "text/plain": [
              "[<matplotlib.lines.Line2D at 0x7f47ceeee9e8>]"
            ]
          },
          "metadata": {
            "tags": []
          },
          "execution_count": 15
        },
        {
          "output_type": "display_data",
          "data": {
            "image/png": "[encoded data removed]",
            "text/plain": [
              "<Figure size 432x288 with 1 Axes>"
            ]
          },
          "metadata": {
            "tags": []
          }
        }
      ]
    },
    {
      "cell_type": "code",
      "metadata": {
        "id": "J00UY1LxOxwP",
        "colab_type": "code",
        "outputId": "59fa3710-d620-4c3b-e2ab-d42857c1fba3",
        "colab": {
          "base_uri": "https://localhost:8080/",
          "height": 282
        }
      },
      "source": [
        "A = []\n",
        "vect = [100,200,300,400,500,600,700,800,900,1000,1200, 1400,1600,1800,2000]\n",
        "\n",
        "for i in vect:\n",
        "  rf = RandomForestRegressor(n_estimators = i, random_state = 43, min_samples_split = 8)\n",
        "  # Train the model on training data\n",
        "  rf.fit(X_train, y_train);\n",
        "  predictions = rf.predict(X_test)\n",
        "  errors = mean_squared_error(y_test, predictions)\n",
        "  A.append(errors)\n",
        "\n",
        "plt.plot(vect, A)"
      ],
      "execution_count": 0,
      "outputs": [
        {
          "output_type": "execute_result",
          "data": {
            "text/plain": [
              "[<matplotlib.lines.Line2D at 0x7f47cee12438>]"
            ]
          },
          "metadata": {
            "tags": []
          },
          "execution_count": 16
        },
        {
          "output_type": "display_data",
          "data": {
            "image/png": "[encoded data removed]",
            "text/plain": [
              "<Figure size 432x288 with 1 Axes>"
            ]
          },
          "metadata": {
            "tags": []
          }
        }
      ]
    },
    {
      "cell_type": "code",
      "metadata": {
        "id": "AnKGgD33Rhgy",
        "colab_type": "code",
        "outputId": "1aa36a9d-6e08-44de-8f14-f08fd77c21fd",
        "colab": {
          "base_uri": "https://localhost:8080/",
          "height": 34
        }
      },
      "source": [
        "rf = RandomForestRegressor(n_estimators = 1000, random_state = 43, min_samples_split = 2,bootstrap = False)\n",
        "# Train the model on training data\n",
        "rf.fit(X_train, y_train);\n",
        "predictions = rf.predict(X_test)\n",
        "errors = mean_squared_error(y_test, predictions)\n",
        "# Print out the mean square error (mse)\n",
        "print('Mean square Error:', round(errors, 6))\n"
      ],
      "execution_count": 0,
      "outputs": [
        {
          "output_type": "stream",
          "text": [
            "Mean square Error: 0.328677\n"
          ],
          "name": "stdout"
        }
      ]
    }
  ]
}