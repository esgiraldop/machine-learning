{
  "nbformat": 4,
  "nbformat_minor": 0,
  "metadata": {
    "colab": {
      "name": "Tarea2_Feature_selection.ipynb",
      "provenance": [],
      "collapsed_sections": [],
      "toc_visible": true,
      "include_colab_link": true
    },
    "kernelspec": {
      "name": "python3",
      "display_name": "Python 3"
    }
  },
  "cells": [
    {
      "cell_type": "markdown",
      "metadata": {
        "id": "view-in-github",
        "colab_type": "text"
      },
      "source": [
        "<a href=\"https://colab.research.google.com/github/esgiraldop/machine-learning/blob/master/Tarea2_Feature_selection.ipynb\" target=\"_parent\"><img src=\"https://colab.research.google.com/assets/colab-badge.svg\" alt=\"Open In Colab\"/></a>"
      ]
    },
    {
      "cell_type": "code",
      "metadata": {
        "id": "hzAHO66B6YNQ",
        "colab_type": "code",
        "outputId": "92b51d69-8b57-4469-b75b-84cff387f2c5",
        "colab": {
          "base_uri": "https://localhost:8080/",
          "height": 34
        }
      },
      "source": [
        "#To mount drive for workspace. \n",
        "from google.colab import drive\n",
        "\n",
        "#This will prompt for authorization.\n",
        "drive.mount('/content/drive/')"
      ],
      "execution_count": 0,
      "outputs": [
        {
          "output_type": "stream",
          "text": [
            "Drive already mounted at /content/drive/; to attempt to forcibly remount, call drive.mount(\"/content/drive/\", force_remount=True).\n"
          ],
          "name": "stdout"
        }
      ]
    },
    {
      "cell_type": "code",
      "metadata": {
        "id": "h2bQMOz-yw-H",
        "colab_type": "code",
        "outputId": "c55af820-751d-4f4a-e379-ecdb263c3de5",
        "colab": {
          "base_uri": "https://localhost:8080/",
          "height": 54
        }
      },
      "source": [
        "\"\"\"Objective: To apply filter selection to a dataset\n",
        "            of computer hardware performance in order to boost trainig time\n",
        "\"\"\"\n",
        "import numpy as np\n",
        "import matplotlib.pyplot as plt\n",
        "import pandas as pd\n",
        "from sklearn.model_selection import train_test_split\n",
        "from sklearn.linear_model import LinearRegression\n",
        "from sklearn.metrics import mean_squared_error\n",
        "from sklearn.ensemble import RandomForestRegressor\n",
        "from mpl_toolkits.mplot3d import Axes3D  # importing the packege for 3D plots\n",
        "from sklearn import decomposition # importing the pca package\n",
        "\n",
        "\"\"\"COLUM NAMES\n",
        "1. Vendor name: 30 \n",
        "      (adviser, amdahl,apollo, basf, bti, burroughs, c.r.d, cambex, cdc, dec, \n",
        "       dg, formation, four-phase, gould, honeywell, hp, ibm, ipl, magnuson, \n",
        "       microdata, nas, ncr, nixdorf, perkin-elmer, prime, siemens, sperry, \n",
        "       sratus, wang)\n",
        "2. Model Name: many unique symbols\n",
        "3. MYCT: Machine cycle time [nanoseconds]\n",
        "4. MMIN: Minimum main memory [kilobytes]\n",
        "5. MMAX: Maximum main memory [kilobytes]\n",
        "6. CACH: Cache memory [kilobytes]\n",
        "7. CHMIN: minimum channels [units]\n",
        "8. CHMAX: maximum channels [units]\n",
        "9. PRP: published relative performance\n",
        "10. ERP: estimated relative performance from the original article\"\"\""
      ],
      "execution_count": 0,
      "outputs": [
        {
          "output_type": "execute_result",
          "data": {
            "text/plain": [
              "'COLUM NAMES\\n1. Vendor name: 30 \\n      (adviser, amdahl,apollo, basf, bti, burroughs, c.r.d, cambex, cdc, dec, \\n       dg, formation, four-phase, gould, honeywell, hp, ibm, ipl, magnuson, \\n       microdata, nas, ncr, nixdorf, perkin-elmer, prime, siemens, sperry, \\n       sratus, wang)\\n2. Model Name: many unique symbols\\n3. MYCT: Machine cycle time [nanoseconds]\\n4. MMIN: Minimum main memory [kilobytes]\\n5. MMAX: Maximum main memory [kilobytes]\\n6. CACH: Cache memory [kilobytes]\\n7. CHMIN: minimum channels [units]\\n8. CHMAX: maximum channels [units]\\n9. PRP: published relative performance\\n10. ERP: estimated relative performance from the original article'"
            ]
          },
          "metadata": {
            "tags": []
          },
          "execution_count": 2
        }
      ]
    },
    {
      "cell_type": "code",
      "metadata": {
        "id": "7PR4UbJp7XJc",
        "colab_type": "code",
        "outputId": "5fdb680b-5ed2-44fe-e95d-02072d8d720d",
        "colab": {
          "base_uri": "https://localhost:8080/",
          "height": 428
        }
      },
      "source": [
        "path_to_datos = '/content/drive/My Drive/CursoMLAvanzado/Estudiantes/Luis-Vesga-Erick-Giraldo/Tarea 2/machine.csv';\n",
        "\n",
        "cpuData = pd.read_csv(path_to_datos, header = None, sep = ',', \n",
        "                         names = ['vendorName','modelName','MYCT',\n",
        "                                  'MMIN','MMAX','CACH','CHMIN','CHMAX','PRP',\n",
        "                                  'ERP'])\n",
        "cpuData.info()\n",
        "cpuData.describe(include='O')"
      ],
      "execution_count": 0,
      "outputs": [
        {
          "output_type": "stream",
          "text": [
            "<class 'pandas.core.frame.DataFrame'>\n",
            "RangeIndex: 209 entries, 0 to 208\n",
            "Data columns (total 10 columns):\n",
            "vendorName    209 non-null object\n",
            "modelName     209 non-null object\n",
            "MYCT          209 non-null int64\n",
            "MMIN          209 non-null int64\n",
            "MMAX          209 non-null int64\n",
            "CACH          209 non-null int64\n",
            "CHMIN         209 non-null int64\n",
            "CHMAX         209 non-null int64\n",
            "PRP           209 non-null int64\n",
            "ERP           209 non-null int64\n",
            "dtypes: int64(8), object(2)\n",
            "memory usage: 16.5+ KB\n"
          ],
          "name": "stdout"
        },
        {
          "output_type": "execute_result",
          "data": {
            "text/html": [
              "<div>\n",
              "<style scoped>\n",
              "    .dataframe tbody tr th:only-of-type {\n",
              "        vertical-align: middle;\n",
              "    }\n",
              "\n",
              "    .dataframe tbody tr th {\n",
              "        vertical-align: top;\n",
              "    }\n",
              "\n",
              "    .dataframe thead th {\n",
              "        text-align: right;\n",
              "    }\n",
              "</style>\n",
              "<table border=\"1\" class=\"dataframe\">\n",
              "  <thead>\n",
              "    <tr style=\"text-align: right;\">\n",
              "      <th></th>\n",
              "      <th>vendorName</th>\n",
              "      <th>modelName</th>\n",
              "    </tr>\n",
              "  </thead>\n",
              "  <tbody>\n",
              "    <tr>\n",
              "      <th>count</th>\n",
              "      <td>209</td>\n",
              "      <td>209</td>\n",
              "    </tr>\n",
              "    <tr>\n",
              "      <th>unique</th>\n",
              "      <td>30</td>\n",
              "      <td>209</td>\n",
              "    </tr>\n",
              "    <tr>\n",
              "      <th>top</th>\n",
              "      <td>ibm</td>\n",
              "      <td>as/7000</td>\n",
              "    </tr>\n",
              "    <tr>\n",
              "      <th>freq</th>\n",
              "      <td>32</td>\n",
              "      <td>1</td>\n",
              "    </tr>\n",
              "  </tbody>\n",
              "</table>\n",
              "</div>"
            ],
            "text/plain": [
              "       vendorName modelName\n",
              "count         209       209\n",
              "unique         30       209\n",
              "top           ibm   as/7000\n",
              "freq           32         1"
            ]
          },
          "metadata": {
            "tags": []
          },
          "execution_count": 3
        }
      ]
    },
    {
      "cell_type": "code",
      "metadata": {
        "id": "-KTujJWlN1hD",
        "colab_type": "code",
        "colab": {}
      },
      "source": [
        "#Copying ERP colum into a seperate dataframe\n",
        "data_ERP =  cpuData[cpuData.columns[-1]]\n",
        "data_ERP.head()\n",
        "#Dropping ERP column\n",
        "cpuData = cpuData.drop(['ERP'], axis=1)"
      ],
      "execution_count": 0,
      "outputs": []
    },
    {
      "cell_type": "code",
      "metadata": {
        "id": "5NbMiw3Pg0_U",
        "colab_type": "code",
        "colab": {}
      },
      "source": [
        "# Encoding of categorical data.\n",
        "cpuData[\"vendorName\"] = cpuData[\"vendorName\"].astype('category').cat.codes\n",
        "cpuData[\"modelName\"] = cpuData[\"modelName\"].astype('category').cat.codes"
      ],
      "execution_count": 0,
      "outputs": []
    },
    {
      "cell_type": "code",
      "metadata": {
        "id": "B-cZnv65hw_Y",
        "colab_type": "code",
        "outputId": "b615bb6e-b3b0-438a-d093-b32b527a6f8f",
        "colab": {
          "base_uri": "https://localhost:8080/",
          "height": 359
        }
      },
      "source": [
        "cpuData.head(10)"
      ],
      "execution_count": 0,
      "outputs": [
        {
          "output_type": "execute_result",
          "data": {
            "text/html": [
              "<div>\n",
              "<style scoped>\n",
              "    .dataframe tbody tr th:only-of-type {\n",
              "        vertical-align: middle;\n",
              "    }\n",
              "\n",
              "    .dataframe tbody tr th {\n",
              "        vertical-align: top;\n",
              "    }\n",
              "\n",
              "    .dataframe thead th {\n",
              "        text-align: right;\n",
              "    }\n",
              "</style>\n",
              "<table border=\"1\" class=\"dataframe\">\n",
              "  <thead>\n",
              "    <tr style=\"text-align: right;\">\n",
              "      <th></th>\n",
              "      <th>vendorName</th>\n",
              "      <th>modelName</th>\n",
              "      <th>MYCT</th>\n",
              "      <th>MMIN</th>\n",
              "      <th>MMAX</th>\n",
              "      <th>CACH</th>\n",
              "      <th>CHMIN</th>\n",
              "      <th>CHMAX</th>\n",
              "      <th>PRP</th>\n",
              "    </tr>\n",
              "  </thead>\n",
              "  <tbody>\n",
              "    <tr>\n",
              "      <th>0</th>\n",
              "      <td>0</td>\n",
              "      <td>29</td>\n",
              "      <td>125</td>\n",
              "      <td>256</td>\n",
              "      <td>6000</td>\n",
              "      <td>256</td>\n",
              "      <td>16</td>\n",
              "      <td>128</td>\n",
              "      <td>198</td>\n",
              "    </tr>\n",
              "    <tr>\n",
              "      <th>1</th>\n",
              "      <td>1</td>\n",
              "      <td>62</td>\n",
              "      <td>29</td>\n",
              "      <td>8000</td>\n",
              "      <td>32000</td>\n",
              "      <td>32</td>\n",
              "      <td>8</td>\n",
              "      <td>32</td>\n",
              "      <td>269</td>\n",
              "    </tr>\n",
              "    <tr>\n",
              "      <th>2</th>\n",
              "      <td>1</td>\n",
              "      <td>63</td>\n",
              "      <td>29</td>\n",
              "      <td>8000</td>\n",
              "      <td>32000</td>\n",
              "      <td>32</td>\n",
              "      <td>8</td>\n",
              "      <td>32</td>\n",
              "      <td>220</td>\n",
              "    </tr>\n",
              "    <tr>\n",
              "      <th>3</th>\n",
              "      <td>1</td>\n",
              "      <td>64</td>\n",
              "      <td>29</td>\n",
              "      <td>8000</td>\n",
              "      <td>32000</td>\n",
              "      <td>32</td>\n",
              "      <td>8</td>\n",
              "      <td>32</td>\n",
              "      <td>172</td>\n",
              "    </tr>\n",
              "    <tr>\n",
              "      <th>4</th>\n",
              "      <td>1</td>\n",
              "      <td>65</td>\n",
              "      <td>29</td>\n",
              "      <td>8000</td>\n",
              "      <td>16000</td>\n",
              "      <td>32</td>\n",
              "      <td>8</td>\n",
              "      <td>16</td>\n",
              "      <td>132</td>\n",
              "    </tr>\n",
              "    <tr>\n",
              "      <th>5</th>\n",
              "      <td>1</td>\n",
              "      <td>66</td>\n",
              "      <td>26</td>\n",
              "      <td>8000</td>\n",
              "      <td>32000</td>\n",
              "      <td>64</td>\n",
              "      <td>8</td>\n",
              "      <td>32</td>\n",
              "      <td>318</td>\n",
              "    </tr>\n",
              "    <tr>\n",
              "      <th>6</th>\n",
              "      <td>1</td>\n",
              "      <td>74</td>\n",
              "      <td>23</td>\n",
              "      <td>16000</td>\n",
              "      <td>32000</td>\n",
              "      <td>64</td>\n",
              "      <td>16</td>\n",
              "      <td>32</td>\n",
              "      <td>367</td>\n",
              "    </tr>\n",
              "    <tr>\n",
              "      <th>7</th>\n",
              "      <td>1</td>\n",
              "      <td>75</td>\n",
              "      <td>23</td>\n",
              "      <td>16000</td>\n",
              "      <td>32000</td>\n",
              "      <td>64</td>\n",
              "      <td>16</td>\n",
              "      <td>32</td>\n",
              "      <td>489</td>\n",
              "    </tr>\n",
              "    <tr>\n",
              "      <th>8</th>\n",
              "      <td>1</td>\n",
              "      <td>76</td>\n",
              "      <td>23</td>\n",
              "      <td>16000</td>\n",
              "      <td>64000</td>\n",
              "      <td>64</td>\n",
              "      <td>16</td>\n",
              "      <td>32</td>\n",
              "      <td>636</td>\n",
              "    </tr>\n",
              "    <tr>\n",
              "      <th>9</th>\n",
              "      <td>1</td>\n",
              "      <td>77</td>\n",
              "      <td>23</td>\n",
              "      <td>32000</td>\n",
              "      <td>64000</td>\n",
              "      <td>128</td>\n",
              "      <td>32</td>\n",
              "      <td>64</td>\n",
              "      <td>1144</td>\n",
              "    </tr>\n",
              "  </tbody>\n",
              "</table>\n",
              "</div>"
            ],
            "text/plain": [
              "   vendorName  modelName  MYCT   MMIN   MMAX  CACH  CHMIN  CHMAX   PRP\n",
              "0           0         29   125    256   6000   256     16    128   198\n",
              "1           1         62    29   8000  32000    32      8     32   269\n",
              "2           1         63    29   8000  32000    32      8     32   220\n",
              "3           1         64    29   8000  32000    32      8     32   172\n",
              "4           1         65    29   8000  16000    32      8     16   132\n",
              "5           1         66    26   8000  32000    64      8     32   318\n",
              "6           1         74    23  16000  32000    64     16     32   367\n",
              "7           1         75    23  16000  32000    64     16     32   489\n",
              "8           1         76    23  16000  64000    64     16     32   636\n",
              "9           1         77    23  32000  64000   128     32     64  1144"
            ]
          },
          "metadata": {
            "tags": []
          },
          "execution_count": 6
        }
      ]
    },
    {
      "cell_type": "code",
      "metadata": {
        "id": "5nej5zBvyNI8",
        "colab_type": "code",
        "outputId": "674ae69f-4160-405c-8da3-fbac85f9d43b",
        "colab": {
          "base_uri": "https://localhost:8080/",
          "height": 153
        }
      },
      "source": [
        "(cpuData[['MYCT','MMIN','MMAX','CACH','CHMIN','CHMAX','PRP']]).apply(lambda column: (column<= 0).sum())"
      ],
      "execution_count": 0,
      "outputs": [
        {
          "output_type": "execute_result",
          "data": {
            "text/plain": [
              "MYCT      0\n",
              "MMIN      0\n",
              "MMAX      0\n",
              "CACH     69\n",
              "CHMIN     5\n",
              "CHMAX     5\n",
              "PRP       0\n",
              "dtype: int64"
            ]
          },
          "metadata": {
            "tags": []
          },
          "execution_count": 7
        }
      ]
    },
    {
      "cell_type": "code",
      "metadata": {
        "id": "DR9qta_xycBU",
        "colab_type": "code",
        "outputId": "b7dd0197-38d8-4efd-ed0f-262b6774c290",
        "colab": {
          "base_uri": "https://localhost:8080/",
          "height": 153
        }
      },
      "source": [
        "cpuData['CACH'] = cpuData['CACH']+1\n",
        "cpuData['CHMIN'] = cpuData['CHMIN']+1\n",
        "cpuData['CHMAX'] = cpuData['CHMAX'] +1\n",
        "(cpuData[['MYCT','MMIN','MMAX','CACH','CHMIN','CHMAX','PRP']]).apply(lambda column: (column<= 0).sum())"
      ],
      "execution_count": 0,
      "outputs": [
        {
          "output_type": "execute_result",
          "data": {
            "text/plain": [
              "MYCT     0\n",
              "MMIN     0\n",
              "MMAX     0\n",
              "CACH     0\n",
              "CHMIN    0\n",
              "CHMAX    0\n",
              "PRP      0\n",
              "dtype: int64"
            ]
          },
          "metadata": {
            "tags": []
          },
          "execution_count": 8
        }
      ]
    },
    {
      "cell_type": "code",
      "metadata": {
        "id": "Kjl0r4r6xtmF",
        "colab_type": "code",
        "colab": {}
      },
      "source": [
        "cpuDataSt = np.log(cpuData[['MYCT','MMIN','MMAX','CACH','CHMIN','CHMAX','PRP']])\n",
        "cpuDataSt['vendorName'] = cpuData['vendorName']\n",
        "cpuDataSt['modelName'] = cpuData['modelName']"
      ],
      "execution_count": 0,
      "outputs": []
    },
    {
      "cell_type": "code",
      "metadata": {
        "id": "4QytvefviVWI",
        "colab_type": "code",
        "outputId": "17c77f6e-1d70-4d51-fb0f-7ad7745aadba",
        "colab": {
          "base_uri": "https://localhost:8080/",
          "height": 359
        }
      },
      "source": [
        "cpuDataSt.head(10)"
      ],
      "execution_count": 0,
      "outputs": [
        {
          "output_type": "execute_result",
          "data": {
            "text/html": [
              "<div>\n",
              "<style scoped>\n",
              "    .dataframe tbody tr th:only-of-type {\n",
              "        vertical-align: middle;\n",
              "    }\n",
              "\n",
              "    .dataframe tbody tr th {\n",
              "        vertical-align: top;\n",
              "    }\n",
              "\n",
              "    .dataframe thead th {\n",
              "        text-align: right;\n",
              "    }\n",
              "</style>\n",
              "<table border=\"1\" class=\"dataframe\">\n",
              "  <thead>\n",
              "    <tr style=\"text-align: right;\">\n",
              "      <th></th>\n",
              "      <th>MYCT</th>\n",
              "      <th>MMIN</th>\n",
              "      <th>MMAX</th>\n",
              "      <th>CACH</th>\n",
              "      <th>CHMIN</th>\n",
              "      <th>CHMAX</th>\n",
              "      <th>PRP</th>\n",
              "      <th>vendorName</th>\n",
              "      <th>modelName</th>\n",
              "    </tr>\n",
              "  </thead>\n",
              "  <tbody>\n",
              "    <tr>\n",
              "      <th>0</th>\n",
              "      <td>4.828314</td>\n",
              "      <td>5.545177</td>\n",
              "      <td>8.699515</td>\n",
              "      <td>5.549076</td>\n",
              "      <td>2.833213</td>\n",
              "      <td>4.859812</td>\n",
              "      <td>5.288267</td>\n",
              "      <td>0</td>\n",
              "      <td>29</td>\n",
              "    </tr>\n",
              "    <tr>\n",
              "      <th>1</th>\n",
              "      <td>3.367296</td>\n",
              "      <td>8.987197</td>\n",
              "      <td>10.373491</td>\n",
              "      <td>3.496508</td>\n",
              "      <td>2.197225</td>\n",
              "      <td>3.496508</td>\n",
              "      <td>5.594711</td>\n",
              "      <td>1</td>\n",
              "      <td>62</td>\n",
              "    </tr>\n",
              "    <tr>\n",
              "      <th>2</th>\n",
              "      <td>3.367296</td>\n",
              "      <td>8.987197</td>\n",
              "      <td>10.373491</td>\n",
              "      <td>3.496508</td>\n",
              "      <td>2.197225</td>\n",
              "      <td>3.496508</td>\n",
              "      <td>5.393628</td>\n",
              "      <td>1</td>\n",
              "      <td>63</td>\n",
              "    </tr>\n",
              "    <tr>\n",
              "      <th>3</th>\n",
              "      <td>3.367296</td>\n",
              "      <td>8.987197</td>\n",
              "      <td>10.373491</td>\n",
              "      <td>3.496508</td>\n",
              "      <td>2.197225</td>\n",
              "      <td>3.496508</td>\n",
              "      <td>5.147494</td>\n",
              "      <td>1</td>\n",
              "      <td>64</td>\n",
              "    </tr>\n",
              "    <tr>\n",
              "      <th>4</th>\n",
              "      <td>3.367296</td>\n",
              "      <td>8.987197</td>\n",
              "      <td>9.680344</td>\n",
              "      <td>3.496508</td>\n",
              "      <td>2.197225</td>\n",
              "      <td>2.833213</td>\n",
              "      <td>4.882802</td>\n",
              "      <td>1</td>\n",
              "      <td>65</td>\n",
              "    </tr>\n",
              "    <tr>\n",
              "      <th>5</th>\n",
              "      <td>3.258097</td>\n",
              "      <td>8.987197</td>\n",
              "      <td>10.373491</td>\n",
              "      <td>4.174387</td>\n",
              "      <td>2.197225</td>\n",
              "      <td>3.496508</td>\n",
              "      <td>5.762051</td>\n",
              "      <td>1</td>\n",
              "      <td>66</td>\n",
              "    </tr>\n",
              "    <tr>\n",
              "      <th>6</th>\n",
              "      <td>3.135494</td>\n",
              "      <td>9.680344</td>\n",
              "      <td>10.373491</td>\n",
              "      <td>4.174387</td>\n",
              "      <td>2.833213</td>\n",
              "      <td>3.496508</td>\n",
              "      <td>5.905362</td>\n",
              "      <td>1</td>\n",
              "      <td>74</td>\n",
              "    </tr>\n",
              "    <tr>\n",
              "      <th>7</th>\n",
              "      <td>3.135494</td>\n",
              "      <td>9.680344</td>\n",
              "      <td>10.373491</td>\n",
              "      <td>4.174387</td>\n",
              "      <td>2.833213</td>\n",
              "      <td>3.496508</td>\n",
              "      <td>6.192362</td>\n",
              "      <td>1</td>\n",
              "      <td>75</td>\n",
              "    </tr>\n",
              "    <tr>\n",
              "      <th>8</th>\n",
              "      <td>3.135494</td>\n",
              "      <td>9.680344</td>\n",
              "      <td>11.066638</td>\n",
              "      <td>4.174387</td>\n",
              "      <td>2.833213</td>\n",
              "      <td>3.496508</td>\n",
              "      <td>6.455199</td>\n",
              "      <td>1</td>\n",
              "      <td>76</td>\n",
              "    </tr>\n",
              "    <tr>\n",
              "      <th>9</th>\n",
              "      <td>3.135494</td>\n",
              "      <td>10.373491</td>\n",
              "      <td>11.066638</td>\n",
              "      <td>4.859812</td>\n",
              "      <td>3.496508</td>\n",
              "      <td>4.174387</td>\n",
              "      <td>7.042286</td>\n",
              "      <td>1</td>\n",
              "      <td>77</td>\n",
              "    </tr>\n",
              "  </tbody>\n",
              "</table>\n",
              "</div>"
            ],
            "text/plain": [
              "       MYCT       MMIN       MMAX  ...       PRP  vendorName  modelName\n",
              "0  4.828314   5.545177   8.699515  ...  5.288267           0         29\n",
              "1  3.367296   8.987197  10.373491  ...  5.594711           1         62\n",
              "2  3.367296   8.987197  10.373491  ...  5.393628           1         63\n",
              "3  3.367296   8.987197  10.373491  ...  5.147494           1         64\n",
              "4  3.367296   8.987197   9.680344  ...  4.882802           1         65\n",
              "5  3.258097   8.987197  10.373491  ...  5.762051           1         66\n",
              "6  3.135494   9.680344  10.373491  ...  5.905362           1         74\n",
              "7  3.135494   9.680344  10.373491  ...  6.192362           1         75\n",
              "8  3.135494   9.680344  11.066638  ...  6.455199           1         76\n",
              "9  3.135494  10.373491  11.066638  ...  7.042286           1         77\n",
              "\n",
              "[10 rows x 9 columns]"
            ]
          },
          "metadata": {
            "tags": []
          },
          "execution_count": 10
        }
      ]
    },
    {
      "cell_type": "code",
      "metadata": {
        "id": "jYNdU8_AQulf",
        "colab_type": "code",
        "colab": {}
      },
      "source": [
        "# Reset the index and create X and Y DataFrames.\n",
        "X = cpuDataSt.drop(['PRP'], axis=1)\n",
        "Y = cpuDataSt['PRP']"
      ],
      "execution_count": 0,
      "outputs": []
    },
    {
      "cell_type": "code",
      "metadata": {
        "id": "3nuxc5zt32jf",
        "colab_type": "code",
        "outputId": "caba19ad-dea7-4d71-e268-88f3ddf998c9",
        "colab": {
          "base_uri": "https://localhost:8080/",
          "height": 204
        }
      },
      "source": [
        "X.head()"
      ],
      "execution_count": 0,
      "outputs": [
        {
          "output_type": "execute_result",
          "data": {
            "text/html": [
              "<div>\n",
              "<style scoped>\n",
              "    .dataframe tbody tr th:only-of-type {\n",
              "        vertical-align: middle;\n",
              "    }\n",
              "\n",
              "    .dataframe tbody tr th {\n",
              "        vertical-align: top;\n",
              "    }\n",
              "\n",
              "    .dataframe thead th {\n",
              "        text-align: right;\n",
              "    }\n",
              "</style>\n",
              "<table border=\"1\" class=\"dataframe\">\n",
              "  <thead>\n",
              "    <tr style=\"text-align: right;\">\n",
              "      <th></th>\n",
              "      <th>MYCT</th>\n",
              "      <th>MMIN</th>\n",
              "      <th>MMAX</th>\n",
              "      <th>CACH</th>\n",
              "      <th>CHMIN</th>\n",
              "      <th>CHMAX</th>\n",
              "      <th>vendorName</th>\n",
              "      <th>modelName</th>\n",
              "    </tr>\n",
              "  </thead>\n",
              "  <tbody>\n",
              "    <tr>\n",
              "      <th>0</th>\n",
              "      <td>4.828314</td>\n",
              "      <td>5.545177</td>\n",
              "      <td>8.699515</td>\n",
              "      <td>5.549076</td>\n",
              "      <td>2.833213</td>\n",
              "      <td>4.859812</td>\n",
              "      <td>0</td>\n",
              "      <td>29</td>\n",
              "    </tr>\n",
              "    <tr>\n",
              "      <th>1</th>\n",
              "      <td>3.367296</td>\n",
              "      <td>8.987197</td>\n",
              "      <td>10.373491</td>\n",
              "      <td>3.496508</td>\n",
              "      <td>2.197225</td>\n",
              "      <td>3.496508</td>\n",
              "      <td>1</td>\n",
              "      <td>62</td>\n",
              "    </tr>\n",
              "    <tr>\n",
              "      <th>2</th>\n",
              "      <td>3.367296</td>\n",
              "      <td>8.987197</td>\n",
              "      <td>10.373491</td>\n",
              "      <td>3.496508</td>\n",
              "      <td>2.197225</td>\n",
              "      <td>3.496508</td>\n",
              "      <td>1</td>\n",
              "      <td>63</td>\n",
              "    </tr>\n",
              "    <tr>\n",
              "      <th>3</th>\n",
              "      <td>3.367296</td>\n",
              "      <td>8.987197</td>\n",
              "      <td>10.373491</td>\n",
              "      <td>3.496508</td>\n",
              "      <td>2.197225</td>\n",
              "      <td>3.496508</td>\n",
              "      <td>1</td>\n",
              "      <td>64</td>\n",
              "    </tr>\n",
              "    <tr>\n",
              "      <th>4</th>\n",
              "      <td>3.367296</td>\n",
              "      <td>8.987197</td>\n",
              "      <td>9.680344</td>\n",
              "      <td>3.496508</td>\n",
              "      <td>2.197225</td>\n",
              "      <td>2.833213</td>\n",
              "      <td>1</td>\n",
              "      <td>65</td>\n",
              "    </tr>\n",
              "  </tbody>\n",
              "</table>\n",
              "</div>"
            ],
            "text/plain": [
              "       MYCT      MMIN       MMAX  ...     CHMAX  vendorName  modelName\n",
              "0  4.828314  5.545177   8.699515  ...  4.859812           0         29\n",
              "1  3.367296  8.987197  10.373491  ...  3.496508           1         62\n",
              "2  3.367296  8.987197  10.373491  ...  3.496508           1         63\n",
              "3  3.367296  8.987197  10.373491  ...  3.496508           1         64\n",
              "4  3.367296  8.987197   9.680344  ...  2.833213           1         65\n",
              "\n",
              "[5 rows x 8 columns]"
            ]
          },
          "metadata": {
            "tags": []
          },
          "execution_count": 12
        }
      ]
    },
    {
      "cell_type": "code",
      "metadata": {
        "id": "OqOPV6Bm4Xv_",
        "colab_type": "code",
        "colab": {}
      },
      "source": [
        "# Data split \n",
        "X_train, X_test, y_train, y_test = train_test_split(X, Y, test_size=0.33, random_state=42)"
      ],
      "execution_count": 0,
      "outputs": []
    },
    {
      "cell_type": "code",
      "metadata": {
        "id": "JacNRZvo6t17",
        "colab_type": "code",
        "outputId": "387398b7-565b-40cc-8f57-e20caa56472e",
        "colab": {
          "base_uri": "https://localhost:8080/",
          "height": 34
        }
      },
      "source": [
        "clf = LinearRegression()\n",
        "clf.fit(X_train, y_train)"
      ],
      "execution_count": 0,
      "outputs": [
        {
          "output_type": "execute_result",
          "data": {
            "text/plain": [
              "LinearRegression(copy_X=True, fit_intercept=True, n_jobs=None, normalize=False)"
            ]
          },
          "metadata": {
            "tags": []
          },
          "execution_count": 14
        }
      ]
    },
    {
      "cell_type": "code",
      "metadata": {
        "id": "J9itay4NHuHO",
        "colab_type": "code",
        "outputId": "2f28e01d-9aab-4928-a9c0-dee111850abd",
        "colab": {
          "base_uri": "https://localhost:8080/",
          "height": 34
        }
      },
      "source": [
        "predictions = clf.predict(X_test)\n",
        "errors = mean_squared_error(y_test, predictions)\n",
        "# Print out the mean square error (mse)\n",
        "print('Mean square Error:', round(errors, 6))"
      ],
      "execution_count": 0,
      "outputs": [
        {
          "output_type": "stream",
          "text": [
            "Mean square Error: 0.27114\n"
          ],
          "name": "stdout"
        }
      ]
    },
    {
      "cell_type": "code",
      "metadata": {
        "id": "qFyz0TWFFwki",
        "colab_type": "code",
        "colab": {}
      },
      "source": [
        "rf = RandomForestRegressor(n_estimators = 1000, random_state = 42)\n",
        "# Train the model on training data\n",
        "rf.fit(X_train, y_train);"
      ],
      "execution_count": 0,
      "outputs": []
    },
    {
      "cell_type": "code",
      "metadata": {
        "id": "ZNuhqAW5Fwhb",
        "colab_type": "code",
        "outputId": "1b07bdc2-5a9e-4dbf-87ed-6a1760458254",
        "colab": {
          "base_uri": "https://localhost:8080/",
          "height": 34
        }
      },
      "source": [
        "predictions = rf.predict(X_test)\n",
        "errors = mean_squared_error(y_test, predictions)\n",
        "# Print out the mean square error (mse)\n",
        "print('Mean square Error:', round(errors, 6))\n",
        "\n",
        "## A partir de este punto seguiremos usando el metodo de random forest ya que nos dio mejores resultados."
      ],
      "execution_count": 0,
      "outputs": [
        {
          "output_type": "stream",
          "text": [
            "Mean square Error: 0.22102\n"
          ],
          "name": "stdout"
        }
      ]
    },
    {
      "cell_type": "markdown",
      "metadata": {
        "id": "rxwZgjIf0LVm",
        "colab_type": "text"
      },
      "source": [
        "# Se aplica el metodo de filtrado"
      ]
    },
    {
      "cell_type": "markdown",
      "metadata": {
        "id": "wFnyYBPp3Zea",
        "colab_type": "text"
      },
      "source": [
        "## 1. Se eliminan las columnas con baja correlación con PRP"
      ]
    },
    {
      "cell_type": "code",
      "metadata": {
        "id": "tRxjtEGRaeG7",
        "colab_type": "code",
        "outputId": "619b3813-09cd-48e6-98db-3ca658c8e932",
        "colab": {
          "base_uri": "https://localhost:8080/",
          "height": 204
        }
      },
      "source": [
        "cpuDataSt.head()"
      ],
      "execution_count": 0,
      "outputs": [
        {
          "output_type": "execute_result",
          "data": {
            "text/html": [
              "<div>\n",
              "<style scoped>\n",
              "    .dataframe tbody tr th:only-of-type {\n",
              "        vertical-align: middle;\n",
              "    }\n",
              "\n",
              "    .dataframe tbody tr th {\n",
              "        vertical-align: top;\n",
              "    }\n",
              "\n",
              "    .dataframe thead th {\n",
              "        text-align: right;\n",
              "    }\n",
              "</style>\n",
              "<table border=\"1\" class=\"dataframe\">\n",
              "  <thead>\n",
              "    <tr style=\"text-align: right;\">\n",
              "      <th></th>\n",
              "      <th>MYCT</th>\n",
              "      <th>MMIN</th>\n",
              "      <th>MMAX</th>\n",
              "      <th>CACH</th>\n",
              "      <th>CHMIN</th>\n",
              "      <th>CHMAX</th>\n",
              "      <th>PRP</th>\n",
              "      <th>vendorName</th>\n",
              "      <th>modelName</th>\n",
              "    </tr>\n",
              "  </thead>\n",
              "  <tbody>\n",
              "    <tr>\n",
              "      <th>0</th>\n",
              "      <td>4.828314</td>\n",
              "      <td>5.545177</td>\n",
              "      <td>8.699515</td>\n",
              "      <td>5.549076</td>\n",
              "      <td>2.833213</td>\n",
              "      <td>4.859812</td>\n",
              "      <td>5.288267</td>\n",
              "      <td>0</td>\n",
              "      <td>29</td>\n",
              "    </tr>\n",
              "    <tr>\n",
              "      <th>1</th>\n",
              "      <td>3.367296</td>\n",
              "      <td>8.987197</td>\n",
              "      <td>10.373491</td>\n",
              "      <td>3.496508</td>\n",
              "      <td>2.197225</td>\n",
              "      <td>3.496508</td>\n",
              "      <td>5.594711</td>\n",
              "      <td>1</td>\n",
              "      <td>62</td>\n",
              "    </tr>\n",
              "    <tr>\n",
              "      <th>2</th>\n",
              "      <td>3.367296</td>\n",
              "      <td>8.987197</td>\n",
              "      <td>10.373491</td>\n",
              "      <td>3.496508</td>\n",
              "      <td>2.197225</td>\n",
              "      <td>3.496508</td>\n",
              "      <td>5.393628</td>\n",
              "      <td>1</td>\n",
              "      <td>63</td>\n",
              "    </tr>\n",
              "    <tr>\n",
              "      <th>3</th>\n",
              "      <td>3.367296</td>\n",
              "      <td>8.987197</td>\n",
              "      <td>10.373491</td>\n",
              "      <td>3.496508</td>\n",
              "      <td>2.197225</td>\n",
              "      <td>3.496508</td>\n",
              "      <td>5.147494</td>\n",
              "      <td>1</td>\n",
              "      <td>64</td>\n",
              "    </tr>\n",
              "    <tr>\n",
              "      <th>4</th>\n",
              "      <td>3.367296</td>\n",
              "      <td>8.987197</td>\n",
              "      <td>9.680344</td>\n",
              "      <td>3.496508</td>\n",
              "      <td>2.197225</td>\n",
              "      <td>2.833213</td>\n",
              "      <td>4.882802</td>\n",
              "      <td>1</td>\n",
              "      <td>65</td>\n",
              "    </tr>\n",
              "  </tbody>\n",
              "</table>\n",
              "</div>"
            ],
            "text/plain": [
              "       MYCT      MMIN       MMAX  ...       PRP  vendorName  modelName\n",
              "0  4.828314  5.545177   8.699515  ...  5.288267           0         29\n",
              "1  3.367296  8.987197  10.373491  ...  5.594711           1         62\n",
              "2  3.367296  8.987197  10.373491  ...  5.393628           1         63\n",
              "3  3.367296  8.987197  10.373491  ...  5.147494           1         64\n",
              "4  3.367296  8.987197   9.680344  ...  4.882802           1         65\n",
              "\n",
              "[5 rows x 9 columns]"
            ]
          },
          "metadata": {
            "tags": []
          },
          "execution_count": 18
        }
      ]
    },
    {
      "cell_type": "code",
      "metadata": {
        "id": "TgaLRTDiTDZh",
        "colab_type": "code",
        "outputId": "563f6782-c14c-4bda-ab40-07a3eca5f350",
        "colab": {
          "base_uri": "https://localhost:8080/",
          "height": 170
        }
      },
      "source": [
        "importances = cpuDataSt.drop('PRP', axis=1).apply(lambda x: x.corr(cpuDataSt.PRP))\n",
        "indices = np.argsort(importances)\n",
        "print(importances[indices])"
      ],
      "execution_count": 0,
      "outputs": [
        {
          "output_type": "stream",
          "text": [
            "MYCT         -0.701793\n",
            "modelName    -0.144549\n",
            "vendorName   -0.036779\n",
            "CHMAX         0.640541\n",
            "CHMIN         0.672698\n",
            "MMIN          0.764386\n",
            "CACH          0.767503\n",
            "MMAX          0.796814\n",
            "dtype: float64\n"
          ],
          "name": "stdout"
        }
      ]
    },
    {
      "cell_type": "code",
      "metadata": {
        "id": "NUd-ftLuabK0",
        "colab_type": "code",
        "outputId": "f25faf7e-a7d4-41f4-856c-855272334316",
        "colab": {
          "base_uri": "https://localhost:8080/",
          "height": 295
        }
      },
      "source": [
        "names=['MYCT','MMIN','MMAX','CACH','CHMIN','CHMAX','vendorName','modelName']\n",
        "plt.title('CPU')\n",
        "plt.barh(range(len(indices)), importances[indices], color='g', align='center')\n",
        "plt.yticks(range(len(indices)), [names[i] for i in indices])\n",
        "plt.xlabel('Relative Importance')\n",
        "plt.show()"
      ],
      "execution_count": 0,
      "outputs": [
        {
          "output_type": "display_data",
          "data": {
            "image/png": "[encoded data removed]",
            "text/plain": [
              "<Figure size 432x288 with 1 Axes>"
            ]
          },
          "metadata": {
            "tags": []
          }
        }
      ]
    },
    {
      "cell_type": "markdown",
      "metadata": {
        "id": "T6uHLcku56sN",
        "colab_type": "text"
      },
      "source": [
        "En este paso eliminaremos las caracteristicas con una correlación menor al 0.4 con la caracteristica PRP."
      ]
    },
    {
      "cell_type": "code",
      "metadata": {
        "id": "hMu3YSULaSuN",
        "colab_type": "code",
        "outputId": "1c0b6904-9424-4ce9-d064-df734816aad5",
        "colab": {
          "base_uri": "https://localhost:8080/",
          "height": 51
        }
      },
      "source": [
        "for i in range(0, len(indices)):\n",
        "    if np.abs(importances[i])<=0.4:\n",
        "        print(names[i])"
      ],
      "execution_count": 0,
      "outputs": [
        {
          "output_type": "stream",
          "text": [
            "vendorName\n",
            "modelName\n"
          ],
          "name": "stdout"
        }
      ]
    },
    {
      "cell_type": "code",
      "metadata": {
        "id": "o4Mo60H0FwZK",
        "colab_type": "code",
        "colab": {}
      },
      "source": [
        "X_train2 = X_train.drop(['vendorName','modelName'], axis=1)\n",
        "X_test2 = X_test.drop(['vendorName','modelName'], axis=1)"
      ],
      "execution_count": 0,
      "outputs": []
    },
    {
      "cell_type": "code",
      "metadata": {
        "id": "eMqxHJTrFwWB",
        "colab_type": "code",
        "colab": {}
      },
      "source": [
        "rf = RandomForestRegressor(n_estimators = 1000, random_state = 42)\n",
        "# Train the model on training data\n",
        "rf.fit(X_train2, y_train);"
      ],
      "execution_count": 0,
      "outputs": []
    },
    {
      "cell_type": "code",
      "metadata": {
        "id": "lZeVI75FFwS7",
        "colab_type": "code",
        "outputId": "2005dfdd-4066-4227-c5eb-ed663d6e427b",
        "colab": {
          "base_uri": "https://localhost:8080/",
          "height": 34
        }
      },
      "source": [
        "predictions = rf.predict(X_test2)\n",
        "errors = mean_squared_error(y_test, predictions)\n",
        "# Print out the mean square error (mse)\n",
        "print('Mean square Error:', round(errors, 6))"
      ],
      "execution_count": 0,
      "outputs": [
        {
          "output_type": "stream",
          "text": [
            "Mean square Error: 0.225893\n"
          ],
          "name": "stdout"
        }
      ]
    },
    {
      "cell_type": "markdown",
      "metadata": {
        "id": "Z_dPvbLn6USK",
        "colab_type": "text"
      },
      "source": [
        "vendorName y modelName aunque tiene baja correlación no se deben eliminar, ya que estos son categoricos con encoding y no se pasaron los la transformación logistica. Pero como podemos observar en el paso anterior, si las eliminamos nuestra metrica empeora."
      ]
    },
    {
      "cell_type": "markdown",
      "metadata": {
        "id": "_LgA3WNtOLGS",
        "colab_type": "text"
      },
      "source": [
        "## 2. Se eliminan las caracteristicas con alta correlación entre ellas."
      ]
    },
    {
      "cell_type": "markdown",
      "metadata": {
        "id": "_EfAipJeOWbN",
        "colab_type": "text"
      },
      "source": [
        "No se tiene en cuenta la variable objetivo en este analisis. Se eliminara una de las caracteristicas que tenga una correlación con otra mayor a 0.7.\n"
      ]
    },
    {
      "cell_type": "code",
      "metadata": {
        "id": "aFCfGQGoFwPA",
        "colab_type": "code",
        "outputId": "9291cdb3-6afe-42cb-894a-3586191b27fe",
        "colab": {
          "base_uri": "https://localhost:8080/",
          "height": 297
        }
      },
      "source": [
        "cpuDataSt.drop(['PRP'],axis=1).corr()"
      ],
      "execution_count": 0,
      "outputs": [
        {
          "output_type": "execute_result",
          "data": {
            "text/html": [
              "<div>\n",
              "<style scoped>\n",
              "    .dataframe tbody tr th:only-of-type {\n",
              "        vertical-align: middle;\n",
              "    }\n",
              "\n",
              "    .dataframe tbody tr th {\n",
              "        vertical-align: top;\n",
              "    }\n",
              "\n",
              "    .dataframe thead th {\n",
              "        text-align: right;\n",
              "    }\n",
              "</style>\n",
              "<table border=\"1\" class=\"dataframe\">\n",
              "  <thead>\n",
              "    <tr style=\"text-align: right;\">\n",
              "      <th></th>\n",
              "      <th>MYCT</th>\n",
              "      <th>MMIN</th>\n",
              "      <th>MMAX</th>\n",
              "      <th>CACH</th>\n",
              "      <th>CHMIN</th>\n",
              "      <th>CHMAX</th>\n",
              "      <th>vendorName</th>\n",
              "      <th>modelName</th>\n",
              "    </tr>\n",
              "  </thead>\n",
              "  <tbody>\n",
              "    <tr>\n",
              "      <th>MYCT</th>\n",
              "      <td>1.000000</td>\n",
              "      <td>-0.729408</td>\n",
              "      <td>-0.633149</td>\n",
              "      <td>-0.617089</td>\n",
              "      <td>-0.617906</td>\n",
              "      <td>-0.550792</td>\n",
              "      <td>-0.054165</td>\n",
              "      <td>0.114833</td>\n",
              "    </tr>\n",
              "    <tr>\n",
              "      <th>MMIN</th>\n",
              "      <td>-0.729408</td>\n",
              "      <td>1.000000</td>\n",
              "      <td>0.733282</td>\n",
              "      <td>0.600697</td>\n",
              "      <td>0.570907</td>\n",
              "      <td>0.442000</td>\n",
              "      <td>0.095862</td>\n",
              "      <td>-0.113761</td>\n",
              "    </tr>\n",
              "    <tr>\n",
              "      <th>MMAX</th>\n",
              "      <td>-0.633149</td>\n",
              "      <td>0.733282</td>\n",
              "      <td>1.000000</td>\n",
              "      <td>0.616292</td>\n",
              "      <td>0.485568</td>\n",
              "      <td>0.512799</td>\n",
              "      <td>0.057055</td>\n",
              "      <td>-0.046983</td>\n",
              "    </tr>\n",
              "    <tr>\n",
              "      <th>CACH</th>\n",
              "      <td>-0.617089</td>\n",
              "      <td>0.600697</td>\n",
              "      <td>0.616292</td>\n",
              "      <td>1.000000</td>\n",
              "      <td>0.522014</td>\n",
              "      <td>0.491165</td>\n",
              "      <td>0.028518</td>\n",
              "      <td>-0.046476</td>\n",
              "    </tr>\n",
              "    <tr>\n",
              "      <th>CHMIN</th>\n",
              "      <td>-0.617906</td>\n",
              "      <td>0.570907</td>\n",
              "      <td>0.485568</td>\n",
              "      <td>0.522014</td>\n",
              "      <td>1.000000</td>\n",
              "      <td>0.709801</td>\n",
              "      <td>-0.044219</td>\n",
              "      <td>-0.247866</td>\n",
              "    </tr>\n",
              "    <tr>\n",
              "      <th>CHMAX</th>\n",
              "      <td>-0.550792</td>\n",
              "      <td>0.442000</td>\n",
              "      <td>0.512799</td>\n",
              "      <td>0.491165</td>\n",
              "      <td>0.709801</td>\n",
              "      <td>1.000000</td>\n",
              "      <td>-0.080825</td>\n",
              "      <td>-0.154441</td>\n",
              "    </tr>\n",
              "    <tr>\n",
              "      <th>vendorName</th>\n",
              "      <td>-0.054165</td>\n",
              "      <td>0.095862</td>\n",
              "      <td>0.057055</td>\n",
              "      <td>0.028518</td>\n",
              "      <td>-0.044219</td>\n",
              "      <td>-0.080825</td>\n",
              "      <td>1.000000</td>\n",
              "      <td>-0.127345</td>\n",
              "    </tr>\n",
              "    <tr>\n",
              "      <th>modelName</th>\n",
              "      <td>0.114833</td>\n",
              "      <td>-0.113761</td>\n",
              "      <td>-0.046983</td>\n",
              "      <td>-0.046476</td>\n",
              "      <td>-0.247866</td>\n",
              "      <td>-0.154441</td>\n",
              "      <td>-0.127345</td>\n",
              "      <td>1.000000</td>\n",
              "    </tr>\n",
              "  </tbody>\n",
              "</table>\n",
              "</div>"
            ],
            "text/plain": [
              "                MYCT      MMIN      MMAX  ...     CHMAX  vendorName  modelName\n",
              "MYCT        1.000000 -0.729408 -0.633149  ... -0.550792   -0.054165   0.114833\n",
              "MMIN       -0.729408  1.000000  0.733282  ...  0.442000    0.095862  -0.113761\n",
              "MMAX       -0.633149  0.733282  1.000000  ...  0.512799    0.057055  -0.046983\n",
              "CACH       -0.617089  0.600697  0.616292  ...  0.491165    0.028518  -0.046476\n",
              "CHMIN      -0.617906  0.570907  0.485568  ...  0.709801   -0.044219  -0.247866\n",
              "CHMAX      -0.550792  0.442000  0.512799  ...  1.000000   -0.080825  -0.154441\n",
              "vendorName -0.054165  0.095862  0.057055  ... -0.080825    1.000000  -0.127345\n",
              "modelName   0.114833 -0.113761 -0.046983  ... -0.154441   -0.127345   1.000000\n",
              "\n",
              "[8 rows x 8 columns]"
            ]
          },
          "metadata": {
            "tags": []
          },
          "execution_count": 25
        }
      ]
    },
    {
      "cell_type": "code",
      "metadata": {
        "id": "b9yTT18YJRqQ",
        "colab_type": "code",
        "outputId": "8908f579-f1ab-448a-baf0-d467065ab47c",
        "colab": {
          "base_uri": "https://localhost:8080/",
          "height": 275
        }
      },
      "source": [
        "plt.matshow(cpuDataSt.drop(['PRP'],axis=1).corr())\n",
        "plt.show()"
      ],
      "execution_count": 0,
      "outputs": [
        {
          "output_type": "display_data",
          "data": {
            "image/png": "[encoded data removed]",
            "text/plain": [
              "<Figure size 288x288 with 1 Axes>"
            ]
          },
          "metadata": {
            "tags": []
          }
        }
      ]
    },
    {
      "cell_type": "code",
      "metadata": {
        "id": "0_3QCEsBJRnq",
        "colab_type": "code",
        "outputId": "9ae78ff4-1a7c-4894-f331-a45fdee1f0e4",
        "colab": {
          "base_uri": "https://localhost:8080/",
          "height": 34
        }
      },
      "source": [
        "X_train2 = X_train.drop(['MMIN'], axis=1)\n",
        "X_test2 = X_test.drop(['MMIN'], axis=1)\n",
        "rf = RandomForestRegressor(n_estimators = 1000, random_state = 42)\n",
        "# Train the model on training data\n",
        "rf.fit(X_train2, y_train);\n",
        "predictions = rf.predict(X_test2)\n",
        "errors = mean_squared_error(y_test, predictions)\n",
        "# Print out the mean square error (mse)\n",
        "print('Mean square Error:', round(errors, 6))"
      ],
      "execution_count": 0,
      "outputs": [
        {
          "output_type": "stream",
          "text": [
            "Mean square Error: 0.221676\n"
          ],
          "name": "stdout"
        }
      ]
    },
    {
      "cell_type": "code",
      "metadata": {
        "id": "iYVzxNklJRkx",
        "colab_type": "code",
        "outputId": "9216ed59-b53f-4774-c45c-65bcc06cab87",
        "colab": {
          "base_uri": "https://localhost:8080/",
          "height": 34
        }
      },
      "source": [
        "X_train2 = X_train.drop(['MMAX'], axis=1)\n",
        "X_test2 = X_test.drop(['MMAX'], axis=1)\n",
        "rf = RandomForestRegressor(n_estimators = 1000, random_state = 42)\n",
        "# Train the model on training data\n",
        "rf.fit(X_train2, y_train);\n",
        "predictions = rf.predict(X_test2)\n",
        "errors = mean_squared_error(y_test, predictions)\n",
        "# Print out the mean square error (mse)\n",
        "print('Mean square Error:', round(errors, 6))"
      ],
      "execution_count": 0,
      "outputs": [
        {
          "output_type": "stream",
          "text": [
            "Mean square Error: 0.250724\n"
          ],
          "name": "stdout"
        }
      ]
    },
    {
      "cell_type": "code",
      "metadata": {
        "id": "LE1T5jZuJRhf",
        "colab_type": "code",
        "outputId": "4de64cf0-7ee0-4f25-ed09-208675de6d75",
        "colab": {
          "base_uri": "https://localhost:8080/",
          "height": 34
        }
      },
      "source": [
        "X_train2 = X_train.drop(['CHMIN'], axis=1)\n",
        "X_test2 = X_test.drop(['CHMIN'], axis=1)\n",
        "rf = RandomForestRegressor(n_estimators = 1000, random_state = 42)\n",
        "# Train the model on training data\n",
        "rf.fit(X_train2, y_train);\n",
        "predictions = rf.predict(X_test2)\n",
        "errors = mean_squared_error(y_test, predictions)\n",
        "# Print out the mean square error (mse)\n",
        "print('Mean square Error:', round(errors, 6))"
      ],
      "execution_count": 0,
      "outputs": [
        {
          "output_type": "stream",
          "text": [
            "Mean square Error: 0.210623\n"
          ],
          "name": "stdout"
        }
      ]
    },
    {
      "cell_type": "code",
      "metadata": {
        "id": "nB9jhsWeJReG",
        "colab_type": "code",
        "outputId": "870ea2c0-aa08-4828-a278-a41f4f9c53fc",
        "colab": {
          "base_uri": "https://localhost:8080/",
          "height": 34
        }
      },
      "source": [
        "X_train2 = X_train.drop(['CHMAX'], axis=1)\n",
        "X_test2 = X_test.drop(['CHMAX'], axis=1)\n",
        "rf = RandomForestRegressor(n_estimators = 1000, random_state = 42)\n",
        "# Train the model on training data\n",
        "rf.fit(X_train2, y_train);\n",
        "predictions = rf.predict(X_test2)\n",
        "errors = mean_squared_error(y_test, predictions)\n",
        "# Print out the mean square error (mse)\n",
        "print('Mean square Error:', round(errors, 6))"
      ],
      "execution_count": 0,
      "outputs": [
        {
          "output_type": "stream",
          "text": [
            "Mean square Error: 0.224907\n"
          ],
          "name": "stdout"
        }
      ]
    },
    {
      "cell_type": "code",
      "metadata": {
        "id": "LfRDyqICJRa1",
        "colab_type": "code",
        "outputId": "61321205-c080-438c-f2db-c29ccc8ba307",
        "colab": {
          "base_uri": "https://localhost:8080/",
          "height": 34
        }
      },
      "source": [
        "X_train2 = X_train.drop(['MMIN','CHMIN'], axis=1)\n",
        "X_test2 = X_test.drop(['MMIN','CHMIN'], axis=1)\n",
        "rf = RandomForestRegressor(n_estimators = 1000, random_state = 42)\n",
        "# Train the model on training data\n",
        "rf.fit(X_train2, y_train);\n",
        "predictions = rf.predict(X_test2)\n",
        "errors = mean_squared_error(y_test, predictions)\n",
        "# Print out the mean square error (mse)\n",
        "print('Mean square Error:', round(errors, 6))"
      ],
      "execution_count": 0,
      "outputs": [
        {
          "output_type": "stream",
          "text": [
            "Mean square Error: 0.210892\n"
          ],
          "name": "stdout"
        }
      ]
    },
    {
      "cell_type": "code",
      "metadata": {
        "id": "m8c9i1xwJRX3",
        "colab_type": "code",
        "outputId": "b91dfd96-b238-442b-8cd6-78c891d13be6",
        "colab": {
          "base_uri": "https://localhost:8080/",
          "height": 34
        }
      },
      "source": [
        "X_train2 = X_train.drop(['MMAX','CHMIN'], axis=1)\n",
        "X_test2 = X_test.drop(['MMAX','CHMIN'], axis=1)\n",
        "rf = RandomForestRegressor(n_estimators = 1000, random_state = 42)\n",
        "# Train the model on training data\n",
        "rf.fit(X_train2, y_train);\n",
        "predictions = rf.predict(X_test2)\n",
        "errors = mean_squared_error(y_test, predictions)\n",
        "# Print out the mean square error (mse)\n",
        "print('Mean square Error:', round(errors, 6))"
      ],
      "execution_count": 0,
      "outputs": [
        {
          "output_type": "stream",
          "text": [
            "Mean square Error: 0.243381\n"
          ],
          "name": "stdout"
        }
      ]
    },
    {
      "cell_type": "code",
      "metadata": {
        "id": "n2agyMfqJRUo",
        "colab_type": "code",
        "outputId": "e0051da5-7938-4235-f93f-f26247918a71",
        "colab": {
          "base_uri": "https://localhost:8080/",
          "height": 34
        }
      },
      "source": [
        "X_train2 = X_train.drop(['MMIN','CHMAX'], axis=1)\n",
        "X_test2 = X_test.drop(['MMIN','CHMAX'], axis=1)\n",
        "rf = RandomForestRegressor(n_estimators = 1000, random_state = 42)\n",
        "# Train the model on training data\n",
        "rf.fit(X_train2, y_train);\n",
        "predictions = rf.predict(X_test2)\n",
        "errors = mean_squared_error(y_test, predictions)\n",
        "# Print out the mean square error (mse)\n",
        "print('Mean square Error:', round(errors, 6))"
      ],
      "execution_count": 0,
      "outputs": [
        {
          "output_type": "stream",
          "text": [
            "Mean square Error: 0.230569\n"
          ],
          "name": "stdout"
        }
      ]
    },
    {
      "cell_type": "code",
      "metadata": {
        "id": "J57ztwYCJRRl",
        "colab_type": "code",
        "outputId": "b9b2732f-5651-4d4f-b65c-46fd0e616497",
        "colab": {
          "base_uri": "https://localhost:8080/",
          "height": 34
        }
      },
      "source": [
        "X_train2 = X_train.drop(['MMAX','CHMAX'], axis=1)\n",
        "X_test2 = X_test.drop(['MMAX','CHMAX'], axis=1)\n",
        "rf = RandomForestRegressor(n_estimators = 1000, random_state = 42)\n",
        "# Train the model on training data\n",
        "rf.fit(X_train2, y_train);\n",
        "predictions = rf.predict(X_test2)\n",
        "errors = mean_squared_error(y_test, predictions)\n",
        "# Print out the mean square error (mse)\n",
        "print('Mean square Error:', round(errors, 6))"
      ],
      "execution_count": 0,
      "outputs": [
        {
          "output_type": "stream",
          "text": [
            "Mean square Error: 0.273443\n"
          ],
          "name": "stdout"
        }
      ]
    },
    {
      "cell_type": "code",
      "metadata": {
        "id": "j2iag_xVfvtd",
        "colab_type": "code",
        "colab": {}
      },
      "source": [
        "cpuDataSt = cpuDataSt.drop(['MMIN','CHMIN'], axis=1)"
      ],
      "execution_count": 0,
      "outputs": []
    },
    {
      "cell_type": "code",
      "metadata": {
        "id": "zZ5cpci0suE2",
        "colab_type": "code",
        "outputId": "345d0918-5a54-417b-e9dd-382874a514e7",
        "colab": {
          "base_uri": "https://localhost:8080/",
          "height": 204
        }
      },
      "source": [
        "cpuDataSt.head()"
      ],
      "execution_count": 0,
      "outputs": [
        {
          "output_type": "execute_result",
          "data": {
            "text/html": [
              "<div>\n",
              "<style scoped>\n",
              "    .dataframe tbody tr th:only-of-type {\n",
              "        vertical-align: middle;\n",
              "    }\n",
              "\n",
              "    .dataframe tbody tr th {\n",
              "        vertical-align: top;\n",
              "    }\n",
              "\n",
              "    .dataframe thead th {\n",
              "        text-align: right;\n",
              "    }\n",
              "</style>\n",
              "<table border=\"1\" class=\"dataframe\">\n",
              "  <thead>\n",
              "    <tr style=\"text-align: right;\">\n",
              "      <th></th>\n",
              "      <th>MYCT</th>\n",
              "      <th>MMAX</th>\n",
              "      <th>CACH</th>\n",
              "      <th>CHMAX</th>\n",
              "      <th>PRP</th>\n",
              "      <th>vendorName</th>\n",
              "      <th>modelName</th>\n",
              "    </tr>\n",
              "  </thead>\n",
              "  <tbody>\n",
              "    <tr>\n",
              "      <th>0</th>\n",
              "      <td>4.828314</td>\n",
              "      <td>8.699515</td>\n",
              "      <td>5.549076</td>\n",
              "      <td>4.859812</td>\n",
              "      <td>5.288267</td>\n",
              "      <td>0</td>\n",
              "      <td>29</td>\n",
              "    </tr>\n",
              "    <tr>\n",
              "      <th>1</th>\n",
              "      <td>3.367296</td>\n",
              "      <td>10.373491</td>\n",
              "      <td>3.496508</td>\n",
              "      <td>3.496508</td>\n",
              "      <td>5.594711</td>\n",
              "      <td>1</td>\n",
              "      <td>62</td>\n",
              "    </tr>\n",
              "    <tr>\n",
              "      <th>2</th>\n",
              "      <td>3.367296</td>\n",
              "      <td>10.373491</td>\n",
              "      <td>3.496508</td>\n",
              "      <td>3.496508</td>\n",
              "      <td>5.393628</td>\n",
              "      <td>1</td>\n",
              "      <td>63</td>\n",
              "    </tr>\n",
              "    <tr>\n",
              "      <th>3</th>\n",
              "      <td>3.367296</td>\n",
              "      <td>10.373491</td>\n",
              "      <td>3.496508</td>\n",
              "      <td>3.496508</td>\n",
              "      <td>5.147494</td>\n",
              "      <td>1</td>\n",
              "      <td>64</td>\n",
              "    </tr>\n",
              "    <tr>\n",
              "      <th>4</th>\n",
              "      <td>3.367296</td>\n",
              "      <td>9.680344</td>\n",
              "      <td>3.496508</td>\n",
              "      <td>2.833213</td>\n",
              "      <td>4.882802</td>\n",
              "      <td>1</td>\n",
              "      <td>65</td>\n",
              "    </tr>\n",
              "  </tbody>\n",
              "</table>\n",
              "</div>"
            ],
            "text/plain": [
              "       MYCT       MMAX      CACH     CHMAX       PRP  vendorName  modelName\n",
              "0  4.828314   8.699515  5.549076  4.859812  5.288267           0         29\n",
              "1  3.367296  10.373491  3.496508  3.496508  5.594711           1         62\n",
              "2  3.367296  10.373491  3.496508  3.496508  5.393628           1         63\n",
              "3  3.367296  10.373491  3.496508  3.496508  5.147494           1         64\n",
              "4  3.367296   9.680344  3.496508  2.833213  4.882802           1         65"
            ]
          },
          "metadata": {
            "tags": []
          },
          "execution_count": 36
        }
      ]
    },
    {
      "cell_type": "code",
      "metadata": {
        "id": "eG3Mb7Mys2sm",
        "colab_type": "code",
        "outputId": "79edbff2-f107-40d9-ac89-2bd7206b2e34",
        "colab": {
          "base_uri": "https://localhost:8080/",
          "height": 221
        }
      },
      "source": [
        "cpuDataSt['PRP']"
      ],
      "execution_count": 0,
      "outputs": [
        {
          "output_type": "execute_result",
          "data": {
            "text/plain": [
              "0      5.288267\n",
              "1      5.594711\n",
              "2      5.393628\n",
              "3      5.147494\n",
              "4      4.882802\n",
              "         ...   \n",
              "204    3.737670\n",
              "205    3.828641\n",
              "206    3.951244\n",
              "207    4.204693\n",
              "208    3.806662\n",
              "Name: PRP, Length: 209, dtype: float64"
            ]
          },
          "metadata": {
            "tags": []
          },
          "execution_count": 37
        }
      ]
    },
    {
      "cell_type": "markdown",
      "metadata": {
        "id": "R6Spm83MRoNj",
        "colab_type": "text"
      },
      "source": [
        "Luego de aplicar el metodo de emboltura se tomo la decisión de eliminar las caracteriticas MMIN y CHMIN. Aunque eliminando solo CHMIN tenemos un mejor MSE, para simplificar el modelo decidimos eliminar ambas caracteristicas."
      ]
    },
    {
      "cell_type": "markdown",
      "metadata": {
        "id": "ALqHoWc2fS3G",
        "colab_type": "text"
      },
      "source": [
        "## 3.  Infromación mutua respecto a Y\n"
      ]
    },
    {
      "cell_type": "code",
      "metadata": {
        "id": "CEpTK-4DtBVP",
        "colab_type": "code",
        "colab": {}
      },
      "source": [
        "from sklearn.feature_selection import mutual_info_regression"
      ],
      "execution_count": 0,
      "outputs": []
    },
    {
      "cell_type": "code",
      "metadata": {
        "id": "95H5_jErsL7p",
        "colab_type": "code",
        "colab": {}
      },
      "source": [
        "mi = mutual_info_regression(cpuDataSt.drop(['PRP'], axis=1), cpuDataSt['PRP'])\n",
        "c2 = cpuDataSt.drop(['PRP'], axis=1)"
      ],
      "execution_count": 0,
      "outputs": []
    },
    {
      "cell_type": "code",
      "metadata": {
        "id": "MVVObnzOsLqH",
        "colab_type": "code",
        "outputId": "7873e5e1-5ece-4998-fde4-dafbae890203",
        "colab": {
          "base_uri": "https://localhost:8080/",
          "height": 337
        }
      },
      "source": [
        "mi = pd.Series(mi)\n",
        "mi.index = c2.columns\n",
        "mi.sort_values(ascending=False)\n",
        "mi.sort_values(ascending=False).plot.bar(figsize=(10, 4))"
      ],
      "execution_count": 0,
      "outputs": [
        {
          "output_type": "execute_result",
          "data": {
            "text/plain": [
              "<matplotlib.axes._subplots.AxesSubplot at 0x7f72c7979940>"
            ]
          },
          "metadata": {
            "tags": []
          },
          "execution_count": 40
        },
        {
          "output_type": "display_data",
          "data": {
            "image/png": "[encoded data removed]",
            "text/plain": [
              "<Figure size 720x288 with 1 Axes>"
            ]
          },
          "metadata": {
            "tags": []
          }
        }
      ]
    },
    {
      "cell_type": "markdown",
      "metadata": {
        "id": "36tMwly_u4i4",
        "colab_type": "text"
      },
      "source": [
        "Se pueba a eliminar la variable vendorName"
      ]
    },
    {
      "cell_type": "code",
      "metadata": {
        "id": "_T16jxwUtFpf",
        "colab_type": "code",
        "outputId": "05da6f40-02c5-47b1-fde7-2b22514877ad",
        "colab": {
          "base_uri": "https://localhost:8080/",
          "height": 34
        }
      },
      "source": [
        "X_train2 = X_train.drop(['vendorName','MMIN','CHMIN'], axis=1)\n",
        "X_test2 = X_test.drop(['vendorName','MMIN','CHMIN'], axis=1)\n",
        "rf = RandomForestRegressor(n_estimators = 1000, random_state = 42)\n",
        "# Train the model on training data\n",
        "rf.fit(X_train2, y_train);\n",
        "predictions = rf.predict(X_test2)\n",
        "errors = mean_squared_error(y_test, predictions)\n",
        "# Print out the mean square error (mse)\n",
        "print('Mean square Error:', round(errors, 6))"
      ],
      "execution_count": 0,
      "outputs": [
        {
          "output_type": "stream",
          "text": [
            "Mean square Error: 0.211191\n"
          ],
          "name": "stdout"
        }
      ]
    },
    {
      "cell_type": "markdown",
      "metadata": {
        "id": "gTacKYcivRNv",
        "colab_type": "text"
      },
      "source": [
        "Se decide no eliminar vendorName por que al probar el modelo con este cambio, sube el MSE. Por lo tanto las caracteriticas finales son:\n",
        "\n",
        "\n",
        "1.   MYCT\n",
        "2.   MMAX\n",
        "3.   CACH\n",
        "4.   CHMAX\n",
        "5.   VendorName\n",
        "6.   modelName\n",
        "\n"
      ]
    },
    {
      "cell_type": "code",
      "metadata": {
        "id": "gwDCNn4gu29v",
        "colab_type": "code",
        "outputId": "1485bee0-ec24-4e46-b0e6-aae318ae0db2",
        "colab": {
          "base_uri": "https://localhost:8080/",
          "height": 34
        }
      },
      "source": [
        "X_train2 = X_train.drop(['MMIN','CHMIN'], axis=1)\n",
        "X_test2 = X_test.drop(['MMIN','CHMIN'], axis=1)\n",
        "rf = RandomForestRegressor(n_estimators = 1000, random_state = 42)\n",
        "# Train the model on training data\n",
        "rf.fit(X_train2, y_train);\n",
        "predictions = rf.predict(X_test2)\n",
        "errors = mean_squared_error(y_test, predictions)\n",
        "# Print out the mean square error (mse)\n",
        "print('Mean square Error:', round(errors, 6))"
      ],
      "execution_count": 0,
      "outputs": [
        {
          "output_type": "stream",
          "text": [
            "Mean square Error: 0.210892\n"
          ],
          "name": "stdout"
        }
      ]
    }
  ]
}