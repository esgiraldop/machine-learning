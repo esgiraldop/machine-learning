{
  "nbformat": 4,
  "nbformat_minor": 0,
  "metadata": {
    "colab": {
      "name": "Tarea3.ipynb",
      "provenance": [],
      "collapsed_sections": [],
      "include_colab_link": true
    },
    "kernelspec": {
      "name": "python3",
      "display_name": "Python 3"
    }
  },
  "cells": [
    {
      "cell_type": "markdown",
      "metadata": {
        "id": "view-in-github",
        "colab_type": "text"
      },
      "source": [
        "<a href=\"https://colab.research.google.com/github/esgiraldop/machine-learning/blob/master/Tarea3/Tarea3.ipynb\" target=\"_parent\"><img src=\"https://colab.research.google.com/assets/colab-badge.svg\" alt=\"Open In Colab\"/></a>"
      ]
    },
    {
      "cell_type": "code",
      "metadata": {
        "id": "0MmiU32KPePh",
        "colab_type": "code",
        "outputId": "8c087a24-591e-48b6-8c33-657c506b6aba",
        "colab": {
          "base_uri": "https://localhost:8080/",
          "height": 34
        }
      },
      "source": [
        "#To mount drive for workspace. \n",
        "from google.colab import drive\n",
        "\n",
        "#This will prompt for authorization.\n",
        "drive.mount('/content/drive/')\n"
      ],
      "execution_count": 0,
      "outputs": [
        {
          "output_type": "stream",
          "text": [
            "Drive already mounted at /content/drive/; to attempt to forcibly remount, call drive.mount(\"/content/drive/\", force_remount=True).\n"
          ],
          "name": "stdout"
        }
      ]
    },
    {
      "cell_type": "code",
      "metadata": {
        "id": "LHNw7OeyUNhY",
        "colab_type": "code",
        "outputId": "77808a89-5520-408e-bebc-2882e0801695",
        "colab": {
          "base_uri": "https://localhost:8080/",
          "height": 187
        }
      },
      "source": [
        "!pip install optunity"
      ],
      "execution_count": 0,
      "outputs": [
        {
          "output_type": "stream",
          "text": [
            "Collecting optunity\n",
            "\u001b[?25l  Downloading https://files.pythonhosted.org/packages/32/4d/d49876a49e105b56755eb5ba06a4848ee8010f7ff9e0f11a13aefed12063/Optunity-1.1.1.tar.gz (4.6MB)\n",
            "\u001b[K     |████████████████████████████████| 4.6MB 2.7MB/s \n",
            "\u001b[?25hBuilding wheels for collected packages: optunity\n",
            "  Building wheel for optunity (setup.py) ... \u001b[?25l\u001b[?25hdone\n",
            "  Created wheel for optunity: filename=Optunity-1.1.1-cp36-none-any.whl size=72024 sha256=322e077e4b4fabf77616baaf1813fb92b013f94b0727e9e8aef74d5f16048eb5\n",
            "  Stored in directory: /root/.cache/pip/wheels/c9/e2/80/d3794524ae0042e147e035e132ec5fac09b8794b4acd94f046\n",
            "Successfully built optunity\n",
            "Installing collected packages: optunity\n",
            "Successfully installed optunity-1.1.1\n"
          ],
          "name": "stdout"
        }
      ]
    },
    {
      "cell_type": "code",
      "metadata": {
        "id": "IOPyctipPkAx",
        "colab_type": "code",
        "colab": {}
      },
      "source": [
        "import numpy as np\n",
        "import matplotlib.pyplot as plt\n",
        "import pandas as pd\n",
        "import optunity\n",
        "import optunity.metrics\n",
        "from sklearn.model_selection import train_test_split, StratifiedShuffleSplit, GridSearchCV\n",
        "from sklearn.linear_model import LinearRegression, ElasticNet\n",
        "from sklearn.metrics import mean_squared_error\n",
        "from sklearn.ensemble import RandomForestRegressor\n",
        "from sklearn.svm import SVR\n",
        "from mpl_toolkits.mplot3d import Axes3D  # importing the packege for 3D plots\n",
        "from sklearn import decomposition # importing the pca package"
      ],
      "execution_count": 0,
      "outputs": []
    },
    {
      "cell_type": "code",
      "metadata": {
        "id": "m4XbENIXQB2W",
        "colab_type": "code",
        "outputId": "5d3ce7b4-d806-49bf-8f06-d87673de02c3",
        "colab": {
          "base_uri": "https://localhost:8080/",
          "height": 462
        }
      },
      "source": [
        "path_to_datos = '/content/drive/My Drive/CursoMLAvanzado/Estudiantes/Luis-Vesga-Erick-Giraldo/Tarea 2/machine.csv';\n",
        "\n",
        "cpuData = pd.read_csv(path_to_datos, header = None, sep = ',', \n",
        "                         names = ['vendorName','modelName','MYCT',\n",
        "                                  'MMIN','MMAX','CACH','CHMIN','CHMAX','PRP',\n",
        "                                  'ERP'])\n",
        "cpuData.info()\n",
        "cpuData.describe(include='O')"
      ],
      "execution_count": 0,
      "outputs": [
        {
          "output_type": "stream",
          "text": [
            "<class 'pandas.core.frame.DataFrame'>\n",
            "RangeIndex: 209 entries, 0 to 208\n",
            "Data columns (total 10 columns):\n",
            " #   Column      Non-Null Count  Dtype \n",
            "---  ------      --------------  ----- \n",
            " 0   vendorName  209 non-null    object\n",
            " 1   modelName   209 non-null    object\n",
            " 2   MYCT        209 non-null    int64 \n",
            " 3   MMIN        209 non-null    int64 \n",
            " 4   MMAX        209 non-null    int64 \n",
            " 5   CACH        209 non-null    int64 \n",
            " 6   CHMIN       209 non-null    int64 \n",
            " 7   CHMAX       209 non-null    int64 \n",
            " 8   PRP         209 non-null    int64 \n",
            " 9   ERP         209 non-null    int64 \n",
            "dtypes: int64(8), object(2)\n",
            "memory usage: 16.5+ KB\n"
          ],
          "name": "stdout"
        },
        {
          "output_type": "execute_result",
          "data": {
            "text/html": [
              "<div>\n",
              "<style scoped>\n",
              "    .dataframe tbody tr th:only-of-type {\n",
              "        vertical-align: middle;\n",
              "    }\n",
              "\n",
              "    .dataframe tbody tr th {\n",
              "        vertical-align: top;\n",
              "    }\n",
              "\n",
              "    .dataframe thead th {\n",
              "        text-align: right;\n",
              "    }\n",
              "</style>\n",
              "<table border=\"1\" class=\"dataframe\">\n",
              "  <thead>\n",
              "    <tr style=\"text-align: right;\">\n",
              "      <th></th>\n",
              "      <th>vendorName</th>\n",
              "      <th>modelName</th>\n",
              "    </tr>\n",
              "  </thead>\n",
              "  <tbody>\n",
              "    <tr>\n",
              "      <th>count</th>\n",
              "      <td>209</td>\n",
              "      <td>209</td>\n",
              "    </tr>\n",
              "    <tr>\n",
              "      <th>unique</th>\n",
              "      <td>30</td>\n",
              "      <td>209</td>\n",
              "    </tr>\n",
              "    <tr>\n",
              "      <th>top</th>\n",
              "      <td>ibm</td>\n",
              "      <td>3210</td>\n",
              "    </tr>\n",
              "    <tr>\n",
              "      <th>freq</th>\n",
              "      <td>32</td>\n",
              "      <td>1</td>\n",
              "    </tr>\n",
              "  </tbody>\n",
              "</table>\n",
              "</div>"
            ],
            "text/plain": [
              "       vendorName modelName\n",
              "count         209       209\n",
              "unique         30       209\n",
              "top           ibm      3210\n",
              "freq           32         1"
            ]
          },
          "metadata": {
            "tags": []
          },
          "execution_count": 3
        }
      ]
    },
    {
      "cell_type": "markdown",
      "metadata": {
        "id": "sbDqtS5nHsuJ",
        "colab_type": "text"
      },
      "source": [
        "#Preprocesamiento"
      ]
    },
    {
      "cell_type": "code",
      "metadata": {
        "id": "o807XyDUQNlr",
        "colab_type": "code",
        "colab": {}
      },
      "source": [
        "#Copying ERP colum into a seperate dataframe\n",
        "data_ERP =  cpuData[cpuData.columns[-1]]\n",
        "data_ERP.head()\n",
        "#Dropping ERP column\n",
        "cpuData = cpuData.drop(['ERP'], axis=1)"
      ],
      "execution_count": 0,
      "outputs": []
    },
    {
      "cell_type": "code",
      "metadata": {
        "id": "TjAMsdPdQqG8",
        "colab_type": "code",
        "colab": {}
      },
      "source": [
        "# Encoding of categorical data.\n",
        "cpuData[\"vendorName\"] = cpuData[\"vendorName\"].astype('category').cat.codes\n",
        "cpuData[\"modelName\"] = cpuData[\"modelName\"].astype('category').cat.codes"
      ],
      "execution_count": 0,
      "outputs": []
    },
    {
      "cell_type": "code",
      "metadata": {
        "id": "1jCSTXeRQqiA",
        "colab_type": "code",
        "colab": {}
      },
      "source": [
        "(cpuData[['MYCT','MMIN','MMAX','CACH','CHMIN','CHMAX','PRP']]).apply(lambda column: (column<= 0).sum())\n",
        "cpuData['CACH'] = cpuData['CACH']+1\n",
        "cpuData['CHMIN'] = cpuData['CHMIN']+1\n",
        "cpuData['CHMAX'] = cpuData['CHMAX'] +1\n",
        "(cpuData[['MYCT','MMIN','MMAX','CACH','CHMIN','CHMAX','PRP']]).apply(lambda column: (column<= 0).sum())\n",
        "cpuDataSt = np.log(cpuData[['MYCT','MMIN','MMAX','CACH','CHMIN','CHMAX','PRP']])\n",
        "cpuDataSt['vendorName'] = cpuData['vendorName']\n",
        "cpuDataSt['modelName'] = cpuData['modelName']"
      ],
      "execution_count": 0,
      "outputs": []
    },
    {
      "cell_type": "code",
      "metadata": {
        "id": "GzOASSkxQsnO",
        "colab_type": "code",
        "outputId": "23e3ec24-59ab-49ab-c3eb-5735b1ac58e3",
        "colab": {
          "base_uri": "https://localhost:8080/",
          "height": 359
        }
      },
      "source": [
        "cpuDataSt.head(10)"
      ],
      "execution_count": 0,
      "outputs": [
        {
          "output_type": "execute_result",
          "data": {
            "text/html": [
              "<div>\n",
              "<style scoped>\n",
              "    .dataframe tbody tr th:only-of-type {\n",
              "        vertical-align: middle;\n",
              "    }\n",
              "\n",
              "    .dataframe tbody tr th {\n",
              "        vertical-align: top;\n",
              "    }\n",
              "\n",
              "    .dataframe thead th {\n",
              "        text-align: right;\n",
              "    }\n",
              "</style>\n",
              "<table border=\"1\" class=\"dataframe\">\n",
              "  <thead>\n",
              "    <tr style=\"text-align: right;\">\n",
              "      <th></th>\n",
              "      <th>MYCT</th>\n",
              "      <th>MMIN</th>\n",
              "      <th>MMAX</th>\n",
              "      <th>CACH</th>\n",
              "      <th>CHMIN</th>\n",
              "      <th>CHMAX</th>\n",
              "      <th>PRP</th>\n",
              "      <th>vendorName</th>\n",
              "      <th>modelName</th>\n",
              "    </tr>\n",
              "  </thead>\n",
              "  <tbody>\n",
              "    <tr>\n",
              "      <th>0</th>\n",
              "      <td>4.828314</td>\n",
              "      <td>5.545177</td>\n",
              "      <td>8.699515</td>\n",
              "      <td>5.549076</td>\n",
              "      <td>2.833213</td>\n",
              "      <td>4.859812</td>\n",
              "      <td>5.288267</td>\n",
              "      <td>0</td>\n",
              "      <td>29</td>\n",
              "    </tr>\n",
              "    <tr>\n",
              "      <th>1</th>\n",
              "      <td>3.367296</td>\n",
              "      <td>8.987197</td>\n",
              "      <td>10.373491</td>\n",
              "      <td>3.496508</td>\n",
              "      <td>2.197225</td>\n",
              "      <td>3.496508</td>\n",
              "      <td>5.594711</td>\n",
              "      <td>1</td>\n",
              "      <td>62</td>\n",
              "    </tr>\n",
              "    <tr>\n",
              "      <th>2</th>\n",
              "      <td>3.367296</td>\n",
              "      <td>8.987197</td>\n",
              "      <td>10.373491</td>\n",
              "      <td>3.496508</td>\n",
              "      <td>2.197225</td>\n",
              "      <td>3.496508</td>\n",
              "      <td>5.393628</td>\n",
              "      <td>1</td>\n",
              "      <td>63</td>\n",
              "    </tr>\n",
              "    <tr>\n",
              "      <th>3</th>\n",
              "      <td>3.367296</td>\n",
              "      <td>8.987197</td>\n",
              "      <td>10.373491</td>\n",
              "      <td>3.496508</td>\n",
              "      <td>2.197225</td>\n",
              "      <td>3.496508</td>\n",
              "      <td>5.147494</td>\n",
              "      <td>1</td>\n",
              "      <td>64</td>\n",
              "    </tr>\n",
              "    <tr>\n",
              "      <th>4</th>\n",
              "      <td>3.367296</td>\n",
              "      <td>8.987197</td>\n",
              "      <td>9.680344</td>\n",
              "      <td>3.496508</td>\n",
              "      <td>2.197225</td>\n",
              "      <td>2.833213</td>\n",
              "      <td>4.882802</td>\n",
              "      <td>1</td>\n",
              "      <td>65</td>\n",
              "    </tr>\n",
              "    <tr>\n",
              "      <th>5</th>\n",
              "      <td>3.258097</td>\n",
              "      <td>8.987197</td>\n",
              "      <td>10.373491</td>\n",
              "      <td>4.174387</td>\n",
              "      <td>2.197225</td>\n",
              "      <td>3.496508</td>\n",
              "      <td>5.762051</td>\n",
              "      <td>1</td>\n",
              "      <td>66</td>\n",
              "    </tr>\n",
              "    <tr>\n",
              "      <th>6</th>\n",
              "      <td>3.135494</td>\n",
              "      <td>9.680344</td>\n",
              "      <td>10.373491</td>\n",
              "      <td>4.174387</td>\n",
              "      <td>2.833213</td>\n",
              "      <td>3.496508</td>\n",
              "      <td>5.905362</td>\n",
              "      <td>1</td>\n",
              "      <td>74</td>\n",
              "    </tr>\n",
              "    <tr>\n",
              "      <th>7</th>\n",
              "      <td>3.135494</td>\n",
              "      <td>9.680344</td>\n",
              "      <td>10.373491</td>\n",
              "      <td>4.174387</td>\n",
              "      <td>2.833213</td>\n",
              "      <td>3.496508</td>\n",
              "      <td>6.192362</td>\n",
              "      <td>1</td>\n",
              "      <td>75</td>\n",
              "    </tr>\n",
              "    <tr>\n",
              "      <th>8</th>\n",
              "      <td>3.135494</td>\n",
              "      <td>9.680344</td>\n",
              "      <td>11.066638</td>\n",
              "      <td>4.174387</td>\n",
              "      <td>2.833213</td>\n",
              "      <td>3.496508</td>\n",
              "      <td>6.455199</td>\n",
              "      <td>1</td>\n",
              "      <td>76</td>\n",
              "    </tr>\n",
              "    <tr>\n",
              "      <th>9</th>\n",
              "      <td>3.135494</td>\n",
              "      <td>10.373491</td>\n",
              "      <td>11.066638</td>\n",
              "      <td>4.859812</td>\n",
              "      <td>3.496508</td>\n",
              "      <td>4.174387</td>\n",
              "      <td>7.042286</td>\n",
              "      <td>1</td>\n",
              "      <td>77</td>\n",
              "    </tr>\n",
              "  </tbody>\n",
              "</table>\n",
              "</div>"
            ],
            "text/plain": [
              "       MYCT       MMIN       MMAX  ...       PRP  vendorName  modelName\n",
              "0  4.828314   5.545177   8.699515  ...  5.288267           0         29\n",
              "1  3.367296   8.987197  10.373491  ...  5.594711           1         62\n",
              "2  3.367296   8.987197  10.373491  ...  5.393628           1         63\n",
              "3  3.367296   8.987197  10.373491  ...  5.147494           1         64\n",
              "4  3.367296   8.987197   9.680344  ...  4.882802           1         65\n",
              "5  3.258097   8.987197  10.373491  ...  5.762051           1         66\n",
              "6  3.135494   9.680344  10.373491  ...  5.905362           1         74\n",
              "7  3.135494   9.680344  10.373491  ...  6.192362           1         75\n",
              "8  3.135494   9.680344  11.066638  ...  6.455199           1         76\n",
              "9  3.135494  10.373491  11.066638  ...  7.042286           1         77\n",
              "\n",
              "[10 rows x 9 columns]"
            ]
          },
          "metadata": {
            "tags": []
          },
          "execution_count": 7
        }
      ]
    },
    {
      "cell_type": "markdown",
      "metadata": {
        "id": "jMab3S2uiDJu",
        "colab_type": "text"
      },
      "source": [
        " Se cambio la variable MMIN por MYCT para la selección de caracteristicas. Ver trabajo 2."
      ]
    },
    {
      "cell_type": "code",
      "metadata": {
        "id": "Bu4tHzcAffFa",
        "colab_type": "code",
        "colab": {}
      },
      "source": [
        "#  X and Y DataFrames.\n",
        "X = cpuDataSt.drop(['PRP','MYCT','CHMIN'], axis=1)\n",
        "Y = cpuDataSt['PRP']"
      ],
      "execution_count": 0,
      "outputs": []
    },
    {
      "cell_type": "markdown",
      "metadata": {
        "id": "fCLgobudHxL1",
        "colab_type": "text"
      },
      "source": [
        "# Modelo Base"
      ]
    },
    {
      "cell_type": "code",
      "metadata": {
        "id": "Lkkq-Ue_HR_J",
        "colab_type": "code",
        "colab": {}
      },
      "source": [
        "# Data split \n",
        "X_train, X_test, y_train, y_test = train_test_split(X, Y, test_size=0.33, random_state=42)"
      ],
      "execution_count": 0,
      "outputs": []
    },
    {
      "cell_type": "code",
      "metadata": {
        "id": "tefWAVj-HT7V",
        "colab_type": "code",
        "outputId": "cf18ad09-fdaa-483c-f18c-e75660235563",
        "colab": {
          "base_uri": "https://localhost:8080/",
          "height": 34
        }
      },
      "source": [
        "# Modelo Base\n",
        "clf = LinearRegression()\n",
        "clf.fit(X_train, y_train)\n",
        "predictions = clf.predict(X_test)\n",
        "errors = mean_squared_error(y_test, predictions)\n",
        "# Print out the mean square error (mse)\n",
        "print('Mean square Error:', round(errors, 6))"
      ],
      "execution_count": 0,
      "outputs": [
        {
          "output_type": "stream",
          "text": [
            "Mean square Error: 0.272762\n"
          ],
          "name": "stdout"
        }
      ]
    },
    {
      "cell_type": "markdown",
      "metadata": {
        "id": "9EYtNMITIsfG",
        "colab_type": "text"
      },
      "source": [
        "# Modelos"
      ]
    },
    {
      "cell_type": "markdown",
      "metadata": {
        "id": "WSggFQtbJag6",
        "colab_type": "text"
      },
      "source": [
        "## LASSO"
      ]
    },
    {
      "cell_type": "code",
      "metadata": {
        "id": "pq_F03l1OzMl",
        "colab_type": "code",
        "outputId": "4d4c15b7-c9a9-4c2f-c93a-56e265ac72d1",
        "colab": {
          "base_uri": "https://localhost:8080/",
          "height": 34
        }
      },
      "source": [
        "from sklearn import linear_model\n",
        "clf = clf = linear_model.Lasso(alpha=0.1)\n",
        "clf.fit(X_train, y_train);\n",
        "predictions = clf.predict(X_test)\n",
        "errors = mean_squared_error(y_test, predictions)\n",
        "# Print out the mean square error (mse)\n",
        "print('Mean square Error:', round(errors, 6))"
      ],
      "execution_count": 0,
      "outputs": [
        {
          "output_type": "stream",
          "text": [
            "Mean square Error: 0.329767\n"
          ],
          "name": "stdout"
        }
      ]
    },
    {
      "cell_type": "markdown",
      "metadata": {
        "id": "RwT7crcfJebI",
        "colab_type": "text"
      },
      "source": [
        "## SVM"
      ]
    },
    {
      "cell_type": "code",
      "metadata": {
        "id": "d2Z7CYZII1Gt",
        "colab_type": "code",
        "outputId": "d40fc4de-559b-4e1a-b66e-547f4347e415",
        "colab": {
          "base_uri": "https://localhost:8080/",
          "height": 34
        }
      },
      "source": [
        "clf = SVR(epsilon=0.2)\n",
        "clf.fit(X_train, y_train);\n",
        "predictions = clf.predict(X_test)\n",
        "errors = mean_squared_error(y_test, predictions)\n",
        "# Print out the mean square error (mse)\n",
        "print('Mean square Error:', round(errors, 6))"
      ],
      "execution_count": 0,
      "outputs": [
        {
          "output_type": "stream",
          "text": [
            "Mean square Error: 1.378673\n"
          ],
          "name": "stdout"
        }
      ]
    },
    {
      "cell_type": "markdown",
      "metadata": {
        "id": "XXDyKV_lfsK7",
        "colab_type": "text"
      },
      "source": [
        "###Optimización hiperparametos del SVM"
      ]
    },
    {
      "cell_type": "markdown",
      "metadata": {
        "id": "tjfZCB4Fipua",
        "colab_type": "text"
      },
      "source": [
        "Se añadio la optimización de hiperparametros."
      ]
    },
    {
      "cell_type": "code",
      "metadata": {
        "id": "hUSq-8DvIWBG",
        "colab_type": "code",
        "outputId": "8f9b177f-4ef4-4617-e24e-0e3abc2edfe8",
        "colab": {
          "base_uri": "https://localhost:8080/",
          "height": 34
        }
      },
      "source": [
        "from sklearn.svm import SVR\n",
        "import numpy as np\n",
        "parameters = {'kernel': ('linear', 'rbf','poly'), 'C':[1.5, 10],'gamma': [1e-7, 1e-4],'epsilon':[0.1,0.2,0.5,0.3]}\n",
        "svr = SVR()\n",
        "clf = GridSearchCV(svr, parameters)\n",
        "clf.fit(X_train,y_train)\n",
        "clf.best_params_"
      ],
      "execution_count": 0,
      "outputs": [
        {
          "output_type": "execute_result",
          "data": {
            "text/plain": [
              "{'C': 1.5, 'epsilon': 0.5, 'gamma': 1e-07, 'kernel': 'linear'}"
            ]
          },
          "metadata": {
            "tags": []
          },
          "execution_count": 44
        }
      ]
    },
    {
      "cell_type": "code",
      "metadata": {
        "id": "6v3kG8IJYxU6",
        "colab_type": "code",
        "outputId": "aa80257b-b708-4d79-e7aa-bda681ab1c9d",
        "colab": {
          "base_uri": "https://localhost:8080/",
          "height": 34
        }
      },
      "source": [
        "clf = SVR(epsilon=0.5,kernel= 'linear',C = 1.5 ,gamma=1e-07)\n",
        "clf.fit(X_train, y_train);\n",
        "predictions = clf.predict(X_test)\n",
        "errors = mean_squared_error(y_test, predictions)\n",
        "# Print out the mean square error (mse)\n",
        "print('Mean square Error:', round(errors, 6))"
      ],
      "execution_count": 0,
      "outputs": [
        {
          "output_type": "stream",
          "text": [
            "Mean square Error: 0.267061\n"
          ],
          "name": "stdout"
        }
      ]
    },
    {
      "cell_type": "markdown",
      "metadata": {
        "id": "c5T-PPqQenlT",
        "colab_type": "text"
      },
      "source": [
        "## Random Forest Regressor"
      ]
    },
    {
      "cell_type": "code",
      "metadata": {
        "id": "lNJxkWkjcyCj",
        "colab_type": "code",
        "outputId": "58597117-5358-4aae-e577-aaffe54b0e38",
        "colab": {
          "base_uri": "https://localhost:8080/",
          "height": 34
        }
      },
      "source": [
        "rf = RandomForestRegressor(random_state = 43)\n",
        "# Train the model on training data\n",
        "rf.fit(X_train, y_train);\n",
        "predictions = rf.predict(X_test)\n",
        "error = mean_squared_error(y_test, predictions)\n",
        "print(error)"
      ],
      "execution_count": 0,
      "outputs": [
        {
          "output_type": "stream",
          "text": [
            "0.1995388249675856\n"
          ],
          "name": "stdout"
        }
      ]
    },
    {
      "cell_type": "markdown",
      "metadata": {
        "id": "U9uimp-3XcNg",
        "colab_type": "text"
      },
      "source": [
        "###Optimización hiperparametos del RF"
      ]
    },
    {
      "cell_type": "code",
      "metadata": {
        "id": "2qHV32VNIxKd",
        "colab_type": "code",
        "outputId": "aef68da2-aaee-4689-d41f-2f0e769b5e69",
        "colab": {
          "base_uri": "https://localhost:8080/",
          "height": 329
        }
      },
      "source": [
        "A = []\n",
        "vect = [10,20,30,40,50,60,70,80,90,100, 110, 120, 140, 150, 160, 170, 180, 190,200, 210, \n",
        "                220, 240, 250, 260, 270, 280, 290,  300,310, 320, 330, 340, 350, 360, 370, 380, \n",
        "                390, 400, 410, 420, 430, 440, 450, 460, 470, 480, 490, 500, 510, 520, 530, 540, 550, \n",
        "                560, 570, 580, 590, 600, 610, 620, 630, 640, 650, 660, 670, 680, 690, 700,\n",
        "                710, 720, 730, 740, 750, 760, 770, 780, 790, 800,910, 920, 930, 940, 950, 960, 970, 980, 990, 1000,\n",
        "                1020,1040,1060,1080,1090]\n",
        "for i in vect:\n",
        "  rf = RandomForestRegressor(n_estimators = i, random_state = 43, min_samples_split = 2)\n",
        "  # Train the model on training data\n",
        "  rf.fit(X_train, y_train);\n",
        "  predictions = rf.predict(X_test)\n",
        "  errors = mean_squared_error(y_test, predictions)\n",
        "  A.append(errors)\n",
        "\n",
        "best_MSE_Id = np.argmin(A)\n",
        "best_params_enet = vect[best_MSE_Id]\n",
        "plt.plot(vect, A)\n",
        "plt.title('MSE para random forest a diferente número de estimadores')\n",
        "plt.xlabel('Número de estimadores')\n",
        "plt.ylabel('MSE')\n",
        "print(A[best_MSE_Id])\n",
        "print(best_params_enet)"
      ],
      "execution_count": 0,
      "outputs": [
        {
          "output_type": "stream",
          "text": [
            "0.19516510179360075\n",
            "70\n"
          ],
          "name": "stdout"
        },
        {
          "output_type": "display_data",
          "data": {
            "image/png": "[encoded data removed]",
            "text/plain": [
              "<Figure size 432x288 with 1 Axes>"
            ]
          },
          "metadata": {
            "tags": [],
            "needs_background": "light"
          }
        }
      ]
    },
    {
      "cell_type": "code",
      "metadata": {
        "id": "oIbyT9r7Jp6z",
        "colab_type": "code",
        "outputId": "7bf5db6e-9765-458e-dac9-a9900ddce0a5",
        "colab": {
          "base_uri": "https://localhost:8080/",
          "height": 329
        }
      },
      "source": [
        "A = []\n",
        "vect =  [100,200,300,400,500,600,700,800,900,1000,1200, 1400,1600,1800,2000]\n",
        "\n",
        "for i in vect:\n",
        "  rf = RandomForestRegressor(n_estimators = i, random_state = 43, min_samples_split = 4)\n",
        "  # Train the model on training data\n",
        "  rf.fit(X_train, y_train);\n",
        "  predictions = rf.predict(X_test)\n",
        "  errors = mean_squared_error(y_test, predictions)\n",
        "  A.append(errors)\n",
        "\n",
        "best_MSE_Id = np.argmin(A)\n",
        "best_params_enet = vect[best_MSE_Id]\n",
        "plt.plot(vect, A)\n",
        "plt.title('MSE para random forest a diferente número de estimadores')\n",
        "plt.xlabel('Número de estimadores')\n",
        "plt.ylabel('MSE')\n",
        "print(A[best_MSE_Id])\n",
        "print(best_params_enet)"
      ],
      "execution_count": 0,
      "outputs": [
        {
          "output_type": "stream",
          "text": [
            "0.20341693768137736\n",
            "1000\n"
          ],
          "name": "stdout"
        },
        {
          "output_type": "display_data",
          "data": {
            "image/png": "[encoded data removed]",
            "text/plain": [
              "<Figure size 432x288 with 1 Axes>"
            ]
          },
          "metadata": {
            "tags": [],
            "needs_background": "light"
          }
        }
      ]
    },
    {
      "cell_type": "code",
      "metadata": {
        "id": "-csWQ3OsOw_u",
        "colab_type": "code",
        "outputId": "b9b11e0a-939b-42da-cdec-9ceb1f478c01",
        "colab": {
          "base_uri": "https://localhost:8080/",
          "height": 329
        }
      },
      "source": [
        "A = []\n",
        "vect = [100,200,300,400,500,600,700,800,900,1000,1200, 1400,1600,1800,2000]\n",
        "\n",
        "for i in vect:\n",
        "  rf = RandomForestRegressor(n_estimators = i, random_state = 43, min_samples_split = 6)\n",
        "  # Train the model on training data\n",
        "  rf.fit(X_train, y_train);\n",
        "  predictions = rf.predict(X_test)\n",
        "  errors = mean_squared_error(y_test, predictions)\n",
        "  A.append(errors)\n",
        "best_MSE_Id = np.argmin(A)\n",
        "best_params_enet = vect[best_MSE_Id]\n",
        "plt.plot(vect, A)\n",
        "plt.title('MSE para random forest a diferente número de estimadores')\n",
        "plt.xlabel('Número de estimadores')\n",
        "plt.ylabel('MSE')\n",
        "print(A[best_MSE_Id])\n",
        "print(best_params_enet)"
      ],
      "execution_count": 0,
      "outputs": [
        {
          "output_type": "stream",
          "text": [
            "0.2083844344017566\n",
            "100\n"
          ],
          "name": "stdout"
        },
        {
          "output_type": "display_data",
          "data": {
            "image/png": "[encoded data removed]",
            "text/plain": [
              "<Figure size 432x288 with 1 Axes>"
            ]
          },
          "metadata": {
            "tags": [],
            "needs_background": "light"
          }
        }
      ]
    },
    {
      "cell_type": "code",
      "metadata": {
        "id": "J00UY1LxOxwP",
        "colab_type": "code",
        "outputId": "fe9cfe24-6c3a-4237-8d33-25618927d698",
        "colab": {
          "base_uri": "https://localhost:8080/",
          "height": 329
        }
      },
      "source": [
        "A = []\n",
        "vect = [100,200,300,400,500,600,700,800,900,1000,1200, 1400,1600,1800,2000]\n",
        "\n",
        "for i in vect:\n",
        "  rf = RandomForestRegressor(n_estimators = i, random_state = 43, min_samples_split = 8)\n",
        "  # Train the model on training data\n",
        "  rf.fit(X_train, y_train);\n",
        "  predictions = rf.predict(X_test)\n",
        "  errors = mean_squared_error(y_test, predictions)\n",
        "  A.append(errors)\n",
        "\n",
        "best_MSE_Id = np.argmin(A)\n",
        "best_params_enet = vect[best_MSE_Id]\n",
        "plt.plot(vect, A)\n",
        "plt.title('MSE para random forest a diferente número de estimadores')\n",
        "plt.xlabel('Número de estimadores')\n",
        "plt.ylabel('MSE')\n",
        "print(A[best_MSE_Id])\n",
        "print(best_params_enet)"
      ],
      "execution_count": 0,
      "outputs": [
        {
          "output_type": "stream",
          "text": [
            "0.22175288619405398\n",
            "200\n"
          ],
          "name": "stdout"
        },
        {
          "output_type": "display_data",
          "data": {
            "image/png": "[encoded data removed]",
            "text/plain": [
              "<Figure size 432x288 with 1 Axes>"
            ]
          },
          "metadata": {
            "tags": [],
            "needs_background": "light"
          }
        }
      ]
    },
    {
      "cell_type": "code",
      "metadata": {
        "id": "AnKGgD33Rhgy",
        "colab_type": "code",
        "outputId": "ded2d894-f33f-4e1b-8fd7-048060484612",
        "colab": {
          "base_uri": "https://localhost:8080/",
          "height": 34
        }
      },
      "source": [
        "rf = RandomForestRegressor(n_estimators = 70, random_state = 43, min_samples_split = 2,bootstrap = False)\n",
        "# Train the model on training data\n",
        "rf.fit(X_train, y_train);\n",
        "predictions = rf.predict(X_test)\n",
        "errors = mean_squared_error(y_test, predictions)\n",
        "# Print out the mean square error (mse)\n",
        "print('Mean square Error:', round(errors, 6))\n"
      ],
      "execution_count": 0,
      "outputs": [
        {
          "output_type": "stream",
          "text": [
            "Mean square Error: 0.232753\n"
          ],
          "name": "stdout"
        }
      ]
    },
    {
      "cell_type": "code",
      "metadata": {
        "id": "DodOe3EohXol",
        "colab_type": "code",
        "colab": {}
      },
      "source": [
        ""
      ],
      "execution_count": 0,
      "outputs": []
    }
  ]
}