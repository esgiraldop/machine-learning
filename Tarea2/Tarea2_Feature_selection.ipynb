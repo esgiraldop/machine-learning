{
  "nbformat": 4,
  "nbformat_minor": 0,
  "metadata": {
    "colab": {
      "name": "Tarea2_Feature_selection.ipynb",
      "provenance": [],
      "collapsed_sections": [],
      "toc_visible": true,
      "include_colab_link": true
    },
    "kernelspec": {
      "name": "python3",
      "display_name": "Python 3"
    }
  },
  "cells": [
    {
      "cell_type": "markdown",
      "metadata": {
        "id": "view-in-github",
        "colab_type": "text"
      },
      "source": [
        "<a href=\"https://colab.research.google.com/github/esgiraldop/machine-learning/blob/master/Tarea2/Tarea2_Feature_selection.ipynb\" target=\"_parent\"><img src=\"https://colab.research.google.com/assets/colab-badge.svg\" alt=\"Open In Colab\"/></a>"
      ]
    },
    {
      "cell_type": "markdown",
      "metadata": {
        "id": "Y1hKeteViPrZ",
        "colab_type": "text"
      },
      "source": [
        "# Preprocesamiento"
      ]
    },
    {
      "cell_type": "code",
      "metadata": {
        "id": "hzAHO66B6YNQ",
        "colab_type": "code",
        "outputId": "41e1b54b-bfcc-4f9a-bf1d-ceb364fd0fc2",
        "colab": {
          "base_uri": "https://localhost:8080/",
          "height": 122
        }
      },
      "source": [
        "#To mount drive for workspace. \n",
        "from google.colab import drive\n",
        "\n",
        "#This will prompt for authorization.\n",
        "drive.mount('/content/drive/')"
      ],
      "execution_count": 0,
      "outputs": [
        {
          "output_type": "stream",
          "text": [
            "Go to this URL in a browser: https://accounts.google.com/o/oauth2/auth?client_id=947318989803-6bn6qk8qdgf4n4g3pfee6491hc0brc4i.apps.googleusercontent.com&redirect_uri=urn%3aietf%3awg%3aoauth%3a2.0%3aoob&response_type=code&scope=email%20https%3a%2f%2fwww.googleapis.com%2fauth%2fdocs.test%20https%3a%2f%2fwww.googleapis.com%2fauth%2fdrive%20https%3a%2f%2fwww.googleapis.com%2fauth%2fdrive.photos.readonly%20https%3a%2f%2fwww.googleapis.com%2fauth%2fpeopleapi.readonly\n",
            "\n",
            "Enter your authorization code:\n",
            "··········\n",
            "Mounted at /content/drive/\n"
          ],
          "name": "stdout"
        }
      ]
    },
    {
      "cell_type": "code",
      "metadata": {
        "id": "h2bQMOz-yw-H",
        "colab_type": "code",
        "outputId": "64ac1521-f61e-4ee8-a349-93545cfb5e17",
        "colab": {
          "base_uri": "https://localhost:8080/",
          "height": 54
        }
      },
      "source": [
        "\"\"\"Objective: To apply filter selection to a dataset\n",
        "            of computer hardware performance in order to boost trainig time\n",
        "\"\"\"\n",
        "import numpy as np\n",
        "import matplotlib.pyplot as plt\n",
        "import pandas as pd\n",
        "from sklearn.model_selection import train_test_split\n",
        "from sklearn.linear_model import LinearRegression\n",
        "from sklearn.metrics import mean_squared_error\n",
        "from sklearn.ensemble import RandomForestRegressor\n",
        "from mpl_toolkits.mplot3d import Axes3D  # importing the packege for 3D plots\n",
        "from sklearn import decomposition # importing the pca package\n",
        "\n",
        "\"\"\"COLUM NAMES\n",
        "1. Vendor name: 30 \n",
        "      (adviser, amdahl,apollo, basf, bti, burroughs, c.r.d, cambex, cdc, dec, \n",
        "       dg, formation, four-phase, gould, honeywell, hp, ibm, ipl, magnuson, \n",
        "       microdata, nas, ncr, nixdorf, perkin-elmer, prime, siemens, sperry, \n",
        "       sratus, wang)\n",
        "2. Model Name: many unique symbols\n",
        "3. MYCT: Machine cycle time [nanoseconds]\n",
        "4. MMIN: Minimum main memory [kilobytes]\n",
        "5. MMAX: Maximum main memory [kilobytes]\n",
        "6. CACH: Cache memory [kilobytes]\n",
        "7. CHMIN: minimum channels [units]\n",
        "8. CHMAX: maximum channels [units]\n",
        "9. PRP: published relative performance\n",
        "10. ERP: estimated relative performance from the original article\"\"\""
      ],
      "execution_count": 0,
      "outputs": [
        {
          "output_type": "execute_result",
          "data": {
            "text/plain": [
              "'COLUM NAMES\\n1. Vendor name: 30 \\n      (adviser, amdahl,apollo, basf, bti, burroughs, c.r.d, cambex, cdc, dec, \\n       dg, formation, four-phase, gould, honeywell, hp, ibm, ipl, magnuson, \\n       microdata, nas, ncr, nixdorf, perkin-elmer, prime, siemens, sperry, \\n       sratus, wang)\\n2. Model Name: many unique symbols\\n3. MYCT: Machine cycle time [nanoseconds]\\n4. MMIN: Minimum main memory [kilobytes]\\n5. MMAX: Maximum main memory [kilobytes]\\n6. CACH: Cache memory [kilobytes]\\n7. CHMIN: minimum channels [units]\\n8. CHMAX: maximum channels [units]\\n9. PRP: published relative performance\\n10. ERP: estimated relative performance from the original article'"
            ]
          },
          "metadata": {
            "tags": []
          },
          "execution_count": 2
        }
      ]
    },
    {
      "cell_type": "code",
      "metadata": {
        "id": "7PR4UbJp7XJc",
        "colab_type": "code",
        "outputId": "39ee6a17-8ae4-4b34-e8b1-45b454378173",
        "colab": {
          "base_uri": "https://localhost:8080/",
          "height": 462
        }
      },
      "source": [
        "path_to_datos = '/content/drive/My Drive/CursoMLAvanzado/Estudiantes/Luis-Vesga-Erick-Giraldo/Tarea 2/machine.csv';\n",
        "\n",
        "cpuData = pd.read_csv(path_to_datos, header = None, sep = ',', \n",
        "                         names = ['vendorName','modelName','MYCT',\n",
        "                                  'MMIN','MMAX','CACH','CHMIN','CHMAX','PRP',\n",
        "                                  'ERP'])\n",
        "cpuData.info()\n",
        "cpuData.describe(include='O')"
      ],
      "execution_count": 0,
      "outputs": [
        {
          "output_type": "stream",
          "text": [
            "<class 'pandas.core.frame.DataFrame'>\n",
            "RangeIndex: 209 entries, 0 to 208\n",
            "Data columns (total 10 columns):\n",
            " #   Column      Non-Null Count  Dtype \n",
            "---  ------      --------------  ----- \n",
            " 0   vendorName  209 non-null    object\n",
            " 1   modelName   209 non-null    object\n",
            " 2   MYCT        209 non-null    int64 \n",
            " 3   MMIN        209 non-null    int64 \n",
            " 4   MMAX        209 non-null    int64 \n",
            " 5   CACH        209 non-null    int64 \n",
            " 6   CHMIN       209 non-null    int64 \n",
            " 7   CHMAX       209 non-null    int64 \n",
            " 8   PRP         209 non-null    int64 \n",
            " 9   ERP         209 non-null    int64 \n",
            "dtypes: int64(8), object(2)\n",
            "memory usage: 16.5+ KB\n"
          ],
          "name": "stdout"
        },
        {
          "output_type": "execute_result",
          "data": {
            "text/html": [
              "<div>\n",
              "<style scoped>\n",
              "    .dataframe tbody tr th:only-of-type {\n",
              "        vertical-align: middle;\n",
              "    }\n",
              "\n",
              "    .dataframe tbody tr th {\n",
              "        vertical-align: top;\n",
              "    }\n",
              "\n",
              "    .dataframe thead th {\n",
              "        text-align: right;\n",
              "    }\n",
              "</style>\n",
              "<table border=\"1\" class=\"dataframe\">\n",
              "  <thead>\n",
              "    <tr style=\"text-align: right;\">\n",
              "      <th></th>\n",
              "      <th>vendorName</th>\n",
              "      <th>modelName</th>\n",
              "    </tr>\n",
              "  </thead>\n",
              "  <tbody>\n",
              "    <tr>\n",
              "      <th>count</th>\n",
              "      <td>209</td>\n",
              "      <td>209</td>\n",
              "    </tr>\n",
              "    <tr>\n",
              "      <th>unique</th>\n",
              "      <td>30</td>\n",
              "      <td>209</td>\n",
              "    </tr>\n",
              "    <tr>\n",
              "      <th>top</th>\n",
              "      <td>ibm</td>\n",
              "      <td>50-2250</td>\n",
              "    </tr>\n",
              "    <tr>\n",
              "      <th>freq</th>\n",
              "      <td>32</td>\n",
              "      <td>1</td>\n",
              "    </tr>\n",
              "  </tbody>\n",
              "</table>\n",
              "</div>"
            ],
            "text/plain": [
              "       vendorName modelName\n",
              "count         209       209\n",
              "unique         30       209\n",
              "top           ibm   50-2250\n",
              "freq           32         1"
            ]
          },
          "metadata": {
            "tags": []
          },
          "execution_count": 3
        }
      ]
    },
    {
      "cell_type": "code",
      "metadata": {
        "id": "ablhJWM4e_Mf",
        "colab_type": "code",
        "outputId": "3f6c1845-41ac-4211-f43c-c118f47aee06",
        "colab": {
          "base_uri": "https://localhost:8080/",
          "height": 359
        }
      },
      "source": [
        "cpuData.head(10)"
      ],
      "execution_count": 0,
      "outputs": [
        {
          "output_type": "execute_result",
          "data": {
            "text/html": [
              "<div>\n",
              "<style scoped>\n",
              "    .dataframe tbody tr th:only-of-type {\n",
              "        vertical-align: middle;\n",
              "    }\n",
              "\n",
              "    .dataframe tbody tr th {\n",
              "        vertical-align: top;\n",
              "    }\n",
              "\n",
              "    .dataframe thead th {\n",
              "        text-align: right;\n",
              "    }\n",
              "</style>\n",
              "<table border=\"1\" class=\"dataframe\">\n",
              "  <thead>\n",
              "    <tr style=\"text-align: right;\">\n",
              "      <th></th>\n",
              "      <th>vendorName</th>\n",
              "      <th>modelName</th>\n",
              "      <th>MYCT</th>\n",
              "      <th>MMIN</th>\n",
              "      <th>MMAX</th>\n",
              "      <th>CACH</th>\n",
              "      <th>CHMIN</th>\n",
              "      <th>CHMAX</th>\n",
              "      <th>PRP</th>\n",
              "      <th>ERP</th>\n",
              "    </tr>\n",
              "  </thead>\n",
              "  <tbody>\n",
              "    <tr>\n",
              "      <th>0</th>\n",
              "      <td>adviser</td>\n",
              "      <td>32/60</td>\n",
              "      <td>125</td>\n",
              "      <td>256</td>\n",
              "      <td>6000</td>\n",
              "      <td>256</td>\n",
              "      <td>16</td>\n",
              "      <td>128</td>\n",
              "      <td>198</td>\n",
              "      <td>199</td>\n",
              "    </tr>\n",
              "    <tr>\n",
              "      <th>1</th>\n",
              "      <td>amdahl</td>\n",
              "      <td>470v/7</td>\n",
              "      <td>29</td>\n",
              "      <td>8000</td>\n",
              "      <td>32000</td>\n",
              "      <td>32</td>\n",
              "      <td>8</td>\n",
              "      <td>32</td>\n",
              "      <td>269</td>\n",
              "      <td>253</td>\n",
              "    </tr>\n",
              "    <tr>\n",
              "      <th>2</th>\n",
              "      <td>amdahl</td>\n",
              "      <td>470v/7a</td>\n",
              "      <td>29</td>\n",
              "      <td>8000</td>\n",
              "      <td>32000</td>\n",
              "      <td>32</td>\n",
              "      <td>8</td>\n",
              "      <td>32</td>\n",
              "      <td>220</td>\n",
              "      <td>253</td>\n",
              "    </tr>\n",
              "    <tr>\n",
              "      <th>3</th>\n",
              "      <td>amdahl</td>\n",
              "      <td>470v/7b</td>\n",
              "      <td>29</td>\n",
              "      <td>8000</td>\n",
              "      <td>32000</td>\n",
              "      <td>32</td>\n",
              "      <td>8</td>\n",
              "      <td>32</td>\n",
              "      <td>172</td>\n",
              "      <td>253</td>\n",
              "    </tr>\n",
              "    <tr>\n",
              "      <th>4</th>\n",
              "      <td>amdahl</td>\n",
              "      <td>470v/7c</td>\n",
              "      <td>29</td>\n",
              "      <td>8000</td>\n",
              "      <td>16000</td>\n",
              "      <td>32</td>\n",
              "      <td>8</td>\n",
              "      <td>16</td>\n",
              "      <td>132</td>\n",
              "      <td>132</td>\n",
              "    </tr>\n",
              "    <tr>\n",
              "      <th>5</th>\n",
              "      <td>amdahl</td>\n",
              "      <td>470v/b</td>\n",
              "      <td>26</td>\n",
              "      <td>8000</td>\n",
              "      <td>32000</td>\n",
              "      <td>64</td>\n",
              "      <td>8</td>\n",
              "      <td>32</td>\n",
              "      <td>318</td>\n",
              "      <td>290</td>\n",
              "    </tr>\n",
              "    <tr>\n",
              "      <th>6</th>\n",
              "      <td>amdahl</td>\n",
              "      <td>580-5840</td>\n",
              "      <td>23</td>\n",
              "      <td>16000</td>\n",
              "      <td>32000</td>\n",
              "      <td>64</td>\n",
              "      <td>16</td>\n",
              "      <td>32</td>\n",
              "      <td>367</td>\n",
              "      <td>381</td>\n",
              "    </tr>\n",
              "    <tr>\n",
              "      <th>7</th>\n",
              "      <td>amdahl</td>\n",
              "      <td>580-5850</td>\n",
              "      <td>23</td>\n",
              "      <td>16000</td>\n",
              "      <td>32000</td>\n",
              "      <td>64</td>\n",
              "      <td>16</td>\n",
              "      <td>32</td>\n",
              "      <td>489</td>\n",
              "      <td>381</td>\n",
              "    </tr>\n",
              "    <tr>\n",
              "      <th>8</th>\n",
              "      <td>amdahl</td>\n",
              "      <td>580-5860</td>\n",
              "      <td>23</td>\n",
              "      <td>16000</td>\n",
              "      <td>64000</td>\n",
              "      <td>64</td>\n",
              "      <td>16</td>\n",
              "      <td>32</td>\n",
              "      <td>636</td>\n",
              "      <td>749</td>\n",
              "    </tr>\n",
              "    <tr>\n",
              "      <th>9</th>\n",
              "      <td>amdahl</td>\n",
              "      <td>580-5880</td>\n",
              "      <td>23</td>\n",
              "      <td>32000</td>\n",
              "      <td>64000</td>\n",
              "      <td>128</td>\n",
              "      <td>32</td>\n",
              "      <td>64</td>\n",
              "      <td>1144</td>\n",
              "      <td>1238</td>\n",
              "    </tr>\n",
              "  </tbody>\n",
              "</table>\n",
              "</div>"
            ],
            "text/plain": [
              "  vendorName modelName  MYCT   MMIN   MMAX  CACH  CHMIN  CHMAX   PRP   ERP\n",
              "0    adviser     32/60   125    256   6000   256     16    128   198   199\n",
              "1     amdahl    470v/7    29   8000  32000    32      8     32   269   253\n",
              "2     amdahl   470v/7a    29   8000  32000    32      8     32   220   253\n",
              "3     amdahl   470v/7b    29   8000  32000    32      8     32   172   253\n",
              "4     amdahl   470v/7c    29   8000  16000    32      8     16   132   132\n",
              "5     amdahl    470v/b    26   8000  32000    64      8     32   318   290\n",
              "6     amdahl  580-5840    23  16000  32000    64     16     32   367   381\n",
              "7     amdahl  580-5850    23  16000  32000    64     16     32   489   381\n",
              "8     amdahl  580-5860    23  16000  64000    64     16     32   636   749\n",
              "9     amdahl  580-5880    23  32000  64000   128     32     64  1144  1238"
            ]
          },
          "metadata": {
            "tags": []
          },
          "execution_count": 4
        }
      ]
    },
    {
      "cell_type": "code",
      "metadata": {
        "id": "-KTujJWlN1hD",
        "colab_type": "code",
        "colab": {}
      },
      "source": [
        "#Copying ERP colum into a seperate dataframe\n",
        "data_ERP =  cpuData[cpuData.columns[-1]]\n",
        "data_ERP.head()\n",
        "#Dropping ERP column\n",
        "cpuData = cpuData.drop(['ERP'], axis=1)"
      ],
      "execution_count": 0,
      "outputs": []
    },
    {
      "cell_type": "code",
      "metadata": {
        "id": "5NbMiw3Pg0_U",
        "colab_type": "code",
        "colab": {}
      },
      "source": [
        "# Encoding of categorical data.\n",
        "cpuData[\"vendorName\"] = cpuData[\"vendorName\"].astype('category').cat.codes\n",
        "cpuData[\"modelName\"] = cpuData[\"modelName\"].astype('category').cat.codes"
      ],
      "execution_count": 0,
      "outputs": []
    },
    {
      "cell_type": "code",
      "metadata": {
        "id": "B-cZnv65hw_Y",
        "colab_type": "code",
        "outputId": "5c96ff26-4bb8-4ffb-b3b9-57906b01e931",
        "colab": {
          "base_uri": "https://localhost:8080/",
          "height": 359
        }
      },
      "source": [
        "cpuData.head(10)"
      ],
      "execution_count": 0,
      "outputs": [
        {
          "output_type": "execute_result",
          "data": {
            "text/html": [
              "<div>\n",
              "<style scoped>\n",
              "    .dataframe tbody tr th:only-of-type {\n",
              "        vertical-align: middle;\n",
              "    }\n",
              "\n",
              "    .dataframe tbody tr th {\n",
              "        vertical-align: top;\n",
              "    }\n",
              "\n",
              "    .dataframe thead th {\n",
              "        text-align: right;\n",
              "    }\n",
              "</style>\n",
              "<table border=\"1\" class=\"dataframe\">\n",
              "  <thead>\n",
              "    <tr style=\"text-align: right;\">\n",
              "      <th></th>\n",
              "      <th>vendorName</th>\n",
              "      <th>modelName</th>\n",
              "      <th>MYCT</th>\n",
              "      <th>MMIN</th>\n",
              "      <th>MMAX</th>\n",
              "      <th>CACH</th>\n",
              "      <th>CHMIN</th>\n",
              "      <th>CHMAX</th>\n",
              "      <th>PRP</th>\n",
              "    </tr>\n",
              "  </thead>\n",
              "  <tbody>\n",
              "    <tr>\n",
              "      <th>0</th>\n",
              "      <td>0</td>\n",
              "      <td>29</td>\n",
              "      <td>125</td>\n",
              "      <td>256</td>\n",
              "      <td>6000</td>\n",
              "      <td>256</td>\n",
              "      <td>16</td>\n",
              "      <td>128</td>\n",
              "      <td>198</td>\n",
              "    </tr>\n",
              "    <tr>\n",
              "      <th>1</th>\n",
              "      <td>1</td>\n",
              "      <td>62</td>\n",
              "      <td>29</td>\n",
              "      <td>8000</td>\n",
              "      <td>32000</td>\n",
              "      <td>32</td>\n",
              "      <td>8</td>\n",
              "      <td>32</td>\n",
              "      <td>269</td>\n",
              "    </tr>\n",
              "    <tr>\n",
              "      <th>2</th>\n",
              "      <td>1</td>\n",
              "      <td>63</td>\n",
              "      <td>29</td>\n",
              "      <td>8000</td>\n",
              "      <td>32000</td>\n",
              "      <td>32</td>\n",
              "      <td>8</td>\n",
              "      <td>32</td>\n",
              "      <td>220</td>\n",
              "    </tr>\n",
              "    <tr>\n",
              "      <th>3</th>\n",
              "      <td>1</td>\n",
              "      <td>64</td>\n",
              "      <td>29</td>\n",
              "      <td>8000</td>\n",
              "      <td>32000</td>\n",
              "      <td>32</td>\n",
              "      <td>8</td>\n",
              "      <td>32</td>\n",
              "      <td>172</td>\n",
              "    </tr>\n",
              "    <tr>\n",
              "      <th>4</th>\n",
              "      <td>1</td>\n",
              "      <td>65</td>\n",
              "      <td>29</td>\n",
              "      <td>8000</td>\n",
              "      <td>16000</td>\n",
              "      <td>32</td>\n",
              "      <td>8</td>\n",
              "      <td>16</td>\n",
              "      <td>132</td>\n",
              "    </tr>\n",
              "    <tr>\n",
              "      <th>5</th>\n",
              "      <td>1</td>\n",
              "      <td>66</td>\n",
              "      <td>26</td>\n",
              "      <td>8000</td>\n",
              "      <td>32000</td>\n",
              "      <td>64</td>\n",
              "      <td>8</td>\n",
              "      <td>32</td>\n",
              "      <td>318</td>\n",
              "    </tr>\n",
              "    <tr>\n",
              "      <th>6</th>\n",
              "      <td>1</td>\n",
              "      <td>74</td>\n",
              "      <td>23</td>\n",
              "      <td>16000</td>\n",
              "      <td>32000</td>\n",
              "      <td>64</td>\n",
              "      <td>16</td>\n",
              "      <td>32</td>\n",
              "      <td>367</td>\n",
              "    </tr>\n",
              "    <tr>\n",
              "      <th>7</th>\n",
              "      <td>1</td>\n",
              "      <td>75</td>\n",
              "      <td>23</td>\n",
              "      <td>16000</td>\n",
              "      <td>32000</td>\n",
              "      <td>64</td>\n",
              "      <td>16</td>\n",
              "      <td>32</td>\n",
              "      <td>489</td>\n",
              "    </tr>\n",
              "    <tr>\n",
              "      <th>8</th>\n",
              "      <td>1</td>\n",
              "      <td>76</td>\n",
              "      <td>23</td>\n",
              "      <td>16000</td>\n",
              "      <td>64000</td>\n",
              "      <td>64</td>\n",
              "      <td>16</td>\n",
              "      <td>32</td>\n",
              "      <td>636</td>\n",
              "    </tr>\n",
              "    <tr>\n",
              "      <th>9</th>\n",
              "      <td>1</td>\n",
              "      <td>77</td>\n",
              "      <td>23</td>\n",
              "      <td>32000</td>\n",
              "      <td>64000</td>\n",
              "      <td>128</td>\n",
              "      <td>32</td>\n",
              "      <td>64</td>\n",
              "      <td>1144</td>\n",
              "    </tr>\n",
              "  </tbody>\n",
              "</table>\n",
              "</div>"
            ],
            "text/plain": [
              "   vendorName  modelName  MYCT   MMIN   MMAX  CACH  CHMIN  CHMAX   PRP\n",
              "0           0         29   125    256   6000   256     16    128   198\n",
              "1           1         62    29   8000  32000    32      8     32   269\n",
              "2           1         63    29   8000  32000    32      8     32   220\n",
              "3           1         64    29   8000  32000    32      8     32   172\n",
              "4           1         65    29   8000  16000    32      8     16   132\n",
              "5           1         66    26   8000  32000    64      8     32   318\n",
              "6           1         74    23  16000  32000    64     16     32   367\n",
              "7           1         75    23  16000  32000    64     16     32   489\n",
              "8           1         76    23  16000  64000    64     16     32   636\n",
              "9           1         77    23  32000  64000   128     32     64  1144"
            ]
          },
          "metadata": {
            "tags": []
          },
          "execution_count": 7
        }
      ]
    },
    {
      "cell_type": "code",
      "metadata": {
        "id": "5nej5zBvyNI8",
        "colab_type": "code",
        "outputId": "97877c23-645a-4217-b098-06fc12f44074",
        "colab": {
          "base_uri": "https://localhost:8080/",
          "height": 153
        }
      },
      "source": [
        "(cpuData[['MYCT','MMIN','MMAX','CACH','CHMIN','CHMAX','PRP']]).apply(lambda column: (column<= 0).sum())"
      ],
      "execution_count": 0,
      "outputs": [
        {
          "output_type": "execute_result",
          "data": {
            "text/plain": [
              "MYCT      0\n",
              "MMIN      0\n",
              "MMAX      0\n",
              "CACH     69\n",
              "CHMIN     5\n",
              "CHMAX     5\n",
              "PRP       0\n",
              "dtype: int64"
            ]
          },
          "metadata": {
            "tags": []
          },
          "execution_count": 8
        }
      ]
    },
    {
      "cell_type": "code",
      "metadata": {
        "id": "DR9qta_xycBU",
        "colab_type": "code",
        "outputId": "d46b4d32-748d-4996-f3c9-57a6ce460398",
        "colab": {
          "base_uri": "https://localhost:8080/",
          "height": 153
        }
      },
      "source": [
        "cpuData['CACH'] = cpuData['CACH']+1\n",
        "cpuData['CHMIN'] = cpuData['CHMIN']+1\n",
        "cpuData['CHMAX'] = cpuData['CHMAX'] +1\n",
        "(cpuData[['MYCT','MMIN','MMAX','CACH','CHMIN','CHMAX','PRP']]).apply(lambda column: (column<= 0).sum())"
      ],
      "execution_count": 0,
      "outputs": [
        {
          "output_type": "execute_result",
          "data": {
            "text/plain": [
              "MYCT     0\n",
              "MMIN     0\n",
              "MMAX     0\n",
              "CACH     0\n",
              "CHMIN    0\n",
              "CHMAX    0\n",
              "PRP      0\n",
              "dtype: int64"
            ]
          },
          "metadata": {
            "tags": []
          },
          "execution_count": 9
        }
      ]
    },
    {
      "cell_type": "code",
      "metadata": {
        "id": "Kjl0r4r6xtmF",
        "colab_type": "code",
        "colab": {}
      },
      "source": [
        "cpuDataSt = np.log(cpuData[['MYCT','MMIN','MMAX','CACH','CHMIN','CHMAX','PRP']])\n",
        "cpuDataSt['vendorName'] = cpuData['vendorName']\n",
        "cpuDataSt['modelName'] = cpuData['modelName']"
      ],
      "execution_count": 0,
      "outputs": []
    },
    {
      "cell_type": "code",
      "metadata": {
        "id": "4QytvefviVWI",
        "colab_type": "code",
        "outputId": "15fe9f62-85b6-4aa6-f817-23353daa1760",
        "colab": {
          "base_uri": "https://localhost:8080/",
          "height": 359
        }
      },
      "source": [
        "cpuDataSt.head(10)"
      ],
      "execution_count": 0,
      "outputs": [
        {
          "output_type": "execute_result",
          "data": {
            "text/html": [
              "<div>\n",
              "<style scoped>\n",
              "    .dataframe tbody tr th:only-of-type {\n",
              "        vertical-align: middle;\n",
              "    }\n",
              "\n",
              "    .dataframe tbody tr th {\n",
              "        vertical-align: top;\n",
              "    }\n",
              "\n",
              "    .dataframe thead th {\n",
              "        text-align: right;\n",
              "    }\n",
              "</style>\n",
              "<table border=\"1\" class=\"dataframe\">\n",
              "  <thead>\n",
              "    <tr style=\"text-align: right;\">\n",
              "      <th></th>\n",
              "      <th>MYCT</th>\n",
              "      <th>MMIN</th>\n",
              "      <th>MMAX</th>\n",
              "      <th>CACH</th>\n",
              "      <th>CHMIN</th>\n",
              "      <th>CHMAX</th>\n",
              "      <th>PRP</th>\n",
              "      <th>vendorName</th>\n",
              "      <th>modelName</th>\n",
              "    </tr>\n",
              "  </thead>\n",
              "  <tbody>\n",
              "    <tr>\n",
              "      <th>0</th>\n",
              "      <td>4.828314</td>\n",
              "      <td>5.545177</td>\n",
              "      <td>8.699515</td>\n",
              "      <td>5.549076</td>\n",
              "      <td>2.833213</td>\n",
              "      <td>4.859812</td>\n",
              "      <td>5.288267</td>\n",
              "      <td>0</td>\n",
              "      <td>29</td>\n",
              "    </tr>\n",
              "    <tr>\n",
              "      <th>1</th>\n",
              "      <td>3.367296</td>\n",
              "      <td>8.987197</td>\n",
              "      <td>10.373491</td>\n",
              "      <td>3.496508</td>\n",
              "      <td>2.197225</td>\n",
              "      <td>3.496508</td>\n",
              "      <td>5.594711</td>\n",
              "      <td>1</td>\n",
              "      <td>62</td>\n",
              "    </tr>\n",
              "    <tr>\n",
              "      <th>2</th>\n",
              "      <td>3.367296</td>\n",
              "      <td>8.987197</td>\n",
              "      <td>10.373491</td>\n",
              "      <td>3.496508</td>\n",
              "      <td>2.197225</td>\n",
              "      <td>3.496508</td>\n",
              "      <td>5.393628</td>\n",
              "      <td>1</td>\n",
              "      <td>63</td>\n",
              "    </tr>\n",
              "    <tr>\n",
              "      <th>3</th>\n",
              "      <td>3.367296</td>\n",
              "      <td>8.987197</td>\n",
              "      <td>10.373491</td>\n",
              "      <td>3.496508</td>\n",
              "      <td>2.197225</td>\n",
              "      <td>3.496508</td>\n",
              "      <td>5.147494</td>\n",
              "      <td>1</td>\n",
              "      <td>64</td>\n",
              "    </tr>\n",
              "    <tr>\n",
              "      <th>4</th>\n",
              "      <td>3.367296</td>\n",
              "      <td>8.987197</td>\n",
              "      <td>9.680344</td>\n",
              "      <td>3.496508</td>\n",
              "      <td>2.197225</td>\n",
              "      <td>2.833213</td>\n",
              "      <td>4.882802</td>\n",
              "      <td>1</td>\n",
              "      <td>65</td>\n",
              "    </tr>\n",
              "    <tr>\n",
              "      <th>5</th>\n",
              "      <td>3.258097</td>\n",
              "      <td>8.987197</td>\n",
              "      <td>10.373491</td>\n",
              "      <td>4.174387</td>\n",
              "      <td>2.197225</td>\n",
              "      <td>3.496508</td>\n",
              "      <td>5.762051</td>\n",
              "      <td>1</td>\n",
              "      <td>66</td>\n",
              "    </tr>\n",
              "    <tr>\n",
              "      <th>6</th>\n",
              "      <td>3.135494</td>\n",
              "      <td>9.680344</td>\n",
              "      <td>10.373491</td>\n",
              "      <td>4.174387</td>\n",
              "      <td>2.833213</td>\n",
              "      <td>3.496508</td>\n",
              "      <td>5.905362</td>\n",
              "      <td>1</td>\n",
              "      <td>74</td>\n",
              "    </tr>\n",
              "    <tr>\n",
              "      <th>7</th>\n",
              "      <td>3.135494</td>\n",
              "      <td>9.680344</td>\n",
              "      <td>10.373491</td>\n",
              "      <td>4.174387</td>\n",
              "      <td>2.833213</td>\n",
              "      <td>3.496508</td>\n",
              "      <td>6.192362</td>\n",
              "      <td>1</td>\n",
              "      <td>75</td>\n",
              "    </tr>\n",
              "    <tr>\n",
              "      <th>8</th>\n",
              "      <td>3.135494</td>\n",
              "      <td>9.680344</td>\n",
              "      <td>11.066638</td>\n",
              "      <td>4.174387</td>\n",
              "      <td>2.833213</td>\n",
              "      <td>3.496508</td>\n",
              "      <td>6.455199</td>\n",
              "      <td>1</td>\n",
              "      <td>76</td>\n",
              "    </tr>\n",
              "    <tr>\n",
              "      <th>9</th>\n",
              "      <td>3.135494</td>\n",
              "      <td>10.373491</td>\n",
              "      <td>11.066638</td>\n",
              "      <td>4.859812</td>\n",
              "      <td>3.496508</td>\n",
              "      <td>4.174387</td>\n",
              "      <td>7.042286</td>\n",
              "      <td>1</td>\n",
              "      <td>77</td>\n",
              "    </tr>\n",
              "  </tbody>\n",
              "</table>\n",
              "</div>"
            ],
            "text/plain": [
              "       MYCT       MMIN       MMAX  ...       PRP  vendorName  modelName\n",
              "0  4.828314   5.545177   8.699515  ...  5.288267           0         29\n",
              "1  3.367296   8.987197  10.373491  ...  5.594711           1         62\n",
              "2  3.367296   8.987197  10.373491  ...  5.393628           1         63\n",
              "3  3.367296   8.987197  10.373491  ...  5.147494           1         64\n",
              "4  3.367296   8.987197   9.680344  ...  4.882802           1         65\n",
              "5  3.258097   8.987197  10.373491  ...  5.762051           1         66\n",
              "6  3.135494   9.680344  10.373491  ...  5.905362           1         74\n",
              "7  3.135494   9.680344  10.373491  ...  6.192362           1         75\n",
              "8  3.135494   9.680344  11.066638  ...  6.455199           1         76\n",
              "9  3.135494  10.373491  11.066638  ...  7.042286           1         77\n",
              "\n",
              "[10 rows x 9 columns]"
            ]
          },
          "metadata": {
            "tags": []
          },
          "execution_count": 11
        }
      ]
    },
    {
      "cell_type": "code",
      "metadata": {
        "id": "jYNdU8_AQulf",
        "colab_type": "code",
        "colab": {}
      },
      "source": [
        "#  X and Y DataFrames.\n",
        "X = cpuDataSt.drop(['PRP'], axis=1)\n",
        "Y = cpuDataSt['PRP']"
      ],
      "execution_count": 0,
      "outputs": []
    },
    {
      "cell_type": "code",
      "metadata": {
        "id": "3nuxc5zt32jf",
        "colab_type": "code",
        "outputId": "64f1eaf0-9110-4ee5-d526-5f856668eb22",
        "colab": {
          "base_uri": "https://localhost:8080/",
          "height": 204
        }
      },
      "source": [
        "X.head()"
      ],
      "execution_count": 0,
      "outputs": [
        {
          "output_type": "execute_result",
          "data": {
            "text/html": [
              "<div>\n",
              "<style scoped>\n",
              "    .dataframe tbody tr th:only-of-type {\n",
              "        vertical-align: middle;\n",
              "    }\n",
              "\n",
              "    .dataframe tbody tr th {\n",
              "        vertical-align: top;\n",
              "    }\n",
              "\n",
              "    .dataframe thead th {\n",
              "        text-align: right;\n",
              "    }\n",
              "</style>\n",
              "<table border=\"1\" class=\"dataframe\">\n",
              "  <thead>\n",
              "    <tr style=\"text-align: right;\">\n",
              "      <th></th>\n",
              "      <th>MYCT</th>\n",
              "      <th>MMIN</th>\n",
              "      <th>MMAX</th>\n",
              "      <th>CACH</th>\n",
              "      <th>CHMIN</th>\n",
              "      <th>CHMAX</th>\n",
              "      <th>vendorName</th>\n",
              "      <th>modelName</th>\n",
              "    </tr>\n",
              "  </thead>\n",
              "  <tbody>\n",
              "    <tr>\n",
              "      <th>0</th>\n",
              "      <td>4.828314</td>\n",
              "      <td>5.545177</td>\n",
              "      <td>8.699515</td>\n",
              "      <td>5.549076</td>\n",
              "      <td>2.833213</td>\n",
              "      <td>4.859812</td>\n",
              "      <td>0</td>\n",
              "      <td>29</td>\n",
              "    </tr>\n",
              "    <tr>\n",
              "      <th>1</th>\n",
              "      <td>3.367296</td>\n",
              "      <td>8.987197</td>\n",
              "      <td>10.373491</td>\n",
              "      <td>3.496508</td>\n",
              "      <td>2.197225</td>\n",
              "      <td>3.496508</td>\n",
              "      <td>1</td>\n",
              "      <td>62</td>\n",
              "    </tr>\n",
              "    <tr>\n",
              "      <th>2</th>\n",
              "      <td>3.367296</td>\n",
              "      <td>8.987197</td>\n",
              "      <td>10.373491</td>\n",
              "      <td>3.496508</td>\n",
              "      <td>2.197225</td>\n",
              "      <td>3.496508</td>\n",
              "      <td>1</td>\n",
              "      <td>63</td>\n",
              "    </tr>\n",
              "    <tr>\n",
              "      <th>3</th>\n",
              "      <td>3.367296</td>\n",
              "      <td>8.987197</td>\n",
              "      <td>10.373491</td>\n",
              "      <td>3.496508</td>\n",
              "      <td>2.197225</td>\n",
              "      <td>3.496508</td>\n",
              "      <td>1</td>\n",
              "      <td>64</td>\n",
              "    </tr>\n",
              "    <tr>\n",
              "      <th>4</th>\n",
              "      <td>3.367296</td>\n",
              "      <td>8.987197</td>\n",
              "      <td>9.680344</td>\n",
              "      <td>3.496508</td>\n",
              "      <td>2.197225</td>\n",
              "      <td>2.833213</td>\n",
              "      <td>1</td>\n",
              "      <td>65</td>\n",
              "    </tr>\n",
              "  </tbody>\n",
              "</table>\n",
              "</div>"
            ],
            "text/plain": [
              "       MYCT      MMIN       MMAX  ...     CHMAX  vendorName  modelName\n",
              "0  4.828314  5.545177   8.699515  ...  4.859812           0         29\n",
              "1  3.367296  8.987197  10.373491  ...  3.496508           1         62\n",
              "2  3.367296  8.987197  10.373491  ...  3.496508           1         63\n",
              "3  3.367296  8.987197  10.373491  ...  3.496508           1         64\n",
              "4  3.367296  8.987197   9.680344  ...  2.833213           1         65\n",
              "\n",
              "[5 rows x 8 columns]"
            ]
          },
          "metadata": {
            "tags": []
          },
          "execution_count": 13
        }
      ]
    },
    {
      "cell_type": "code",
      "metadata": {
        "id": "OqOPV6Bm4Xv_",
        "colab_type": "code",
        "colab": {}
      },
      "source": [
        "# Data split \n",
        "X_train, X_test, y_train, y_test = train_test_split(X, Y, test_size=0.33, random_state=42)"
      ],
      "execution_count": 0,
      "outputs": []
    },
    {
      "cell_type": "code",
      "metadata": {
        "id": "JacNRZvo6t17",
        "colab_type": "code",
        "outputId": "03ea40b9-a610-433d-a3e6-0402ba0a3d93",
        "colab": {
          "base_uri": "https://localhost:8080/",
          "height": 34
        }
      },
      "source": [
        "clf = LinearRegression()\n",
        "clf.fit(X_train, y_train)"
      ],
      "execution_count": 0,
      "outputs": [
        {
          "output_type": "execute_result",
          "data": {
            "text/plain": [
              "LinearRegression(copy_X=True, fit_intercept=True, n_jobs=None, normalize=False)"
            ]
          },
          "metadata": {
            "tags": []
          },
          "execution_count": 15
        }
      ]
    },
    {
      "cell_type": "code",
      "metadata": {
        "id": "J9itay4NHuHO",
        "colab_type": "code",
        "outputId": "73d2eae0-484a-4a6a-af51-178f596b3cdb",
        "colab": {
          "base_uri": "https://localhost:8080/",
          "height": 34
        }
      },
      "source": [
        "predictions = clf.predict(X_test)\n",
        "errors = mean_squared_error(y_test, predictions)\n",
        "# Print out the mean square error (mse)\n",
        "print('Mean square Error:', round(errors, 6))"
      ],
      "execution_count": 0,
      "outputs": [
        {
          "output_type": "stream",
          "text": [
            "Mean square Error: 0.27114\n"
          ],
          "name": "stdout"
        }
      ]
    },
    {
      "cell_type": "code",
      "metadata": {
        "id": "qFyz0TWFFwki",
        "colab_type": "code",
        "colab": {}
      },
      "source": [
        "rf = RandomForestRegressor(n_estimators = 1000, random_state = 42)\n",
        "# Train the model on training data\n",
        "rf.fit(X_train, y_train);"
      ],
      "execution_count": 0,
      "outputs": []
    },
    {
      "cell_type": "code",
      "metadata": {
        "id": "ZNuhqAW5Fwhb",
        "colab_type": "code",
        "outputId": "821b3109-8895-4751-a22d-84b0b848d23e",
        "colab": {
          "base_uri": "https://localhost:8080/",
          "height": 34
        }
      },
      "source": [
        "predictions = rf.predict(X_test)\n",
        "errors = mean_squared_error(y_test, predictions)\n",
        "# Print out the mean square error (mse)\n",
        "print('Mean square Error:', round(errors, 6))\n",
        "\n",
        "## A partir de este punto seguiremos usando el metodo de random forest ya que nos dio mejores resultados."
      ],
      "execution_count": 0,
      "outputs": [
        {
          "output_type": "stream",
          "text": [
            "Mean square Error: 0.22102\n"
          ],
          "name": "stdout"
        }
      ]
    },
    {
      "cell_type": "markdown",
      "metadata": {
        "id": "rxwZgjIf0LVm",
        "colab_type": "text"
      },
      "source": [
        "# Metodo de filtrado"
      ]
    },
    {
      "cell_type": "markdown",
      "metadata": {
        "id": "wFnyYBPp3Zea",
        "colab_type": "text"
      },
      "source": [
        "### 1. Se eliminan las columnas con baja correlación con PRP"
      ]
    },
    {
      "cell_type": "code",
      "metadata": {
        "id": "tRxjtEGRaeG7",
        "colab_type": "code",
        "outputId": "1f3ccc9e-019a-4213-b310-15e646dc18ce",
        "colab": {
          "base_uri": "https://localhost:8080/",
          "height": 204
        }
      },
      "source": [
        "cpuDataSt.head()"
      ],
      "execution_count": 0,
      "outputs": [
        {
          "output_type": "execute_result",
          "data": {
            "text/html": [
              "<div>\n",
              "<style scoped>\n",
              "    .dataframe tbody tr th:only-of-type {\n",
              "        vertical-align: middle;\n",
              "    }\n",
              "\n",
              "    .dataframe tbody tr th {\n",
              "        vertical-align: top;\n",
              "    }\n",
              "\n",
              "    .dataframe thead th {\n",
              "        text-align: right;\n",
              "    }\n",
              "</style>\n",
              "<table border=\"1\" class=\"dataframe\">\n",
              "  <thead>\n",
              "    <tr style=\"text-align: right;\">\n",
              "      <th></th>\n",
              "      <th>MYCT</th>\n",
              "      <th>MMIN</th>\n",
              "      <th>MMAX</th>\n",
              "      <th>CACH</th>\n",
              "      <th>CHMIN</th>\n",
              "      <th>CHMAX</th>\n",
              "      <th>PRP</th>\n",
              "      <th>vendorName</th>\n",
              "      <th>modelName</th>\n",
              "    </tr>\n",
              "  </thead>\n",
              "  <tbody>\n",
              "    <tr>\n",
              "      <th>0</th>\n",
              "      <td>4.828314</td>\n",
              "      <td>5.545177</td>\n",
              "      <td>8.699515</td>\n",
              "      <td>5.549076</td>\n",
              "      <td>2.833213</td>\n",
              "      <td>4.859812</td>\n",
              "      <td>5.288267</td>\n",
              "      <td>0</td>\n",
              "      <td>29</td>\n",
              "    </tr>\n",
              "    <tr>\n",
              "      <th>1</th>\n",
              "      <td>3.367296</td>\n",
              "      <td>8.987197</td>\n",
              "      <td>10.373491</td>\n",
              "      <td>3.496508</td>\n",
              "      <td>2.197225</td>\n",
              "      <td>3.496508</td>\n",
              "      <td>5.594711</td>\n",
              "      <td>1</td>\n",
              "      <td>62</td>\n",
              "    </tr>\n",
              "    <tr>\n",
              "      <th>2</th>\n",
              "      <td>3.367296</td>\n",
              "      <td>8.987197</td>\n",
              "      <td>10.373491</td>\n",
              "      <td>3.496508</td>\n",
              "      <td>2.197225</td>\n",
              "      <td>3.496508</td>\n",
              "      <td>5.393628</td>\n",
              "      <td>1</td>\n",
              "      <td>63</td>\n",
              "    </tr>\n",
              "    <tr>\n",
              "      <th>3</th>\n",
              "      <td>3.367296</td>\n",
              "      <td>8.987197</td>\n",
              "      <td>10.373491</td>\n",
              "      <td>3.496508</td>\n",
              "      <td>2.197225</td>\n",
              "      <td>3.496508</td>\n",
              "      <td>5.147494</td>\n",
              "      <td>1</td>\n",
              "      <td>64</td>\n",
              "    </tr>\n",
              "    <tr>\n",
              "      <th>4</th>\n",
              "      <td>3.367296</td>\n",
              "      <td>8.987197</td>\n",
              "      <td>9.680344</td>\n",
              "      <td>3.496508</td>\n",
              "      <td>2.197225</td>\n",
              "      <td>2.833213</td>\n",
              "      <td>4.882802</td>\n",
              "      <td>1</td>\n",
              "      <td>65</td>\n",
              "    </tr>\n",
              "  </tbody>\n",
              "</table>\n",
              "</div>"
            ],
            "text/plain": [
              "       MYCT      MMIN       MMAX  ...       PRP  vendorName  modelName\n",
              "0  4.828314  5.545177   8.699515  ...  5.288267           0         29\n",
              "1  3.367296  8.987197  10.373491  ...  5.594711           1         62\n",
              "2  3.367296  8.987197  10.373491  ...  5.393628           1         63\n",
              "3  3.367296  8.987197  10.373491  ...  5.147494           1         64\n",
              "4  3.367296  8.987197   9.680344  ...  4.882802           1         65\n",
              "\n",
              "[5 rows x 9 columns]"
            ]
          },
          "metadata": {
            "tags": []
          },
          "execution_count": 19
        }
      ]
    },
    {
      "cell_type": "code",
      "metadata": {
        "id": "TgaLRTDiTDZh",
        "colab_type": "code",
        "outputId": "878ae98a-2390-4a8b-b92a-7d91138a0660",
        "colab": {
          "base_uri": "https://localhost:8080/",
          "height": 170
        }
      },
      "source": [
        "importances = cpuDataSt.drop('PRP', axis=1).apply(lambda x: x.corr(cpuDataSt.PRP))\n",
        "indices = np.argsort(importances)\n",
        "print(importances[indices])"
      ],
      "execution_count": 0,
      "outputs": [
        {
          "output_type": "stream",
          "text": [
            "MYCT         -0.701793\n",
            "modelName    -0.144549\n",
            "vendorName   -0.036779\n",
            "CHMAX         0.640541\n",
            "CHMIN         0.672698\n",
            "MMIN          0.764386\n",
            "CACH          0.767503\n",
            "MMAX          0.796814\n",
            "dtype: float64\n"
          ],
          "name": "stdout"
        }
      ]
    },
    {
      "cell_type": "code",
      "metadata": {
        "id": "NUd-ftLuabK0",
        "colab_type": "code",
        "outputId": "e41fe3d3-d0f3-4016-d1a4-c13eec055757",
        "colab": {
          "base_uri": "https://localhost:8080/",
          "height": 295
        }
      },
      "source": [
        "names=['MYCT','MMIN','MMAX','CACH','CHMIN','CHMAX','vendorName','modelName']\n",
        "plt.title('CPU')\n",
        "plt.barh(range(len(indices)), importances[indices], color='g', align='center')\n",
        "plt.yticks(range(len(indices)), [names[i] for i in indices])\n",
        "plt.xlabel('Relative Importance')\n",
        "plt.show()"
      ],
      "execution_count": 0,
      "outputs": [
        {
          "output_type": "display_data",
          "data": {
            "image/png": "[encoded data removed]",
            "text/plain": [
              "<Figure size 432x288 with 1 Axes>"
            ]
          },
          "metadata": {
            "tags": [],
            "needs_background": "light"
          }
        }
      ]
    },
    {
      "cell_type": "markdown",
      "metadata": {
        "id": "T6uHLcku56sN",
        "colab_type": "text"
      },
      "source": [
        "En este paso eliminaremos las caracteristicas con una correlación menor al 0.4 con la caracteristica PRP."
      ]
    },
    {
      "cell_type": "code",
      "metadata": {
        "id": "hMu3YSULaSuN",
        "colab_type": "code",
        "outputId": "8f26c3bf-c6d8-4919-ba41-e2350e1c7d5e",
        "colab": {
          "base_uri": "https://localhost:8080/",
          "height": 51
        }
      },
      "source": [
        "for i in range(0, len(indices)):\n",
        "    if np.abs(importances[i])<=0.4:\n",
        "        print(names[i])"
      ],
      "execution_count": 0,
      "outputs": [
        {
          "output_type": "stream",
          "text": [
            "vendorName\n",
            "modelName\n"
          ],
          "name": "stdout"
        }
      ]
    },
    {
      "cell_type": "code",
      "metadata": {
        "id": "o4Mo60H0FwZK",
        "colab_type": "code",
        "colab": {}
      },
      "source": [
        "X_train2 = X_train.drop(['vendorName','modelName'], axis=1)\n",
        "X_test2 = X_test.drop(['vendorName','modelName'], axis=1)"
      ],
      "execution_count": 0,
      "outputs": []
    },
    {
      "cell_type": "code",
      "metadata": {
        "id": "eMqxHJTrFwWB",
        "colab_type": "code",
        "colab": {}
      },
      "source": [
        "rf = RandomForestRegressor(n_estimators = 1000, random_state = 42)\n",
        "# Train the model on training data\n",
        "rf.fit(X_train2, y_train);"
      ],
      "execution_count": 0,
      "outputs": []
    },
    {
      "cell_type": "code",
      "metadata": {
        "id": "lZeVI75FFwS7",
        "colab_type": "code",
        "outputId": "0952ffd7-914f-4a58-f621-72b1ffc8950c",
        "colab": {
          "base_uri": "https://localhost:8080/",
          "height": 34
        }
      },
      "source": [
        "predictions = rf.predict(X_test2)\n",
        "errors = mean_squared_error(y_test, predictions)\n",
        "# Print out the mean square error (mse)\n",
        "print('Mean square Error:', round(errors, 6))"
      ],
      "execution_count": 0,
      "outputs": [
        {
          "output_type": "stream",
          "text": [
            "Mean square Error: 0.225893\n"
          ],
          "name": "stdout"
        }
      ]
    },
    {
      "cell_type": "markdown",
      "metadata": {
        "id": "Z_dPvbLn6USK",
        "colab_type": "text"
      },
      "source": [
        "vendorName y modelName aunque tiene baja correlación no se deben eliminar, ya que estos son categoricos con encoding y no se pasaron los la transformación logistica. Pero como podemos observar en el paso anterior, si las eliminamos nuestra metrica empeora."
      ]
    },
    {
      "cell_type": "markdown",
      "metadata": {
        "id": "_LgA3WNtOLGS",
        "colab_type": "text"
      },
      "source": [
        "## 2. Se eliminan las caracteristicas con alta correlación entre ellas."
      ]
    },
    {
      "cell_type": "markdown",
      "metadata": {
        "id": "_EfAipJeOWbN",
        "colab_type": "text"
      },
      "source": [
        "No se tiene en cuenta la variable objetivo en este analisis. Se eliminara una de las caracteristicas que tenga una correlación con otra mayor a 0.7.\n"
      ]
    },
    {
      "cell_type": "code",
      "metadata": {
        "id": "aFCfGQGoFwPA",
        "colab_type": "code",
        "outputId": "d3d4cd76-ca25-4329-e785-efcf8798f723",
        "colab": {
          "base_uri": "https://localhost:8080/",
          "height": 297
        }
      },
      "source": [
        "cpuDataSt.drop(['PRP'],axis=1).corr()"
      ],
      "execution_count": 0,
      "outputs": [
        {
          "output_type": "execute_result",
          "data": {
            "text/html": [
              "<div>\n",
              "<style scoped>\n",
              "    .dataframe tbody tr th:only-of-type {\n",
              "        vertical-align: middle;\n",
              "    }\n",
              "\n",
              "    .dataframe tbody tr th {\n",
              "        vertical-align: top;\n",
              "    }\n",
              "\n",
              "    .dataframe thead th {\n",
              "        text-align: right;\n",
              "    }\n",
              "</style>\n",
              "<table border=\"1\" class=\"dataframe\">\n",
              "  <thead>\n",
              "    <tr style=\"text-align: right;\">\n",
              "      <th></th>\n",
              "      <th>MYCT</th>\n",
              "      <th>MMIN</th>\n",
              "      <th>MMAX</th>\n",
              "      <th>CACH</th>\n",
              "      <th>CHMIN</th>\n",
              "      <th>CHMAX</th>\n",
              "      <th>vendorName</th>\n",
              "      <th>modelName</th>\n",
              "    </tr>\n",
              "  </thead>\n",
              "  <tbody>\n",
              "    <tr>\n",
              "      <th>MYCT</th>\n",
              "      <td>1.000000</td>\n",
              "      <td>-0.729408</td>\n",
              "      <td>-0.633149</td>\n",
              "      <td>-0.617089</td>\n",
              "      <td>-0.617906</td>\n",
              "      <td>-0.550792</td>\n",
              "      <td>-0.054165</td>\n",
              "      <td>0.114833</td>\n",
              "    </tr>\n",
              "    <tr>\n",
              "      <th>MMIN</th>\n",
              "      <td>-0.729408</td>\n",
              "      <td>1.000000</td>\n",
              "      <td>0.733282</td>\n",
              "      <td>0.600697</td>\n",
              "      <td>0.570907</td>\n",
              "      <td>0.442000</td>\n",
              "      <td>0.095862</td>\n",
              "      <td>-0.113761</td>\n",
              "    </tr>\n",
              "    <tr>\n",
              "      <th>MMAX</th>\n",
              "      <td>-0.633149</td>\n",
              "      <td>0.733282</td>\n",
              "      <td>1.000000</td>\n",
              "      <td>0.616292</td>\n",
              "      <td>0.485568</td>\n",
              "      <td>0.512799</td>\n",
              "      <td>0.057055</td>\n",
              "      <td>-0.046983</td>\n",
              "    </tr>\n",
              "    <tr>\n",
              "      <th>CACH</th>\n",
              "      <td>-0.617089</td>\n",
              "      <td>0.600697</td>\n",
              "      <td>0.616292</td>\n",
              "      <td>1.000000</td>\n",
              "      <td>0.522014</td>\n",
              "      <td>0.491165</td>\n",
              "      <td>0.028518</td>\n",
              "      <td>-0.046476</td>\n",
              "    </tr>\n",
              "    <tr>\n",
              "      <th>CHMIN</th>\n",
              "      <td>-0.617906</td>\n",
              "      <td>0.570907</td>\n",
              "      <td>0.485568</td>\n",
              "      <td>0.522014</td>\n",
              "      <td>1.000000</td>\n",
              "      <td>0.709801</td>\n",
              "      <td>-0.044219</td>\n",
              "      <td>-0.247866</td>\n",
              "    </tr>\n",
              "    <tr>\n",
              "      <th>CHMAX</th>\n",
              "      <td>-0.550792</td>\n",
              "      <td>0.442000</td>\n",
              "      <td>0.512799</td>\n",
              "      <td>0.491165</td>\n",
              "      <td>0.709801</td>\n",
              "      <td>1.000000</td>\n",
              "      <td>-0.080825</td>\n",
              "      <td>-0.154441</td>\n",
              "    </tr>\n",
              "    <tr>\n",
              "      <th>vendorName</th>\n",
              "      <td>-0.054165</td>\n",
              "      <td>0.095862</td>\n",
              "      <td>0.057055</td>\n",
              "      <td>0.028518</td>\n",
              "      <td>-0.044219</td>\n",
              "      <td>-0.080825</td>\n",
              "      <td>1.000000</td>\n",
              "      <td>-0.127345</td>\n",
              "    </tr>\n",
              "    <tr>\n",
              "      <th>modelName</th>\n",
              "      <td>0.114833</td>\n",
              "      <td>-0.113761</td>\n",
              "      <td>-0.046983</td>\n",
              "      <td>-0.046476</td>\n",
              "      <td>-0.247866</td>\n",
              "      <td>-0.154441</td>\n",
              "      <td>-0.127345</td>\n",
              "      <td>1.000000</td>\n",
              "    </tr>\n",
              "  </tbody>\n",
              "</table>\n",
              "</div>"
            ],
            "text/plain": [
              "                MYCT      MMIN      MMAX  ...     CHMAX  vendorName  modelName\n",
              "MYCT        1.000000 -0.729408 -0.633149  ... -0.550792   -0.054165   0.114833\n",
              "MMIN       -0.729408  1.000000  0.733282  ...  0.442000    0.095862  -0.113761\n",
              "MMAX       -0.633149  0.733282  1.000000  ...  0.512799    0.057055  -0.046983\n",
              "CACH       -0.617089  0.600697  0.616292  ...  0.491165    0.028518  -0.046476\n",
              "CHMIN      -0.617906  0.570907  0.485568  ...  0.709801   -0.044219  -0.247866\n",
              "CHMAX      -0.550792  0.442000  0.512799  ...  1.000000   -0.080825  -0.154441\n",
              "vendorName -0.054165  0.095862  0.057055  ... -0.080825    1.000000  -0.127345\n",
              "modelName   0.114833 -0.113761 -0.046983  ... -0.154441   -0.127345   1.000000\n",
              "\n",
              "[8 rows x 8 columns]"
            ]
          },
          "metadata": {
            "tags": []
          },
          "execution_count": 26
        }
      ]
    },
    {
      "cell_type": "code",
      "metadata": {
        "id": "b9yTT18YJRqQ",
        "colab_type": "code",
        "outputId": "f60f76a0-96ff-47c5-95b6-c75f202cb8c4",
        "colab": {
          "base_uri": "https://localhost:8080/",
          "height": 275
        }
      },
      "source": [
        "plt.matshow(cpuDataSt.drop(['PRP'],axis=1).corr())\n",
        "plt.show()"
      ],
      "execution_count": 0,
      "outputs": [
        {
          "output_type": "display_data",
          "data": {
            "image/png": "[encoded data removed]",
            "text/plain": [
              "<Figure size 288x288 with 1 Axes>"
            ]
          },
          "metadata": {
            "tags": [],
            "needs_background": "light"
          }
        }
      ]
    },
    {
      "cell_type": "code",
      "metadata": {
        "id": "0_3QCEsBJRnq",
        "colab_type": "code",
        "outputId": "ede761a2-24ac-443d-92c1-d9db2f7f5bf6",
        "colab": {
          "base_uri": "https://localhost:8080/",
          "height": 34
        }
      },
      "source": [
        "X_train2 = X_train.drop(['MMIN'], axis=1)\n",
        "X_test2 = X_test.drop(['MMIN'], axis=1)\n",
        "rf = RandomForestRegressor(n_estimators = 1000, random_state = 42)\n",
        "# Train the model on training data\n",
        "rf.fit(X_train2, y_train);\n",
        "predictions = rf.predict(X_test2)\n",
        "errors = mean_squared_error(y_test, predictions)\n",
        "# Print out the mean square error (mse)\n",
        "print('Mean square Error:', round(errors, 6))"
      ],
      "execution_count": 0,
      "outputs": [
        {
          "output_type": "stream",
          "text": [
            "Mean square Error: 0.221676\n"
          ],
          "name": "stdout"
        }
      ]
    },
    {
      "cell_type": "code",
      "metadata": {
        "id": "iYVzxNklJRkx",
        "colab_type": "code",
        "outputId": "59b718fd-8dde-40a9-d973-7fae39135cfc",
        "colab": {
          "base_uri": "https://localhost:8080/",
          "height": 34
        }
      },
      "source": [
        "X_train2 = X_train.drop(['MMAX'], axis=1)\n",
        "X_test2 = X_test.drop(['MMAX'], axis=1)\n",
        "rf = RandomForestRegressor(n_estimators = 1000, random_state = 42)\n",
        "# Train the model on training data\n",
        "rf.fit(X_train2, y_train);\n",
        "predictions = rf.predict(X_test2)\n",
        "errors = mean_squared_error(y_test, predictions)\n",
        "# Print out the mean square error (mse)\n",
        "print('Mean square Error:', round(errors, 6))"
      ],
      "execution_count": 0,
      "outputs": [
        {
          "output_type": "stream",
          "text": [
            "Mean square Error: 0.250724\n"
          ],
          "name": "stdout"
        }
      ]
    },
    {
      "cell_type": "code",
      "metadata": {
        "id": "LE1T5jZuJRhf",
        "colab_type": "code",
        "outputId": "2e133680-c3b6-4637-c8dd-e1bf17f96707",
        "colab": {
          "base_uri": "https://localhost:8080/",
          "height": 34
        }
      },
      "source": [
        "X_train2 = X_train.drop(['CHMIN'], axis=1)\n",
        "X_test2 = X_test.drop(['CHMIN'], axis=1)\n",
        "rf = RandomForestRegressor(n_estimators = 1000, random_state = 42)\n",
        "# Train the model on training data\n",
        "rf.fit(X_train2, y_train);\n",
        "predictions = rf.predict(X_test2)\n",
        "errors = mean_squared_error(y_test, predictions)\n",
        "# Print out the mean square error (mse)\n",
        "print('Mean square Error:', round(errors, 6))"
      ],
      "execution_count": 0,
      "outputs": [
        {
          "output_type": "stream",
          "text": [
            "Mean square Error: 0.210623\n"
          ],
          "name": "stdout"
        }
      ]
    },
    {
      "cell_type": "code",
      "metadata": {
        "id": "nB9jhsWeJReG",
        "colab_type": "code",
        "outputId": "a46406ae-2c9d-476d-94fa-dcaa55898e9d",
        "colab": {
          "base_uri": "https://localhost:8080/",
          "height": 34
        }
      },
      "source": [
        "X_train2 = X_train.drop(['CHMAX'], axis=1)\n",
        "X_test2 = X_test.drop(['CHMAX'], axis=1)\n",
        "rf = RandomForestRegressor(n_estimators = 1000, random_state = 42)\n",
        "# Train the model on training data\n",
        "rf.fit(X_train2, y_train);\n",
        "predictions = rf.predict(X_test2)\n",
        "errors = mean_squared_error(y_test, predictions)\n",
        "# Print out the mean square error (mse)\n",
        "print('Mean square Error:', round(errors, 6))"
      ],
      "execution_count": 0,
      "outputs": [
        {
          "output_type": "stream",
          "text": [
            "Mean square Error: 0.224907\n"
          ],
          "name": "stdout"
        }
      ]
    },
    {
      "cell_type": "code",
      "metadata": {
        "id": "LfRDyqICJRa1",
        "colab_type": "code",
        "outputId": "d67896aa-4dad-4437-ee7a-09133f7d1700",
        "colab": {
          "base_uri": "https://localhost:8080/",
          "height": 34
        }
      },
      "source": [
        "X_train2 = X_train.drop(['MMIN','CHMIN'], axis=1)\n",
        "X_test2 = X_test.drop(['MMIN','CHMIN'], axis=1)\n",
        "rf = RandomForestRegressor(n_estimators = 1000, random_state = 42)\n",
        "# Train the model on training data\n",
        "rf.fit(X_train2, y_train);\n",
        "predictions = rf.predict(X_test2)\n",
        "errors = mean_squared_error(y_test, predictions)\n",
        "# Print out the mean square error (mse)\n",
        "print('Mean square Error:', round(errors, 6))"
      ],
      "execution_count": 0,
      "outputs": [
        {
          "output_type": "stream",
          "text": [
            "Mean square Error: 0.210892\n"
          ],
          "name": "stdout"
        }
      ]
    },
    {
      "cell_type": "code",
      "metadata": {
        "id": "n2agyMfqJRUo",
        "colab_type": "code",
        "outputId": "8ca1b1d6-ea53-429c-c65c-4709bbbe988f",
        "colab": {
          "base_uri": "https://localhost:8080/",
          "height": 34
        }
      },
      "source": [
        "X_train2 = X_train.drop(['MMIN','CHMAX'], axis=1)\n",
        "X_test2 = X_test.drop(['MMIN','CHMAX'], axis=1)\n",
        "rf = RandomForestRegressor(n_estimators = 1000, random_state = 42)\n",
        "# Train the model on training data\n",
        "rf.fit(X_train2, y_train);\n",
        "predictions = rf.predict(X_test2)\n",
        "errors = mean_squared_error(y_test, predictions)\n",
        "# Print out the mean square error (mse)\n",
        "print('Mean square Error:', round(errors, 6))"
      ],
      "execution_count": 0,
      "outputs": [
        {
          "output_type": "stream",
          "text": [
            "Mean square Error: 0.230569\n"
          ],
          "name": "stdout"
        }
      ]
    },
    {
      "cell_type": "code",
      "metadata": {
        "id": "m8c9i1xwJRX3",
        "colab_type": "code",
        "outputId": "ac3e686d-1712-4d80-ceb9-497260c95f57",
        "colab": {
          "base_uri": "https://localhost:8080/",
          "height": 34
        }
      },
      "source": [
        "X_train2 = X_train.drop(['MMAX','CHMIN'], axis=1)\n",
        "X_test2 = X_test.drop(['MMAX','CHMIN'], axis=1)\n",
        "rf = RandomForestRegressor(n_estimators = 1000, random_state = 42)\n",
        "# Train the model on training data\n",
        "rf.fit(X_train2, y_train);\n",
        "predictions = rf.predict(X_test2)\n",
        "errors = mean_squared_error(y_test, predictions)\n",
        "# Print out the mean square error (mse)\n",
        "print('Mean square Error:', round(errors, 6))"
      ],
      "execution_count": 0,
      "outputs": [
        {
          "output_type": "stream",
          "text": [
            "Mean square Error: 0.243381\n"
          ],
          "name": "stdout"
        }
      ]
    },
    {
      "cell_type": "code",
      "metadata": {
        "id": "J57ztwYCJRRl",
        "colab_type": "code",
        "outputId": "23769258-8cab-4bcf-9849-1ef965516f1d",
        "colab": {
          "base_uri": "https://localhost:8080/",
          "height": 34
        }
      },
      "source": [
        "X_train2 = X_train.drop(['MMAX','CHMAX'], axis=1)\n",
        "X_test2 = X_test.drop(['MMAX','CHMAX'], axis=1)\n",
        "rf = RandomForestRegressor(n_estimators = 1000, random_state = 42)\n",
        "# Train the model on training data\n",
        "rf.fit(X_train2, y_train);\n",
        "predictions = rf.predict(X_test2)\n",
        "errors = mean_squared_error(y_test, predictions)\n",
        "# Print out the mean square error (mse)\n",
        "print('Mean square Error:', round(errors, 6))"
      ],
      "execution_count": 0,
      "outputs": [
        {
          "output_type": "stream",
          "text": [
            "Mean square Error: 0.273443\n"
          ],
          "name": "stdout"
        }
      ]
    },
    {
      "cell_type": "code",
      "metadata": {
        "id": "j2iag_xVfvtd",
        "colab_type": "code",
        "colab": {}
      },
      "source": [
        "cpuDataSt = cpuDataSt.drop(['MMIN','CHMIN'], axis=1)"
      ],
      "execution_count": 0,
      "outputs": []
    },
    {
      "cell_type": "code",
      "metadata": {
        "id": "zZ5cpci0suE2",
        "colab_type": "code",
        "outputId": "f676e402-c1ce-4819-8762-03dedfb82a88",
        "colab": {
          "base_uri": "https://localhost:8080/",
          "height": 204
        }
      },
      "source": [
        "cpuDataSt.head()"
      ],
      "execution_count": 0,
      "outputs": [
        {
          "output_type": "execute_result",
          "data": {
            "text/html": [
              "<div>\n",
              "<style scoped>\n",
              "    .dataframe tbody tr th:only-of-type {\n",
              "        vertical-align: middle;\n",
              "    }\n",
              "\n",
              "    .dataframe tbody tr th {\n",
              "        vertical-align: top;\n",
              "    }\n",
              "\n",
              "    .dataframe thead th {\n",
              "        text-align: right;\n",
              "    }\n",
              "</style>\n",
              "<table border=\"1\" class=\"dataframe\">\n",
              "  <thead>\n",
              "    <tr style=\"text-align: right;\">\n",
              "      <th></th>\n",
              "      <th>MYCT</th>\n",
              "      <th>MMAX</th>\n",
              "      <th>CACH</th>\n",
              "      <th>CHMAX</th>\n",
              "      <th>PRP</th>\n",
              "      <th>vendorName</th>\n",
              "      <th>modelName</th>\n",
              "    </tr>\n",
              "  </thead>\n",
              "  <tbody>\n",
              "    <tr>\n",
              "      <th>0</th>\n",
              "      <td>4.828314</td>\n",
              "      <td>8.699515</td>\n",
              "      <td>5.549076</td>\n",
              "      <td>4.859812</td>\n",
              "      <td>5.288267</td>\n",
              "      <td>0</td>\n",
              "      <td>29</td>\n",
              "    </tr>\n",
              "    <tr>\n",
              "      <th>1</th>\n",
              "      <td>3.367296</td>\n",
              "      <td>10.373491</td>\n",
              "      <td>3.496508</td>\n",
              "      <td>3.496508</td>\n",
              "      <td>5.594711</td>\n",
              "      <td>1</td>\n",
              "      <td>62</td>\n",
              "    </tr>\n",
              "    <tr>\n",
              "      <th>2</th>\n",
              "      <td>3.367296</td>\n",
              "      <td>10.373491</td>\n",
              "      <td>3.496508</td>\n",
              "      <td>3.496508</td>\n",
              "      <td>5.393628</td>\n",
              "      <td>1</td>\n",
              "      <td>63</td>\n",
              "    </tr>\n",
              "    <tr>\n",
              "      <th>3</th>\n",
              "      <td>3.367296</td>\n",
              "      <td>10.373491</td>\n",
              "      <td>3.496508</td>\n",
              "      <td>3.496508</td>\n",
              "      <td>5.147494</td>\n",
              "      <td>1</td>\n",
              "      <td>64</td>\n",
              "    </tr>\n",
              "    <tr>\n",
              "      <th>4</th>\n",
              "      <td>3.367296</td>\n",
              "      <td>9.680344</td>\n",
              "      <td>3.496508</td>\n",
              "      <td>2.833213</td>\n",
              "      <td>4.882802</td>\n",
              "      <td>1</td>\n",
              "      <td>65</td>\n",
              "    </tr>\n",
              "  </tbody>\n",
              "</table>\n",
              "</div>"
            ],
            "text/plain": [
              "       MYCT       MMAX      CACH     CHMAX       PRP  vendorName  modelName\n",
              "0  4.828314   8.699515  5.549076  4.859812  5.288267           0         29\n",
              "1  3.367296  10.373491  3.496508  3.496508  5.594711           1         62\n",
              "2  3.367296  10.373491  3.496508  3.496508  5.393628           1         63\n",
              "3  3.367296  10.373491  3.496508  3.496508  5.147494           1         64\n",
              "4  3.367296   9.680344  3.496508  2.833213  4.882802           1         65"
            ]
          },
          "metadata": {
            "tags": []
          },
          "execution_count": 37
        }
      ]
    },
    {
      "cell_type": "code",
      "metadata": {
        "id": "eG3Mb7Mys2sm",
        "colab_type": "code",
        "outputId": "9ce5c32c-6172-4584-f045-ff2d19736196",
        "colab": {
          "base_uri": "https://localhost:8080/",
          "height": 221
        }
      },
      "source": [
        "cpuDataSt['PRP']"
      ],
      "execution_count": 0,
      "outputs": [
        {
          "output_type": "execute_result",
          "data": {
            "text/plain": [
              "0      5.288267\n",
              "1      5.594711\n",
              "2      5.393628\n",
              "3      5.147494\n",
              "4      4.882802\n",
              "         ...   \n",
              "204    3.737670\n",
              "205    3.828641\n",
              "206    3.951244\n",
              "207    4.204693\n",
              "208    3.806662\n",
              "Name: PRP, Length: 209, dtype: float64"
            ]
          },
          "metadata": {
            "tags": []
          },
          "execution_count": 38
        }
      ]
    },
    {
      "cell_type": "markdown",
      "metadata": {
        "id": "R6Spm83MRoNj",
        "colab_type": "text"
      },
      "source": [
        "Luego de aplicar el metodo de emboltura se tomo la decisión de eliminar las caracteriticas MMIN y CHMIN. Aunque eliminando solo CHMIN tenemos un mejor MSE, para simplificar el modelo decidimos eliminar ambas caracteristicas."
      ]
    },
    {
      "cell_type": "markdown",
      "metadata": {
        "id": "ALqHoWc2fS3G",
        "colab_type": "text"
      },
      "source": [
        "## 3.  Infromación mutua respecto a Y\n"
      ]
    },
    {
      "cell_type": "code",
      "metadata": {
        "id": "CEpTK-4DtBVP",
        "colab_type": "code",
        "colab": {}
      },
      "source": [
        "from sklearn.feature_selection import mutual_info_regression"
      ],
      "execution_count": 0,
      "outputs": []
    },
    {
      "cell_type": "code",
      "metadata": {
        "id": "95H5_jErsL7p",
        "colab_type": "code",
        "colab": {}
      },
      "source": [
        "mi = mutual_info_regression(cpuDataSt.drop(['PRP'], axis=1), cpuDataSt['PRP'])\n",
        "c2 = cpuDataSt.drop(['PRP'], axis=1)"
      ],
      "execution_count": 0,
      "outputs": []
    },
    {
      "cell_type": "code",
      "metadata": {
        "id": "MVVObnzOsLqH",
        "colab_type": "code",
        "outputId": "e52c5953-a4bd-4afc-943a-a0fbe112b20b",
        "colab": {
          "base_uri": "https://localhost:8080/",
          "height": 337
        }
      },
      "source": [
        "mi = pd.Series(mi)\n",
        "mi.index = c2.columns\n",
        "mi.sort_values(ascending=False)\n",
        "mi.sort_values(ascending=False).plot.bar(figsize=(10, 4))"
      ],
      "execution_count": 0,
      "outputs": [
        {
          "output_type": "execute_result",
          "data": {
            "text/plain": [
              "<matplotlib.axes._subplots.AxesSubplot at 0x7f70d14488d0>"
            ]
          },
          "metadata": {
            "tags": []
          },
          "execution_count": 41
        },
        {
          "output_type": "display_data",
          "data": {
            "image/png": "[encoded data removed]",
            "text/plain": [
              "<Figure size 720x288 with 1 Axes>"
            ]
          },
          "metadata": {
            "tags": [],
            "needs_background": "light"
          }
        }
      ]
    },
    {
      "cell_type": "markdown",
      "metadata": {
        "id": "36tMwly_u4i4",
        "colab_type": "text"
      },
      "source": [
        "Se pueba a eliminar la variable vendorName"
      ]
    },
    {
      "cell_type": "code",
      "metadata": {
        "id": "_T16jxwUtFpf",
        "colab_type": "code",
        "outputId": "528f2366-ee70-49d3-9952-12361e9c3567",
        "colab": {
          "base_uri": "https://localhost:8080/",
          "height": 34
        }
      },
      "source": [
        "X_train2 = X_train.drop(['modelName','MMIN','CHMIN'], axis=1)\n",
        "X_test2 = X_test.drop(['modelName','MMIN','CHMIN'], axis=1)\n",
        "rf = RandomForestRegressor(n_estimators = 1000, random_state = 42)\n",
        "# Train the model on training data\n",
        "rf.fit(X_train2, y_train);\n",
        "predictions = rf.predict(X_test2)\n",
        "errors = mean_squared_error(y_test, predictions)\n",
        "# Print out the mean square error (mse)\n",
        "print('Mean square Error:', round(errors, 6))"
      ],
      "execution_count": 0,
      "outputs": [
        {
          "output_type": "stream",
          "text": [
            "Mean square Error: 0.213947\n"
          ],
          "name": "stdout"
        }
      ]
    },
    {
      "cell_type": "code",
      "metadata": {
        "id": "ejVwYR7W3USZ",
        "colab_type": "code",
        "outputId": "054fd17f-1d7f-4754-a896-7f9db078f7f2",
        "colab": {
          "base_uri": "https://localhost:8080/",
          "height": 34
        }
      },
      "source": [
        "X_train2 = X_train.drop(['vendorName','MMIN','CHMIN'], axis=1)\n",
        "X_test2 = X_test.drop(['vendorName','MMIN','CHMIN'], axis=1)\n",
        "rf = RandomForestRegressor(n_estimators = 1000, random_state = 42)\n",
        "# Train the model on training data\n",
        "rf.fit(X_train2, y_train);\n",
        "predictions = rf.predict(X_test2)\n",
        "errors = mean_squared_error(y_test, predictions)\n",
        "# Print out the mean square error (mse)\n",
        "print('Mean square Error:', round(errors, 6))"
      ],
      "execution_count": 0,
      "outputs": [
        {
          "output_type": "stream",
          "text": [
            "Mean square Error: 0.211191\n"
          ],
          "name": "stdout"
        }
      ]
    },
    {
      "cell_type": "markdown",
      "metadata": {
        "id": "gTacKYcivRNv",
        "colab_type": "text"
      },
      "source": [
        "Se decide no eliminar vendorName, ni modelName por que al probar el modelo con este cambio, sube el MSE. Por lo tanto las caracteriticas finales son:\n",
        "\n",
        "\n",
        "\n",
        "1.   MYCT\n",
        "2.   MMAX\n",
        "3.   CACH\n",
        "4.   CHMAX\n",
        "5.   VendorName\n",
        "6.   modelName\n",
        "\n"
      ]
    },
    {
      "cell_type": "code",
      "metadata": {
        "id": "gwDCNn4gu29v",
        "colab_type": "code",
        "outputId": "ab388710-2a1a-447f-802c-b5d91aba5529",
        "colab": {
          "base_uri": "https://localhost:8080/",
          "height": 34
        }
      },
      "source": [
        "X_train2 = X_train.drop(['MMIN','CHMIN'], axis=1)\n",
        "X_test2 = X_test.drop(['MMIN','CHMIN'], axis=1)\n",
        "rf = RandomForestRegressor(n_estimators = 1000, random_state = 42)\n",
        "# Train the model on training data\n",
        "rf.fit(X_train2, y_train);\n",
        "predictions = rf.predict(X_test2)\n",
        "errors = mean_squared_error(y_test, predictions)\n",
        "# Print out the mean square error (mse)\n",
        "print('Mean square Error:', round(errors, 6))"
      ],
      "execution_count": 0,
      "outputs": [
        {
          "output_type": "stream",
          "text": [
            "Mean square Error: 0.210892\n"
          ],
          "name": "stdout"
        }
      ]
    },
    {
      "cell_type": "markdown",
      "metadata": {
        "id": "25MSHx2Ib4Nv",
        "colab_type": "text"
      },
      "source": [
        "# Selección de catacteristicas usando Random Forest Regressor"
      ]
    },
    {
      "cell_type": "markdown",
      "metadata": {
        "id": "Ll2Vbzxb6hx2",
        "colab_type": "text"
      },
      "source": [
        "Se usará un modelo random Forest regressor para identificar cuales son las variables a las que menos peso se da, luego se elimiaran dichas variables y se probara el beneficio del modelo usando el metodo de envoltura. Dejaremos las variables categoricas por fuera de este analisis por las razones explicadas anteriormente."
      ]
    },
    {
      "cell_type": "code",
      "metadata": {
        "id": "-cbIC-Tvb7g7",
        "colab_type": "code",
        "outputId": "c78e9b93-3a67-4234-f3cf-69f0d479c452",
        "colab": {
          "base_uri": "https://localhost:8080/",
          "height": 119
        }
      },
      "source": [
        "rf = RandomForestRegressor(n_estimators = 1000, random_state = 42)\n",
        "# Train the model on training data\n",
        "rf.fit(X_train, y_train);\n",
        "predictions = rf.predict(X_test)\n",
        "errors = mean_squared_error(y_test, predictions)\n",
        "# Print out the mean square error (mse)\n",
        "print('Mean square Error:', round(errors, 6))\n",
        "print(X_train.columns)\n",
        "print(rf.feature_importances_)"
      ],
      "execution_count": 0,
      "outputs": [
        {
          "output_type": "stream",
          "text": [
            "Mean square Error: 0.22102\n",
            "Index(['MYCT', 'MMIN', 'MMAX', 'CACH', 'CHMIN', 'CHMAX', 'vendorName',\n",
            "       'modelName'],\n",
            "      dtype='object')\n",
            "[0.0300286  0.04595158 0.26393543 0.47801058 0.0521388  0.08336186\n",
            " 0.01479045 0.03178271]\n"
          ],
          "name": "stdout"
        }
      ]
    },
    {
      "cell_type": "code",
      "metadata": {
        "id": "leGiAxf0e79u",
        "colab_type": "code",
        "outputId": "15eb7b84-971d-496b-a495-aafe07fe331f",
        "colab": {
          "base_uri": "https://localhost:8080/",
          "height": 85
        }
      },
      "source": [
        "X_train2 = X_train.drop(['MYCT'], axis=1)\n",
        "X_test2 = X_test.drop(['MYCT'], axis=1)\n",
        "rf = RandomForestRegressor(n_estimators = 1000, random_state = 42)\n",
        "# Train the model on training data\n",
        "rf.fit(X_train2, y_train);\n",
        "predictions = rf.predict(X_test2)\n",
        "errors = mean_squared_error(y_test, predictions)\n",
        "# Print out the mean square error (mse)\n",
        "print('Mean square Error:', round(errors, 6))\n",
        "print(X_train2.columns)\n",
        "print(rf.feature_importances_)"
      ],
      "execution_count": 0,
      "outputs": [
        {
          "output_type": "stream",
          "text": [
            "Mean square Error: 0.214816\n",
            "Index(['MMIN', 'MMAX', 'CACH', 'CHMIN', 'CHMAX', 'vendorName', 'modelName'], dtype='object')\n",
            "[0.05178876 0.26790231 0.48060454 0.05500355 0.08893614 0.0185853\n",
            " 0.03717939]\n"
          ],
          "name": "stdout"
        }
      ]
    },
    {
      "cell_type": "code",
      "metadata": {
        "id": "FQMIEgbORUEl",
        "colab_type": "code",
        "colab": {}
      },
      "source": [
        "X_train2 = X_train.drop(['MYCT','MMIN'], axis=1)\n",
        "X_test2 = X_test.drop(['MYCT','MMIN'], axis=1)\n",
        "rf = RandomForestRegressor(n_estimators = 1000, random_state = 42)\n",
        "# Train the model on training data\n",
        "rf.fit(X_train2, y_train);\n",
        "predictions = rf.predict(X_test2)\n",
        "errors = mean_squared_error(y_test, predictions)\n",
        "# Print out the mean square error (mse)\n",
        "print('Mean square Error:', round(errors, 6))\n",
        "print(X_train2.columns)\n",
        "print(rf.feature_importances_)"
      ],
      "execution_count": 0,
      "outputs": []
    },
    {
      "cell_type": "markdown",
      "metadata": {
        "id": "FOgvy2x0RixZ",
        "colab_type": "text"
      },
      "source": [
        "Al eliminar la variable MMIN nuestro modelo empeora en rendimiento por lo tanto procedemos a dejar MMIN y quitar CHMIN."
      ]
    },
    {
      "cell_type": "code",
      "metadata": {
        "colab_type": "code",
        "outputId": "1a7505fa-b970-4a82-9649-8f28aea95b5d",
        "id": "eeBWYKLUg09p",
        "colab": {
          "base_uri": "https://localhost:8080/",
          "height": 68
        }
      },
      "source": [
        "X_train2 = X_train.drop(['MYCT','CHMIN'], axis=1)\n",
        "X_test2 = X_test.drop(['MYCT','CHMIN'], axis=1)\n",
        "rf = RandomForestRegressor(n_estimators = 1000, random_state = 42)\n",
        "# Train the model on training data\n",
        "rf.fit(X_train2, y_train);\n",
        "predictions = rf.predict(X_test2)\n",
        "errors = mean_squared_error(y_test, predictions)\n",
        "# Print out the mean square error (mse)\n",
        "print('Mean square Error:', round(errors, 6))\n",
        "print(X_train2.columns)\n",
        "print(rf.feature_importances_)"
      ],
      "execution_count": 0,
      "outputs": [
        {
          "output_type": "stream",
          "text": [
            "Mean square Error: 0.1993\n",
            "Index(['MMIN', 'MMAX', 'CACH', 'CHMAX', 'vendorName', 'modelName'], dtype='object')\n",
            "[0.06540613 0.2788345  0.48981192 0.10274826 0.01990156 0.04329762]\n"
          ],
          "name": "stdout"
        }
      ]
    },
    {
      "cell_type": "code",
      "metadata": {
        "id": "rDR3iE8Rf_Bw",
        "colab_type": "code",
        "colab": {}
      },
      "source": [
        ""
      ],
      "execution_count": 0,
      "outputs": []
    }
  ]
}